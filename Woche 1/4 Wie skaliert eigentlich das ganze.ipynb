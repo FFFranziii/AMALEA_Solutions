{
 "cells": [
  {
   "cell_type": "code",
   "execution_count": 1,
   "metadata": {},
   "outputs": [
    {
     "name": "stderr",
     "output_type": "stream",
     "text": [
      "Der Befehl \"wget\" ist entweder falsch geschrieben oder\n",
      "konnte nicht gefunden werden.\n",
      "Der Befehl \"wget\" ist entweder falsch geschrieben oder\n",
      "konnte nicht gefunden werden.\n"
     ]
    }
   ],
   "source": [
    "# [Nur Colab] Diese Zellen müssen nur auf *Google Colab* ausgeführt werden und installieren Packete und Daten\n",
    "!wget -q https://raw.githubusercontent.com/KI-Campus/AMALEA/master/requirements.txt && pip install --quiet -r requirements.txt\n",
    "!wget --quiet \"https://github.com/KI-Campus/AMALEA/releases/download/data/data.zip\" && unzip -q data.zip"
   ]
  },
  {
   "cell_type": "markdown",
   "metadata": {},
   "source": [
    "# Wie skaliert eigentlich das ganze?"
   ]
  },
  {
   "cell_type": "markdown",
   "metadata": {},
   "source": [
    "## Machine Learning Daten skalieren\n",
    "\n",
    "Nun, da wir in der Lage sind, unsere Rohdaten zu laden und analysieren, können wir zum nächsten großen Schritt der Datenvorverarbeitung übergehen, dem Skalieren von Daten. Viele Machine-Learning Algorithmen erwarten skalierte Eingangsdaten. In diesem Kapitel werden wir lernen, wie Daten normalisiert und standardisiert werden können und wie wir entscheiden können, welches Verfahren das richtige ist. Dies ist vor allem für künstliche Neuronale Netze sowie Deep Learning wichtig.\n",
    "\n",
    "### Daten normalisieren\n",
    "\n",
    "Der Begriff Normalisieren sollte bereits aus der Mathematik bekannt sein. Dabei werden die Werte so angepasst, dass sie sich auf einer Skala zwischen 0 und 1 bewegen. Dazu brauchen wir den maximalen und den minimalen Wert jedes Attributs die wir durch einfaches Iterieren über die Werte finden können.\n",
    "\n",
    "<div class=\"alert alert-block alert-success\">\n",
    "<b>Aufgabe 1.4.1:</b> Schreiben Sie eine Funktion <code>dataset_minmax()</code>, die das Minimum und Maximum jedes Attributs findet.\n",
    "<ul>\n",
    "    <li> Hinweis: Die Funktion hat den Datensatz als Eingangsvariable und gibt eine Liste an Tupeln (Min, Max) für jede Spalte zurück.\n",
    "\n",
    "</ul>\n",
    "</div>"
   ]
  },
  {
   "cell_type": "code",
   "execution_count": 2,
   "metadata": {},
   "outputs": [],
   "source": [
    "# DO NOT change this cell\n",
    "from pandas import read_csv\n",
    "import pandas as pd\n",
    "\n",
    "filename = 'data/pima-indians-diabetes.csv'\n",
    "names = ['preg', 'plas', 'pres', 'skin', 'test', 'mass', 'pedi', 'age', 'class']\n",
    "data = read_csv(filename, names=names)\n"
   ]
  },
  {
   "cell_type": "code",
   "execution_count": 3,
   "metadata": {},
   "outputs": [
    {
     "name": "stdout",
     "output_type": "stream",
     "text": [
      "   First  Second\n",
      "0     50      20\n",
      "1     30      90\n",
      "[(30, 50), (20, 90)]\n"
     ]
    }
   ],
   "source": [
    "# Find the min and max values for each column\n",
    "def dataset_minmax(dataset: pd.DataFrame):\n",
    "    z,s=dataset.shape\n",
    "    ### STUDENT CODE HERE\n",
    "    minmax=[]\n",
    "    for i in range(s):\n",
    "        name=dataset.columns[i]\n",
    "        minmax.append(tuple([min(dataset[name]),max(dataset[name])]))\n",
    "    ### STUDENT CODE until HERE\n",
    "    return minmax\n",
    "\n",
    "# small test dataset\n",
    "dataset = pd.DataFrame({'First' : [50, 30], 'Second' : [20, 90]})\n",
    "print(dataset)\n",
    "\n",
    "# Calculate min and max for each column\n",
    "minmax = dataset_minmax(dataset)\n",
    "print(minmax)"
   ]
  },
  {
   "cell_type": "markdown",
   "metadata": {},
   "source": [
    "Jetzt sind wir in der Lage, das Minimum und das Maximum jeder Spalte zu finden. Mit Hilfe dieser Werte und der folgenden Formel können wir dann unsere Werte normalisieren. \n",
    "\n",
    "$$scaled\\, value = \\frac{value - min}{max-min}$$\n",
    "\n",
    "<div class=\"alert alert-block alert-success\">\n",
    "<b>Aufgabe 1.4.2:</b> Implementieren Sie diese Formel in der Funktion <code>normalize_dataset()</code>.\n",
    "<ul>\n",
    "    <li> Hinweis: Die Funktion hat den Datensatz und die Min-Max Werte als Eingangsvariablen und gibt den normalisierten Datensatz zurück.\n",
    "\n",
    "</ul>\n",
    "</div>"
   ]
  },
  {
   "cell_type": "code",
   "execution_count": 4,
   "metadata": {},
   "outputs": [],
   "source": [
    "def normalize_dataset1(dataset: pd.DataFrame, minmax: list):\n",
    "    \n",
    "    return_dataset = dataset.copy(deep=True)\n",
    "    \n",
    "    ### STUDENT CODE HERE\n",
    "    z,s=dataset.shape\n",
    "    for i in range(s):\n",
    "        name=dataset.columns[i]\n",
    "        min1=minmax[i][0]\n",
    "        max1=minmax[i][1]\n",
    "        return_dataset[name]=(return_dataset[name]-min1)/(max1-min1)\n",
    "        print(return_dataset)\n",
    "    ### STUDENT CODE until HERE\n",
    "            \n",
    "    return return_dataset\n",
    "def normalize_dataset(dataset: pd.DataFrame, minmax: list):\n",
    "    \n",
    "    return_dataset = dataset.copy(deep=True)\n",
    "    \n",
    "    ### STUDENT CODE HERE\n",
    "    z,s=dataset.shape\n",
    "    for i in range(s):\n",
    "        name=dataset.columns[i]\n",
    "        min1=minmax[i][0]\n",
    "        max1=minmax[i][1]\n",
    "        return_dataset[name]=(return_dataset[name]-min1)/(max1-min1)\n",
    "        # print(return_dataset)\n",
    "    ### STUDENT CODE until HERE\n",
    "            \n",
    "    return return_dataset\n",
    "# normalize_dataset(dataset,minmax)"
   ]
  },
  {
   "cell_type": "markdown",
   "metadata": {},
   "source": [
    "Wenn wir nun die gerade implementierten Funktionen kombinieren, können wir unseren Datensatz problemlos normalisieren. "
   ]
  },
  {
   "cell_type": "code",
   "execution_count": 5,
   "metadata": {},
   "outputs": [
    {
     "name": "stdout",
     "output_type": "stream",
     "text": [
      "   First  Second  Third\n",
      "0     50      20     30\n",
      "1     30      90     40\n",
      "[(30, 50), (20, 90), (30, 40)]\n",
      "   First  Second  Third\n",
      "0    1.0     0.0    0.0\n",
      "1    0.0     1.0    1.0\n"
     ]
    }
   ],
   "source": [
    "# Again a small test dataset\n",
    "dataset =  pd.DataFrame({'First' : [50, 30], 'Second' : [20, 90], 'Third' : [30, 40]})\n",
    "print(dataset)\n",
    "\n",
    "# Calculate min and max for each column\n",
    "minmax = dataset_minmax(dataset)\n",
    "print(minmax)\n",
    "\n",
    "# Normalize columns\n",
    "dataset = normalize_dataset(dataset, minmax)\n",
    "print(dataset)"
   ]
  },
  {
   "cell_type": "markdown",
   "metadata": {},
   "source": [
    "Jetzt müssen wir nur noch alles zusammensetzten.\n",
    "\n",
    "<div class=\"alert alert-block alert-success\">\n",
    "<b>Aufgabe 1.4.3:</b> Implementieren Sie die Funktion <code>load_normalized_csv()</code>, die eine CSV Datei lädt und die Daten anschließend normalisiert. Gehen Sie davon aus, dass keine Header-Informationen vorhanden sind.\n",
    "</div>"
   ]
  },
  {
   "cell_type": "code",
   "execution_count": 6,
   "metadata": {},
   "outputs": [
    {
     "name": "stdout",
     "output_type": "stream",
     "text": [
      "            6       148        72        35         0      33.6     0.627  \\\n",
      "0    0.058824  0.427136  0.540984  0.292929  0.000000  0.396423  0.116567   \n",
      "1    0.470588  0.919598  0.524590  0.000000  0.000000  0.347243  0.253629   \n",
      "2    0.058824  0.447236  0.540984  0.232323  0.111111  0.418778  0.038002   \n",
      "3    0.000000  0.688442  0.327869  0.353535  0.198582  0.642325  0.943638   \n",
      "4    0.294118  0.582915  0.606557  0.000000  0.000000  0.381520  0.052519   \n",
      "..        ...       ...       ...       ...       ...       ...       ...   \n",
      "762  0.588235  0.507538  0.622951  0.484848  0.212766  0.490313  0.039710   \n",
      "763  0.117647  0.613065  0.573770  0.272727  0.000000  0.548435  0.111870   \n",
      "764  0.294118  0.608040  0.590164  0.232323  0.132388  0.390462  0.071307   \n",
      "765  0.058824  0.633166  0.491803  0.000000  0.000000  0.448584  0.115713   \n",
      "766  0.058824  0.467337  0.573770  0.313131  0.000000  0.453055  0.101196   \n",
      "\n",
      "           50    1  \n",
      "0    0.166667  0.0  \n",
      "1    0.183333  1.0  \n",
      "2    0.000000  0.0  \n",
      "3    0.200000  1.0  \n",
      "4    0.150000  0.0  \n",
      "..        ...  ...  \n",
      "762  0.700000  0.0  \n",
      "763  0.100000  0.0  \n",
      "764  0.150000  0.0  \n",
      "765  0.433333  1.0  \n",
      "766  0.033333  0.0  \n",
      "\n",
      "[767 rows x 9 columns]\n"
     ]
    }
   ],
   "source": [
    "def load_normalized_csv(filename: str):\n",
    "    \n",
    "    ### STUDENT CODE HERE\n",
    "    df=pd.read_csv(filename)\n",
    "    minmax=dataset_minmax(df)\n",
    "    df_new=normalize_dataset(df,minmax)\n",
    "    return df_new\n",
    "    ### STUDENT CODE until HERE\n",
    "\n",
    "## Test:\n",
    "filename = 'data/pima-indians-diabetes.csv'\n",
    "\n",
    "dataset = load_normalized_csv(filename)\n",
    "\n",
    "print(dataset)"
   ]
  },
  {
   "cell_type": "markdown",
   "metadata": {},
   "source": [
    "### Standardize data\n",
    "\n",
    "Beim Standardisieren zentriert man seine Verteilung um 0 und setzt die Standardabweichung auf 1. Dadurch ergibt sich eine Gaußsche Normalverteilung, auch bekannt als Glockenkurve.\n",
    "\n",
    "Um standardisieren zu können, benötigen wir den Mittelwert und die Standardabweichung jeder Spalte unseres Datensets. Daher werden wir nun zunächst eine Funktion schreiben, die den Mittelwert jeder Spalte mit Hilfe der folgenden Formel berechnet:\n",
    "\n",
    "$$\\bar{x} = \\frac{\\sum_{n=0}^{N-1} x_n}{N}$$\n"
   ]
  },
  {
   "cell_type": "markdown",
   "metadata": {},
   "source": [
    "<div class=\"alert alert-block alert-success\">\n",
    "<b>Aufgabe 1.4.4:</b> Schreiben Sie die Funktion <code>column_means()</code>, die den Mittelwert für jede Spalte im Datensatz zurückgibt.\n",
    "</div>"
   ]
  },
  {
   "cell_type": "code",
   "execution_count": 7,
   "metadata": {},
   "outputs": [],
   "source": [
    "def column_means(dataset: pd.DataFrame):\n",
    "    \n",
    "    ### STUDENT CODE HERE\n",
    "    z,s=dataset.shape\n",
    "    means=[]\n",
    "    for i in range(s):\n",
    "        name=dataset.columns[i]\n",
    "        means.append(sum(dataset[name])/z)\n",
    "    ### STUDENT CODE until HERE\n",
    "    \n",
    "    return means"
   ]
  },
  {
   "cell_type": "markdown",
   "metadata": {},
   "source": [
    "Wie wahrscheinlich bereits aus der Wahrscheinlichkeitstheorie bekannt, beschreibt die empirische Standardabweichung die durchschnittliche Streuung der Werte um den Mittelwert. Die nachfolgende Formel soll dabei helfen, eine Funktion zu schreiben, die die Standardabweichung berechnet.\n",
    "\n",
    "\n",
    "$$ s = \\sqrt{\\frac{\\sum\\nolimits_{n=0}^{N-1}(x_n - \\bar{x})^2}{N}}$$\n"
   ]
  },
  {
   "cell_type": "markdown",
   "metadata": {},
   "source": [
    "<div class=\"alert alert-block alert-success\">\n",
    "<b>Aufgabe 1.4.5:</b> Schreiben Sie eine Funktion <code>column_stdevs()</code>, die für jede Spalte die Standardabweichung mit der gegebenen Formel berechnet und in einer Liste zurückgibt.\n",
    "</div>"
   ]
  },
  {
   "cell_type": "code",
   "execution_count": 8,
   "metadata": {},
   "outputs": [],
   "source": [
    "from math import sqrt\n",
    "\n",
    "def column_stdevs(dataset: pd.DataFrame, means: list):\n",
    "    \n",
    "    ### STUDENT CODE HERE\n",
    "    z,s=dataset.shape\n",
    "    stds=[]\n",
    "    means=column_means(dataset)\n",
    "\n",
    "    for i in range(s):\n",
    "        name=dataset.columns[i]\n",
    "\n",
    "        stds.append(sqrt(sum((dataset[name]-means[i])**2)/z))\n",
    "        \n",
    "    ### STUDENT CODE until HERE\n",
    "        \n",
    "    return stds"
   ]
  },
  {
   "cell_type": "markdown",
   "metadata": {},
   "source": [
    "Jetzt können wir unsere Mittelwert und Standardabweichung Funktionen mit einem kleinen Beispiel testen."
   ]
  },
  {
   "cell_type": "code",
   "execution_count": 9,
   "metadata": {},
   "outputs": [
    {
     "name": "stdout",
     "output_type": "stream",
     "text": [
      "   First  Second  Third\n",
      "0     50      20     30\n",
      "1     30      90     50\n",
      "[40.0, 55.0, 40.0]\n",
      "[10.0, 35.0, 10.0]\n"
     ]
    }
   ],
   "source": [
    "dataset = pd.DataFrame({'First' : [50, 30], 'Second' : [20, 90], 'Third' : [30, 50]})\n",
    "print(dataset)\n",
    "      \n",
    "means = column_means(dataset)\n",
    "print(means)\n",
    "      \n",
    "stdevs = column_stdevs(dataset, means)\n",
    "print(stdevs)"
   ]
  },
  {
   "cell_type": "markdown",
   "metadata": {},
   "source": [
    "Wir haben nun alle Tools, um unsere Daten standardisieren zu können."
   ]
  },
  {
   "cell_type": "markdown",
   "metadata": {},
   "source": [
    "<div class=\"alert alert-block alert-success\">\n",
    "<b>Aufgabe 1.4.6:</b> Implementieren Sie die Funktion <code>standardize_dataset()</code>, die die Werte im Datensatz standardisiert.\n",
    "</div>"
   ]
  },
  {
   "cell_type": "code",
   "execution_count": 14,
   "metadata": {},
   "outputs": [],
   "source": [
    "def standardize_dataset(dataset: pd.DataFrame, means: list, stdevs: list):\n",
    "    return_dataset = dataset.copy(deep=True)\n",
    "    z,s=dataset.shape\n",
    "    ### STUDENT CODE HERE\n",
    "    for i in range(s):\n",
    "        name=dataset.columns[i]\n",
    "        return_dataset[name]=(return_dataset[name]-means[i])/stdevs[i]\n",
    "\n",
    "    ### STUDENT CODE until HERE\n",
    "    \n",
    "    return return_dataset"
   ]
  },
  {
   "cell_type": "markdown",
   "metadata": {},
   "source": [
    "Jetzt ist es an der Zeit, alles zusammen zu setzten und die Standardisierungsfunktion zu testen.\n",
    "\n",
    "<div class=\"alert alert-block alert-success\">\n",
    "<b>Aufgabe 1.4.7:</b> Führen Sie alle benötigten Funktionen aus und geben Sie die Daten in einem Histogramm aus.\n",
    "</div>"
   ]
  },
  {
   "cell_type": "code",
   "execution_count": 15,
   "metadata": {},
   "outputs": [
    {
     "name": "stdout",
     "output_type": "stream",
     "text": [
      "   First  Second  Third\n",
      "0     50      20     30\n",
      "1     10      25     40\n",
      "2     30      90     50\n",
      "      First    Second     Third\n",
      "0  1.224745 -0.784063 -1.224745\n",
      "1 -1.224745 -0.627250  0.000000\n",
      "2  0.000000  1.411313  1.224745\n"
     ]
    },
    {
     "data": {
      "image/png": "[encoded data removed]",
      "text/plain": [
       "<Figure size 640x480 with 1 Axes>"
      ]
     },
     "metadata": {},
     "output_type": "display_data"
    }
   ],
   "source": [
    "import pandas as pd\n",
    "import matplotlib.pyplot as plt\n",
    "\n",
    "\n",
    "dataset = pd.DataFrame({'First' : [50, 10, 30], 'Second' : [20, 25, 90], 'Third' : [30, 40, 50]})\n",
    "print(dataset)\n",
    "\n",
    "### STUDENT CODE HERE\n",
    "means=column_means(dataset)\n",
    "stds=column_stdevs(dataset,means)\n",
    "standardized_dataset=standardize_dataset(dataset,means,stds)\n",
    "print(standardized_dataset)\n",
    "plt.hist(standardized_dataset)\n",
    "plt.show()\n",
    "### STUDENT CODE until HERE\n"
   ]
  },
  {
   "cell_type": "markdown",
   "metadata": {},
   "source": [
    "Lass uns nun eine Funktion schreiben, die eine CSV Datei einließt und standardisiert.\n",
    "\n",
    "<div class=\"alert alert-block alert-success\">\n",
    "<b>Aufgabe 1.4.8:</b> Vervollständigen Sie die <code>load_standardized_csv()</code> Funktion, die eine Datei einliest und den standardisierten Datensatz zurückgibt.\n",
    "</div>\n",
    "\n"
   ]
  },
  {
   "cell_type": "code",
   "execution_count": 16,
   "metadata": {},
   "outputs": [
    {
     "name": "stdout",
     "output_type": "stream",
     "text": [
      "          6       148        72        35         0      33.6     0.627  \\\n",
      "0 -0.843726 -1.122086 -0.160249  0.532023 -0.693559 -0.683729 -0.364265   \n",
      "1  1.234240  1.944476 -0.263578 -1.286882 -0.693559 -1.102301  0.604701   \n",
      "2 -0.843726 -0.996920 -0.160249  0.155698  0.122357 -0.493469 -0.919684   \n",
      "3 -1.140579  0.505069 -1.503534  0.908349  0.764674  1.409132  5.482732   \n",
      "4  0.343683 -0.152051  0.253070 -1.286882 -0.693559 -0.810569 -0.817052   \n",
      "\n",
      "         50         1  \n",
      "0 -0.188940 -0.730753  \n",
      "1 -0.103795  1.368451  \n",
      "2 -1.040393 -0.730753  \n",
      "3 -0.018650  1.368451  \n",
      "4 -0.274086 -0.730753  \n"
     ]
    }
   ],
   "source": [
    "def load_standardized_csv(filename: str):\n",
    "    \n",
    "    ### STUDENT CODE HERE\n",
    "    df=pd.read_csv(filename)\n",
    "    means=column_means(df)\n",
    "    stds=column_stdevs(df,means)\n",
    "    standardized_dataset=standardize_dataset(df,means,stds)\n",
    "    ### STUDENT CODE until HERE\n",
    "    return standardized_dataset\n",
    "\n",
    "## Test:\n",
    "filename = 'data/pima-indians-diabetes.csv'\n",
    "\n",
    "dataset = load_standardized_csv(filename)\n",
    "\n",
    "print(dataset.head())"
   ]
  },
  {
   "cell_type": "markdown",
   "metadata": {},
   "source": [
    "### Wann normalisieren und wann standardisieren?\n",
    "\n",
    "Neben den beiden vorgestellten Methoden gibt es viele weitere Arten der Datentransformation. \n",
    "Allgemein zielen diese Transformation immer darauf ab, Strukturen der Daten bestmöglich für den Lernalgorithmus offen zu legen. \n",
    "Die passende Transformationsmethode ist vom Anwendungsfall abhängig, sodass es im Allgemeinen nicht möglich ist, eine bestimmte Transformationsmethode einem bestimmten maschinellen Lernalgorithmus zuzuordnen.\n",
    "Manchmal ist allerdings nicht offensichtlich, welcher Transformationstyp der beste ist. In solch einem Fall muss man ausprobieren, welcher Algorithmus der passendste ist („Trial and Error“)."
   ]
  },
  {
   "cell_type": "markdown",
   "metadata": {},
   "source": [
    "## Daten für Machine-Learning vorbereiten\n",
    "\n",
    "Dies ist das letzte Kapitel zur Datenvorverarbeitung. Wie wir im vorangegangenen Kapitel gelernt haben, ist es sinnvoll, seine Daten zu verarbeiten und somit ihre besondere Struktur offenlegen. Dazu haben wir ein einfaches Python Programm geschrieben. Nun gehen wir noch einen Schritt weiter, in dem wir das Paket _scikit-learn_ verwenden. Nach dieser Aufgabe werden wir in der Lage sein, Daten zu normalisieren, standardisieren und binarisieren. \n",
    "\n",
    "Die scikit-learn Library enthält zwei verschiedene Standardwege, um Daten zu ztansformieren."
   ]
  },
  {
   "cell_type": "markdown",
   "metadata": {},
   "source": [
    "<div class=\"alert alert-block alert-success\">\n",
    "<b>Frage 1.4.9:</b> Recherchiere und beschreibe die Unterschiede.\n",
    "</div>\n",
    "\n",
    "<div class=\"alert alert-block alert-success\">\n",
    "<b>Ihre Antwort:</b>Standardscaler und Minmaxscaler</div>\n"
   ]
  },
  {
   "cell_type": "markdown",
   "metadata": {},
   "source": [
    "### Daten Normalisieren\n",
    "\n",
    "Beim Normalisieren eines Datensatzes wird der größte Wert 1. Das ist hilfreich bei Datensätzen, die viele Nullen und unterschiedliche Skalen aufweisen. \n",
    "\n",
    "Mit Hilfe von scikit-learn können Daten mit der `MinMaxScaler` Klasse normalisiert werden."
   ]
  },
  {
   "cell_type": "markdown",
   "metadata": {},
   "source": [
    "<div class=\"alert alert-block alert-success\">\n",
    "<b>Aufgabe 1.4.10:</b> Min-Max-Normalisieren Sie die Daten aus dem Diabetes-Beispiel mit scikit-learn, indem Sie den <code>MinMaxScaler</code> verwenden, und speichern Sie sie in der Variable <code>dataframe_normalized</code>.\n",
    "</div>"
   ]
  },
  {
   "cell_type": "code",
   "execution_count": 28,
   "metadata": {},
   "outputs": [
    {
     "data": {
      "application/vnd.microsoft.datawrangler.viewer.v0+json": {
       "columns": [
        {
         "name": "index",
         "rawType": "int64",
         "type": "integer"
        },
        {
         "name": "preg",
         "rawType": "float64",
         "type": "float"
        },
        {
         "name": "plas",
         "rawType": "float64",
         "type": "float"
        },
        {
         "name": "pres",
         "rawType": "float64",
         "type": "float"
        },
        {
         "name": "skin",
         "rawType": "float64",
         "type": "float"
        },
        {
         "name": "test",
         "rawType": "float64",
         "type": "float"
        },
        {
         "name": "mass",
         "rawType": "float64",
         "type": "float"
        },
        {
         "name": "pedi",
         "rawType": "float64",
         "type": "float"
        },
        {
         "name": "age",
         "rawType": "float64",
         "type": "float"
        },
        {
         "name": "class",
         "rawType": "float64",
         "type": "float"
        }
       ],
       "ref": "27dcbc68-537f-4b5d-b8ca-0ddcb73295a9",
       "rows": [
        [
         "0",
         "0.058823529411764705",
         "0.4271356783919598",
         "0.5409836065573771",
         "0.29292929292929293",
         "0.0",
         "0.3964232488822653",
         "0.11656703672075149",
         "0.16666666666666663",
         "0.0"
        ],
        [
         "1",
         "0.47058823529411764",
         "0.9195979899497487",
         "0.5245901639344263",
         "0.0",
         "0.0",
         "0.34724292101341286",
         "0.25362937660119556",
         "0.18333333333333335",
         "1.0"
        ],
        [
         "2",
         "0.058823529411764705",
         "0.4472361809045226",
         "0.5409836065573771",
         "0.23232323232323235",
         "0.1111111111111111",
         "0.41877794336810736",
         "0.038001707941929974",
         "0.0",
         "0.0"
        ],
        [
         "3",
         "0.0",
         "0.6884422110552764",
         "0.3278688524590164",
         "0.3535353535353536",
         "0.19858156028368795",
         "0.6423248882265277",
         "0.9436379163108453",
         "0.20000000000000007",
         "1.0"
        ],
        [
         "4",
         "0.29411764705882354",
         "0.5829145728643216",
         "0.6065573770491803",
         "0.0",
         "0.0",
         "0.3815201192250373",
         "0.05251921434671221",
         "0.15000000000000002",
         "0.0"
        ]
       ],
       "shape": {
        "columns": 9,
        "rows": 5
       }
      },
      "text/html": [
       "<div>\n",
       "<style scoped>\n",
       "    .dataframe tbody tr th:only-of-type {\n",
       "        vertical-align: middle;\n",
       "    }\n",
       "\n",
       "    .dataframe tbody tr th {\n",
       "        vertical-align: top;\n",
       "    }\n",
       "\n",
       "    .dataframe thead th {\n",
       "        text-align: right;\n",
       "    }\n",
       "</style>\n",
       "<table border=\"1\" class=\"dataframe\">\n",
       "  <thead>\n",
       "    <tr style=\"text-align: right;\">\n",
       "      <th></th>\n",
       "      <th>preg</th>\n",
       "      <th>plas</th>\n",
       "      <th>pres</th>\n",
       "      <th>skin</th>\n",
       "      <th>test</th>\n",
       "      <th>mass</th>\n",
       "      <th>pedi</th>\n",
       "      <th>age</th>\n",
       "      <th>class</th>\n",
       "    </tr>\n",
       "  </thead>\n",
       "  <tbody>\n",
       "    <tr>\n",
       "      <th>0</th>\n",
       "      <td>0.058824</td>\n",
       "      <td>0.427136</td>\n",
       "      <td>0.540984</td>\n",
       "      <td>0.292929</td>\n",
       "      <td>0.000000</td>\n",
       "      <td>0.396423</td>\n",
       "      <td>0.116567</td>\n",
       "      <td>0.166667</td>\n",
       "      <td>0.0</td>\n",
       "    </tr>\n",
       "    <tr>\n",
       "      <th>1</th>\n",
       "      <td>0.470588</td>\n",
       "      <td>0.919598</td>\n",
       "      <td>0.524590</td>\n",
       "      <td>0.000000</td>\n",
       "      <td>0.000000</td>\n",
       "      <td>0.347243</td>\n",
       "      <td>0.253629</td>\n",
       "      <td>0.183333</td>\n",
       "      <td>1.0</td>\n",
       "    </tr>\n",
       "    <tr>\n",
       "      <th>2</th>\n",
       "      <td>0.058824</td>\n",
       "      <td>0.447236</td>\n",
       "      <td>0.540984</td>\n",
       "      <td>0.232323</td>\n",
       "      <td>0.111111</td>\n",
       "      <td>0.418778</td>\n",
       "      <td>0.038002</td>\n",
       "      <td>0.000000</td>\n",
       "      <td>0.0</td>\n",
       "    </tr>\n",
       "    <tr>\n",
       "      <th>3</th>\n",
       "      <td>0.000000</td>\n",
       "      <td>0.688442</td>\n",
       "      <td>0.327869</td>\n",
       "      <td>0.353535</td>\n",
       "      <td>0.198582</td>\n",
       "      <td>0.642325</td>\n",
       "      <td>0.943638</td>\n",
       "      <td>0.200000</td>\n",
       "      <td>1.0</td>\n",
       "    </tr>\n",
       "    <tr>\n",
       "      <th>4</th>\n",
       "      <td>0.294118</td>\n",
       "      <td>0.582915</td>\n",
       "      <td>0.606557</td>\n",
       "      <td>0.000000</td>\n",
       "      <td>0.000000</td>\n",
       "      <td>0.381520</td>\n",
       "      <td>0.052519</td>\n",
       "      <td>0.150000</td>\n",
       "      <td>0.0</td>\n",
       "    </tr>\n",
       "  </tbody>\n",
       "</table>\n",
       "</div>"
      ],
      "text/plain": [
       "       preg      plas      pres      skin      test      mass      pedi  \\\n",
       "0  0.058824  0.427136  0.540984  0.292929  0.000000  0.396423  0.116567   \n",
       "1  0.470588  0.919598  0.524590  0.000000  0.000000  0.347243  0.253629   \n",
       "2  0.058824  0.447236  0.540984  0.232323  0.111111  0.418778  0.038002   \n",
       "3  0.000000  0.688442  0.327869  0.353535  0.198582  0.642325  0.943638   \n",
       "4  0.294118  0.582915  0.606557  0.000000  0.000000  0.381520  0.052519   \n",
       "\n",
       "        age  class  \n",
       "0  0.166667    0.0  \n",
       "1  0.183333    1.0  \n",
       "2  0.000000    0.0  \n",
       "3  0.200000    1.0  \n",
       "4  0.150000    0.0  "
      ]
     },
     "execution_count": 28,
     "metadata": {},
     "output_type": "execute_result"
    }
   ],
   "source": [
    "# Rescale data (between 0 and 1)\n",
    "from pandas import read_csv\n",
    "from sklearn.preprocessing import MinMaxScaler\n",
    "\n",
    "filename = 'data/pima-indians-diabetes.csv'\n",
    "names = ['preg', 'plas', 'pres', 'skin', 'test', 'mass', 'pedi', 'age', 'class']\n",
    "\n",
    "### STUDENT CODE HERE\n",
    "scaler=MinMaxScaler()\n",
    "\n",
    "dataframe_normalized=pd.DataFrame(scaler.fit_transform(pd.read_csv(filename)),columns=names)\n",
    "### STUDENT CODE until HERE\n",
    "\n",
    "dataframe_normalized.head()"
   ]
  },
  {
   "cell_type": "markdown",
   "metadata": {},
   "source": [
    "### Daten Standardisieren\n",
    "\n",
    "Eine weitere Möglichkeit ist die Standardisierung Ihrer Daten, die auch als z-Transformation bezeichnet wird. Das Ergebnis einer Standardisierung ist eine Verteilung mit einem Mittelwert von Null und einer Standardabweichung von 1.\n",
    "\n",
    "Sie können Daten standardisieren, indem Sie die Klasse `StandardScaler` in scikit-learn verwenden.\n",
    "\n",
    "<div class=\"alert alert-block alert-success\">\n",
    "<b>Aufgabe 1.4.11:</b> Standardisieren Sie die Daten des Diabetes-Beispiel mit dem <code>StandardScaler</code> und speichern Sie diese in der Variablen <code>dataframe_standardized</code>\n",
    "</div>"
   ]
  },
  {
   "cell_type": "code",
   "execution_count": 30,
   "metadata": {},
   "outputs": [
    {
     "data": {
      "application/vnd.microsoft.datawrangler.viewer.v0+json": {
       "columns": [
        {
         "name": "index",
         "rawType": "int64",
         "type": "integer"
        },
        {
         "name": "preg",
         "rawType": "float64",
         "type": "float"
        },
        {
         "name": "plas",
         "rawType": "float64",
         "type": "float"
        },
        {
         "name": "pres",
         "rawType": "float64",
         "type": "float"
        },
        {
         "name": "skin",
         "rawType": "float64",
         "type": "float"
        },
        {
         "name": "test",
         "rawType": "float64",
         "type": "float"
        },
        {
         "name": "mass",
         "rawType": "float64",
         "type": "float"
        },
        {
         "name": "pedi",
         "rawType": "float64",
         "type": "float"
        },
        {
         "name": "age",
         "rawType": "float64",
         "type": "float"
        },
        {
         "name": "class",
         "rawType": "float64",
         "type": "float"
        }
       ],
       "ref": "3d211df7-9a54-4588-bb61-5f2ce636be5d",
       "rows": [
        [
         "0",
         "-0.8437262911837038",
         "-1.1220859702581507",
         "-0.16024855824748965",
         "0.5320234764637647",
         "-0.6935592117566833",
         "-0.6837289505753779",
         "-0.36426473997946635",
         "-0.18894037914972342",
         "-0.7307530362578044"
        ],
        [
         "1",
         "1.2342399736627667",
         "1.9444757676862996",
         "-0.2635782296857615",
         "-1.2868818704442462",
         "-0.6935592117566833",
         "-1.1023010504184885",
         "0.6047006417434122",
         "-0.10379509665393141",
         "1.3684513787599335"
        ],
        [
         "2",
         "-0.8437262911837038",
         "-0.9969201850359282",
         "-0.16024855824748965",
         "0.15569823227590038",
         "0.12235685470602188",
         "-0.49346890519214576",
         "-0.9196841488175024",
         "-1.0403932041076436",
         "-0.7307530362578044"
        ],
        [
         "3",
         "-1.1405786147331995",
         "0.5050692376307413",
         "-1.5035342869450237",
         "0.908348720651629",
         "0.7646737580915557",
         "1.4091315486401752",
         "5.482731971538338",
         "-0.01864981415813939",
         "1.3684513787599335"
        ],
        [
         "4",
         "0.34368300301427934",
         "-0.1520511347859266",
         "0.25307012750559776",
         "-1.2868818704442462",
         "-0.6935592117566833",
         "-0.8105689808308659",
         "-0.8170523015322132",
         "-0.27408566164551545",
         "-0.7307530362578044"
        ]
       ],
       "shape": {
        "columns": 9,
        "rows": 5
       }
      },
      "text/html": [
       "<div>\n",
       "<style scoped>\n",
       "    .dataframe tbody tr th:only-of-type {\n",
       "        vertical-align: middle;\n",
       "    }\n",
       "\n",
       "    .dataframe tbody tr th {\n",
       "        vertical-align: top;\n",
       "    }\n",
       "\n",
       "    .dataframe thead th {\n",
       "        text-align: right;\n",
       "    }\n",
       "</style>\n",
       "<table border=\"1\" class=\"dataframe\">\n",
       "  <thead>\n",
       "    <tr style=\"text-align: right;\">\n",
       "      <th></th>\n",
       "      <th>preg</th>\n",
       "      <th>plas</th>\n",
       "      <th>pres</th>\n",
       "      <th>skin</th>\n",
       "      <th>test</th>\n",
       "      <th>mass</th>\n",
       "      <th>pedi</th>\n",
       "      <th>age</th>\n",
       "      <th>class</th>\n",
       "    </tr>\n",
       "  </thead>\n",
       "  <tbody>\n",
       "    <tr>\n",
       "      <th>0</th>\n",
       "      <td>-0.843726</td>\n",
       "      <td>-1.122086</td>\n",
       "      <td>-0.160249</td>\n",
       "      <td>0.532023</td>\n",
       "      <td>-0.693559</td>\n",
       "      <td>-0.683729</td>\n",
       "      <td>-0.364265</td>\n",
       "      <td>-0.188940</td>\n",
       "      <td>-0.730753</td>\n",
       "    </tr>\n",
       "    <tr>\n",
       "      <th>1</th>\n",
       "      <td>1.234240</td>\n",
       "      <td>1.944476</td>\n",
       "      <td>-0.263578</td>\n",
       "      <td>-1.286882</td>\n",
       "      <td>-0.693559</td>\n",
       "      <td>-1.102301</td>\n",
       "      <td>0.604701</td>\n",
       "      <td>-0.103795</td>\n",
       "      <td>1.368451</td>\n",
       "    </tr>\n",
       "    <tr>\n",
       "      <th>2</th>\n",
       "      <td>-0.843726</td>\n",
       "      <td>-0.996920</td>\n",
       "      <td>-0.160249</td>\n",
       "      <td>0.155698</td>\n",
       "      <td>0.122357</td>\n",
       "      <td>-0.493469</td>\n",
       "      <td>-0.919684</td>\n",
       "      <td>-1.040393</td>\n",
       "      <td>-0.730753</td>\n",
       "    </tr>\n",
       "    <tr>\n",
       "      <th>3</th>\n",
       "      <td>-1.140579</td>\n",
       "      <td>0.505069</td>\n",
       "      <td>-1.503534</td>\n",
       "      <td>0.908349</td>\n",
       "      <td>0.764674</td>\n",
       "      <td>1.409132</td>\n",
       "      <td>5.482732</td>\n",
       "      <td>-0.018650</td>\n",
       "      <td>1.368451</td>\n",
       "    </tr>\n",
       "    <tr>\n",
       "      <th>4</th>\n",
       "      <td>0.343683</td>\n",
       "      <td>-0.152051</td>\n",
       "      <td>0.253070</td>\n",
       "      <td>-1.286882</td>\n",
       "      <td>-0.693559</td>\n",
       "      <td>-0.810569</td>\n",
       "      <td>-0.817052</td>\n",
       "      <td>-0.274086</td>\n",
       "      <td>-0.730753</td>\n",
       "    </tr>\n",
       "  </tbody>\n",
       "</table>\n",
       "</div>"
      ],
      "text/plain": [
       "       preg      plas      pres      skin      test      mass      pedi  \\\n",
       "0 -0.843726 -1.122086 -0.160249  0.532023 -0.693559 -0.683729 -0.364265   \n",
       "1  1.234240  1.944476 -0.263578 -1.286882 -0.693559 -1.102301  0.604701   \n",
       "2 -0.843726 -0.996920 -0.160249  0.155698  0.122357 -0.493469 -0.919684   \n",
       "3 -1.140579  0.505069 -1.503534  0.908349  0.764674  1.409132  5.482732   \n",
       "4  0.343683 -0.152051  0.253070 -1.286882 -0.693559 -0.810569 -0.817052   \n",
       "\n",
       "        age     class  \n",
       "0 -0.188940 -0.730753  \n",
       "1 -0.103795  1.368451  \n",
       "2 -1.040393 -0.730753  \n",
       "3 -0.018650  1.368451  \n",
       "4 -0.274086 -0.730753  "
      ]
     },
     "execution_count": 30,
     "metadata": {},
     "output_type": "execute_result"
    }
   ],
   "source": [
    "from pandas import read_csv\n",
    "from sklearn.preprocessing import StandardScaler\n",
    "\n",
    "filename = 'data/pima-indians-diabetes.csv'\n",
    "names = ['preg', 'plas', 'pres', 'skin', 'test', 'mass', 'pedi', 'age', 'class']\n",
    "\n",
    "### STUDENT CODE HERE\n",
    "scaler=StandardScaler()\n",
    "dataframe_standardized=pd.DataFrame(scaler.fit_transform(pd.read_csv(filename)),columns=names)\n",
    "### STUDENT CODE until HERE\n",
    "dataframe_standardized.head()"
   ]
  },
  {
   "cell_type": "markdown",
   "metadata": {},
   "source": [
    "### Daten Binarisieren\n",
    "Eine neue Methode der Datenvorverarbeitung ist die Binarisierung (Engl.: binarization). Hierbei wird ein Schwellenwert festgelegt. Alle Werte über der Schwelle werden zu eins, alle darunter zu null.\n",
    "In scikit-learn kann dies mit Hilfe der Klasse `Binarizer` erreicht werden."
   ]
  },
  {
   "cell_type": "markdown",
   "metadata": {},
   "source": [
    "<div class=\"alert alert-block alert-success\">\n",
    "<b>Aufgabe 1.4.12:</b> \n",
    "    Binarisieren Sie das Diabetes-Beispiel mit einem Schwellenwert von 0,0 und speichern Sie die binarisierten Daten in der Variablen <code>dataframe_binarized</code>\n",
    "</div>"
   ]
  },
  {
   "cell_type": "code",
   "execution_count": 32,
   "metadata": {},
   "outputs": [
    {
     "data": {
      "application/vnd.microsoft.datawrangler.viewer.v0+json": {
       "columns": [
        {
         "name": "index",
         "rawType": "int64",
         "type": "integer"
        },
        {
         "name": "preg",
         "rawType": "float64",
         "type": "float"
        },
        {
         "name": "plas",
         "rawType": "float64",
         "type": "float"
        },
        {
         "name": "pres",
         "rawType": "float64",
         "type": "float"
        },
        {
         "name": "skin",
         "rawType": "float64",
         "type": "float"
        },
        {
         "name": "test",
         "rawType": "float64",
         "type": "float"
        },
        {
         "name": "mass",
         "rawType": "float64",
         "type": "float"
        },
        {
         "name": "pedi",
         "rawType": "float64",
         "type": "float"
        },
        {
         "name": "age",
         "rawType": "float64",
         "type": "float"
        },
        {
         "name": "class",
         "rawType": "float64",
         "type": "float"
        }
       ],
       "ref": "33fa0868-2c4e-49f7-8a2b-10e9e1ddd0ae",
       "rows": [
        [
         "0",
         "1.0",
         "1.0",
         "1.0",
         "1.0",
         "0.0",
         "1.0",
         "1.0",
         "1.0",
         "0.0"
        ],
        [
         "1",
         "1.0",
         "1.0",
         "1.0",
         "0.0",
         "0.0",
         "1.0",
         "1.0",
         "1.0",
         "1.0"
        ],
        [
         "2",
         "1.0",
         "1.0",
         "1.0",
         "1.0",
         "1.0",
         "1.0",
         "1.0",
         "1.0",
         "0.0"
        ],
        [
         "3",
         "0.0",
         "1.0",
         "1.0",
         "1.0",
         "1.0",
         "1.0",
         "1.0",
         "1.0",
         "1.0"
        ],
        [
         "4",
         "1.0",
         "1.0",
         "1.0",
         "0.0",
         "0.0",
         "1.0",
         "1.0",
         "1.0",
         "0.0"
        ]
       ],
       "shape": {
        "columns": 9,
        "rows": 5
       }
      },
      "text/html": [
       "<div>\n",
       "<style scoped>\n",
       "    .dataframe tbody tr th:only-of-type {\n",
       "        vertical-align: middle;\n",
       "    }\n",
       "\n",
       "    .dataframe tbody tr th {\n",
       "        vertical-align: top;\n",
       "    }\n",
       "\n",
       "    .dataframe thead th {\n",
       "        text-align: right;\n",
       "    }\n",
       "</style>\n",
       "<table border=\"1\" class=\"dataframe\">\n",
       "  <thead>\n",
       "    <tr style=\"text-align: right;\">\n",
       "      <th></th>\n",
       "      <th>preg</th>\n",
       "      <th>plas</th>\n",
       "      <th>pres</th>\n",
       "      <th>skin</th>\n",
       "      <th>test</th>\n",
       "      <th>mass</th>\n",
       "      <th>pedi</th>\n",
       "      <th>age</th>\n",
       "      <th>class</th>\n",
       "    </tr>\n",
       "  </thead>\n",
       "  <tbody>\n",
       "    <tr>\n",
       "      <th>0</th>\n",
       "      <td>1.0</td>\n",
       "      <td>1.0</td>\n",
       "      <td>1.0</td>\n",
       "      <td>1.0</td>\n",
       "      <td>0.0</td>\n",
       "      <td>1.0</td>\n",
       "      <td>1.0</td>\n",
       "      <td>1.0</td>\n",
       "      <td>0.0</td>\n",
       "    </tr>\n",
       "    <tr>\n",
       "      <th>1</th>\n",
       "      <td>1.0</td>\n",
       "      <td>1.0</td>\n",
       "      <td>1.0</td>\n",
       "      <td>0.0</td>\n",
       "      <td>0.0</td>\n",
       "      <td>1.0</td>\n",
       "      <td>1.0</td>\n",
       "      <td>1.0</td>\n",
       "      <td>1.0</td>\n",
       "    </tr>\n",
       "    <tr>\n",
       "      <th>2</th>\n",
       "      <td>1.0</td>\n",
       "      <td>1.0</td>\n",
       "      <td>1.0</td>\n",
       "      <td>1.0</td>\n",
       "      <td>1.0</td>\n",
       "      <td>1.0</td>\n",
       "      <td>1.0</td>\n",
       "      <td>1.0</td>\n",
       "      <td>0.0</td>\n",
       "    </tr>\n",
       "    <tr>\n",
       "      <th>3</th>\n",
       "      <td>0.0</td>\n",
       "      <td>1.0</td>\n",
       "      <td>1.0</td>\n",
       "      <td>1.0</td>\n",
       "      <td>1.0</td>\n",
       "      <td>1.0</td>\n",
       "      <td>1.0</td>\n",
       "      <td>1.0</td>\n",
       "      <td>1.0</td>\n",
       "    </tr>\n",
       "    <tr>\n",
       "      <th>4</th>\n",
       "      <td>1.0</td>\n",
       "      <td>1.0</td>\n",
       "      <td>1.0</td>\n",
       "      <td>0.0</td>\n",
       "      <td>0.0</td>\n",
       "      <td>1.0</td>\n",
       "      <td>1.0</td>\n",
       "      <td>1.0</td>\n",
       "      <td>0.0</td>\n",
       "    </tr>\n",
       "  </tbody>\n",
       "</table>\n",
       "</div>"
      ],
      "text/plain": [
       "   preg  plas  pres  skin  test  mass  pedi  age  class\n",
       "0   1.0   1.0   1.0   1.0   0.0   1.0   1.0  1.0    0.0\n",
       "1   1.0   1.0   1.0   0.0   0.0   1.0   1.0  1.0    1.0\n",
       "2   1.0   1.0   1.0   1.0   1.0   1.0   1.0  1.0    0.0\n",
       "3   0.0   1.0   1.0   1.0   1.0   1.0   1.0  1.0    1.0\n",
       "4   1.0   1.0   1.0   0.0   0.0   1.0   1.0  1.0    0.0"
      ]
     },
     "execution_count": 32,
     "metadata": {},
     "output_type": "execute_result"
    }
   ],
   "source": [
    "from sklearn.preprocessing import Binarizer\n",
    "from pandas import read_csv\n",
    "\n",
    "filename = 'data/pima-indians-diabetes.csv'\n",
    "names = ['preg', 'plas', 'pres', 'skin', 'test', 'mass', 'pedi', 'age', 'class']\n",
    "\n",
    "### STUDENT CODE HERE\n",
    "scaler=Binarizer(threshold=0.0)\n",
    "dataframe_binarized=pd.DataFrame(scaler.fit_transform(pd.read_csv(filename)),columns=names)\n",
    "### STUDENT CODE until HERE\n",
    "dataframe_binarized.head()"
   ]
  },
  {
   "cell_type": "markdown",
   "metadata": {},
   "source": [
    "## Zusammenfassung\n",
    "\n",
    "In diesem Abschnitt haben wir gelernt, wie man Daten richtig einließt, versteht und vorverarbeitet. Dies ist von hoher Relevanz für die Anwendung von Daten auf Machine-Learning Algorithmen, da die Performanz solcher Algorithmen maßgeblich von der Qualität der verwendeten Daten abhängt.\n",
    "\n",
    "<div class=\"alert alert-block alert-success\">\n",
    "<b>Aufgabe 1.4.13:</b> \n",
    "    <ul>\n",
    "        <li>Fassen Sie in drei bis fünf Sätzen zusammen, welche Methoden Sie heute gelernt haben\n",
    "        <li>Treffen Sie zwei Aussagen über den Datensatz, z. B. je mehr Kinder eine Person hat, desto älter ist die Person im Durchschnitt.\n",
    "        <li>Sie können auch einige Plots oder Ausgaben verwenden, wenn Sie dies wünschen.\n",
    "    </ul>\n",
    "</div>\n",
    "<div class=\"alert alert-block alert-success\">\n",
    "<b>Ihre Antwort:</b></div>\n",
    "\n",
    "\n",
    "\n",
    "\n",
    "\n",
    "\n",
    "\n"
   ]
  },
  {
   "cell_type": "code",
   "execution_count": null,
   "metadata": {},
   "outputs": [],
   "source": []
  }
 ],
 "metadata": {
  "kernelspec": {
   "display_name": "base",
   "language": "python",
   "name": "python3"
  },
  "language_info": {
   "codemirror_mode": {
    "name": "ipython",
    "version": 3
   },
   "file_extension": ".py",
   "mimetype": "text/x-python",
   "name": "python",
   "nbconvert_exporter": "python",
   "pygments_lexer": "ipython3",
   "version": "3.12.7"
  }
 },
 "nbformat": 4,
 "nbformat_minor": 4
}
