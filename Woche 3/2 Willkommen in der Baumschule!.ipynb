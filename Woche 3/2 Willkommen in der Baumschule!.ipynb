{
 "cells": [
  {
   "cell_type": "markdown",
   "metadata": {},
   "source": [
    "# Willkommen in der Baumschule!   "
   ]
  },
  {
   "cell_type": "markdown",
   "metadata": {},
   "source": [
    "## Einführung\n",
    "\n",
    "Entscheidungsbäume sind die Bausteine einer der leistungsstärksten Methoden des **überwachten Lernens** (z. B. mit einer vordefinierten Zielvariablen), die heute verwendet werden. Falls Sie bereits eine Fehlerdiagnose bei einem Gerät, einem Auto oder einem Computer durchführen mussten, ist es gut möglich, dass Sie schon einmal einem Flussdiagramm zur Fehlerbehebung begegnet sind. Flussdiagramme sind visuelle Darstellungen von Entscheidungsbäumen. Zum Beispiel veröffentlicht die Higher School of Economics Informationsdiagramme, um das Leben ihrer MitarbeiterInnen zu erleichtern. Hier ist ein Ausschnitt aus der Anleitung für die Veröffentlichung eines Papers im Portal der Hochschule. \n",
    "<img src=\"images/snipped_GER.png\">"
   ]
  },
  {
   "cell_type": "markdown",
   "metadata": {},
   "source": [
    "## Klassifizierungs- und Regressionsbäume (CART)\n",
    "\n",
    "Classification and Regression Trees (Klassifizierungs- und Regressionsbäume) ist ein Akronym, das 1984 von Leo Breiman eingeführt wurde. Es bezeichnet Entscheidungsbaum-Algorithmen, die für prädiktive Modellierungsprobleme verwendet werden können. Wir werden uns in dieser Übung auf den CART-Algorithmus konzentrieren."
   ]
  },
  {
   "cell_type": "markdown",
   "metadata": {},
   "source": [
    "### CART\n",
    "\n",
    "Das CART-Modell wird in Form eines binäreren Entscheidungsbaums dargestellt. Dabei handelt es sich um den gleichen binären Baum, den Sie vielleicht von Algorithmen und Datenstrukturen kennen. Jeder Knoten des Binärbaums kann null, einen oder zwei Kindknoten haben.\n",
    "\n",
    "Ein Knoten repräsentiert eine einzelne Eingabevariable (X) und einen Aufteilungspunkt (engl. split point) auf dieser Variable (vorausgesetzt, die Variable ist numerisch). Die Blatt- oder Endknoten des Baums enthalten eine Ausgangsvariable (Y), die für eine Vorhersage verwendet wird. \n",
    "\n",
    "Beim Erstellen eines binären Entscheidungsbaums wird der Eingaberaum aufgeteilt. Dazu wird das sogenannte rekursive binäre Splitting verwendet (greedy Ansatz). Hierbei handelt es sich um ein numerisches Verfahren, bei dem alle Werte aneinandergereiht werden und verschiedene Aufteilungspunkte mit Hilfe einer Kostenfunktion ausprobiert und bewertet werden.\n",
    "\n",
    "Der Split mit den besten Kosten (niedrigste Kosten, da wir die Kosten minimieren) wird ausgewählt. Alle Eingangsvariablen und alle möglichen Aufteilungspunkte werden ausgewertet und auf Grundlage der Kostenfunktion (greedy) ausgewählt.\n",
    "\n",
    "- **Regression:** Die Kostenfunktion, die zum Finden der Splitpunkte minimiert wird, ist die **Summe des quadrierten Fehlers** über alle Trainingsstichproben, die in das Rechteck fallen.\n",
    "\n",
    "- **Klassifizierung:** Es wird die *Gini*-Kostenfunktion verwendet, die einen Hinweis darauf liefert, wie rein die Knoten sind. Die Knotenreinheit bezieht sich dabei darauf, wie gemischt die jedem Knoten zugewiesenen Trainingsdaten sind.\n",
    "\n",
    "Die Aufteilung wird fortgesetzt, bis die Knoten eine Mindestanzahl von Trainingsbeispielen enthalten oder eine maximale Baumtiefe erreicht ist.\n",
    "\n",
    "In dieser Aufgabe konzentrieren wir uns nur auf die Klassifizierungseigenschaft des Algorithmus."
   ]
  },
  {
   "cell_type": "markdown",
   "metadata": {},
   "source": [
    "### Metriken\n",
    "\n",
    "#### Gini-Index\n",
    "\n",
    "Der Gini-Index ist die Kostenfunktion, die zum Bewerten der Aufteilungen des Datensatzes verwendet wird. Eine Aufteilung umfasst ein Eingabeattribut und einen Wert für dieses Attribut. Der Gini-Score gibt eine Vorstellung davon, wie gut eine Aufteilung ist, da er angibt, wie gemischt die Klassen in den beiden Gruppen sind, die durch die Aufteilung entstanden sind. Eine perfekte Aufteilung ergibt einen Gini-Score von 0, während die schlechteste Aufteilung, z. B. eine 50/50-Aufteilung, für ein Zwei-Klassen-Problem einen Gini-Score von 0,5 ergibt.\n",
    "\n",
    "Die Berechnung des Gini-Scores lässt sich am besten anhand eines Beispiels demonstrieren:\n",
    "\n",
    "<img src=\"images/iris_tree.png\">\n",
    "\n",
    "Angenommen, Sie finden eine Irisblüte und wollen sie klassifizieren. In der obigen Abbildung beginnen wir im *Wurzelknoten*: Dieser Knoten überprüft, ob die Länge des Blütenblatts kleiner als 2,45 cm ist. Wenn das der Fall ist, gehen wir zum linken Kindknoten der Wurzel hinunter. Dieser Knoten ist ein *Blattknoten*, da er keine Kinder besitzt. \n",
    "\n",
    "Nehmen wir nun an, wir finden eine weitere Blume. Diese besitzt eine Blütenblattlänge, die größer als 2,45 cm ist. Angefangen bei der Wurzel kommen wir so zum rechten Kindknoten, der kein Blattknoten ist. Dieser Knoten möchte wissen, ob die Breite des Blütenblatts kleiner als 1,75 cm ist. Wenn das der Fall ist, dann ist unsere Blume höchstwahrscheinlich eine Iris-Versicolor. Andernfalls handelt es sich wahrscheinlich um eine Iris-Virginica.\n",
    "\n",
    "Angenommen, wir haben 100 Trainingsinstanzen mit einer Blütenblattlänge größer als 2,45 cm, darunter 54 mit einer Blütenblattbreite kleiner als 1,75 cm. Das Wertattribut eines Knotens gibt an, auf wie viele Trainingsinstanzen jeder Klasse dieser Knoten zutrifft: Der Knoten unten rechts trifft auf 0 Iris-Setosa, 1 Iris-Versicolor und 45 Iris-Virginica zu. Gemäß Gleichung (\\ref{eq1}) setzt sich der Gini-Score wie folgt zusammen: $1-(0/54)^2-(49/54)^2-(5/54)^2 = 0.168$.\n",
    "\n",
    "\\begin{equation*}\n",
    "G_i = 1 - \\sum_{k=0}^{n-1} p_{i,k}^2\n",
    "\\end{equation*}\n",
    "wobei $p_{i,k}$ das Verhältnis der Instanzen der Klasse k unter den Trainingsinstanzen im $i^{th}$-Knoten beschreibt."
   ]
  },
  {
   "cell_type": "markdown",
   "metadata": {},
   "source": [
    "## Importe"
   ]
  },
  {
   "cell_type": "code",
   "execution_count": 1,
   "metadata": {},
   "outputs": [],
   "source": [
    "import pandas as pd\n",
    "import numpy as np\n",
    "\n",
    "%matplotlib inline\n",
    "\n",
    "import matplotlib.pyplot as plt"
   ]
  },
  {
   "cell_type": "markdown",
   "metadata": {},
   "source": [
    "## Entscheidungsbäume mit scikit-learn\n",
    "\n",
    "Nun haben wir unseren Datensatz für die Algorithmen des maschinellen Lernens vorbereitet. Zu Beginn haben wir die Idee der Klassifizierung und Regression mit Entscheidungsbäumen beschrieben. Im Folgenden werden wir die Implementierung von Entscheidungsbäumen mittels scikit-learn verwenden, um die binäre Klassifizierung des Titanic Datensatzes durchzuführen.\n",
    "\n",
    "\n",
    "## Entscheidungsbäume ohne Parameteroptimierung (engl. parameter tuning)\n",
    "\n",
    "#### Importieren der Bibliotheken\n",
    "Der erste Schritt besteht darin, den Algorithmus \"wie er ist\" zu verwenden, ohne irgendwelche Parameter anzupassen. Importieren Sie daher die notwendige Bibliothek/Funktion von scikit-learn, die den DecisionTreeClassifier enthält. Außerdem muss die Funktion export_graphviz importiert werden, die für die Darstellung der Ergebnisse der Entscheidungsbäume benötigt wird. Um das Modell zu evaluieren, müssen wir ein Train- und ein Validation-Set erzeugen, indem wir den train-test split von scikit-learn verwenden. Importieren Sie daher die notwendigen Funktionen. Um die Performance der trainierten Entscheidungsbäume zu vergleichen, müssen wir zunächst den DummyClassifier importieren. Der DummyClassifer https://scikit-learn.org/stable/modules/generated/sklearn.dummy.DummyClassifier.html ist in der Lage, Datenpunkte gleichmäßig zufällig zu klassifizieren oder immer das häufigste Label im Trainingssatz vorherzusagen. Importieren Sie den accuracy score des Pakets 'metrics' für die Evaluierung der Klassifizierungsergebnisse."
   ]
  },
  {
   "cell_type": "markdown",
   "metadata": {},
   "source": [
    "<div class=\"alert alert-block alert-success\">\n",
    "<b>Aufgabe 3.2.1:</b> Importieren Sie die im Text oben genannten Funktionen.\n",
    "</div>"
   ]
  },
  {
   "cell_type": "markdown",
   "metadata": {},
   "source": [
    "<div class=\"alert alert-block alert-info\">\n",
    "<b>Hinweis:</b> Falls graphviz nicht installiert ist, versuchen Sie folgende Schritte.  \n",
    "<ul>\n",
    "<li> 1. Ansatz: Öffnen Sie anaconda, anschließend gehen Sie zu den Umgebungen (engl. environments) und wählen Sie diejenige aus, an der Sie gerade arbeiten. Suchen Sie dann nach graphviz und installieren Sie es.\n",
    "<li> 2. Ansatz: Öffnen Sie ein Terminal innerhalb Ihrer Umgebung, indem Sie auf den grünen Pfeil Ihrer Umgebung klicken. Anschließend:\n",
    "<ul>\n",
    "<li> Aktivieren Sie Ihre Umgebung: conda activate environment_name\n",
    "    <li> Installieren Sie pip: conda install pip (gegebenfalls bereits installiert)\n",
    "    <li> installieren Sie graphviz: conda install python-graphviz\n",
    "    </ul>\n",
    "</li>\n",
    "\n",
    "</ul>\n",
    "<br>\n",
    "\n",
    "</div>"
   ]
  },
  {
   "cell_type": "code",
   "execution_count": 2,
   "metadata": {},
   "outputs": [],
   "source": [
    "# STUDENT CODE HERE\n",
    "import pandas as pd\n",
    "import numpy as np\n",
    "from sklearn.tree import DecisionTreeClassifier, plot_tree,export_graphviz\n",
    "from sklearn.dummy import DummyClassifier\n",
    "from sklearn.metrics import accuracy_score\n",
    "from sklearn.model_selection import train_test_split\n",
    "import graphviz\n",
    "from graphviz import Source\n",
    "%matplotlib inline\n",
    "\n",
    "import matplotlib.pyplot as plt\n",
    "# STUDENT CODE until HERE\n",
    "\n",
    "from graphviz import Source"
   ]
  },
  {
   "cell_type": "markdown",
   "metadata": {},
   "source": [
    "#### Generieren von Training-, Validierung- und Test-Datensatz\n",
    "\n",
    "\n",
    "<div class=\"alert alert-block alert-success\">\n",
    "<b>Aufgabe 3.2.2:</b> \n",
    "<ul>\n",
    "<li>Laden Sie die Datensätze aus der Lösung der Vorbereitungsdatei (train_prepared.csv,...).\n",
    "<li>Nehmen Sie die Spalte mit den Labeldaten sowohl im Trainingsatz als auch im Testsatz und entfernen diese vom Datensatz. \n",
    "<li>Teilen Sie den \"train\"-Teil des Datensatzes in 80 % Trainingsdaten und 20 % Validierungsdaten auf. Verwenden Sie den Parameter random_state = 17 für die Reproduzierbarkeit der Ergebnisse.\n",
    "<li> Hinweis: Sie könnten den originalen Trainigsatz für das Kreuzvalidierungsverfahren (engl. Cross Validation) später benötigen. \n",
    "</ul>\n",
    "    \n",
    "<b>Wichtige Information:</b> Beim überwachten Lernen bestehen die Datensätze immer aus Labels und Features. Nachdem Sie Ihr Modell trainiert haben, geben Sie ihm neue Input Datensätze, die Features (Alter, Geschlecht usw.) enthalten; es gibt das vorhergesagte Label ('Survived') für diese Person zurück.<br>\n",
    "</div>"
   ]
  },
  {
   "cell_type": "code",
   "execution_count": 3,
   "metadata": {},
   "outputs": [],
   "source": [
    "# STUDENT CODE HERE\n",
    "filename=\"data/test_prepared.csv\"\n",
    "df_opt=pd.read_csv(filename)\n",
    "X_test_target=df_opt.iloc[:,[0,1,2,3,4,6,7,8]]\n",
    "y_test_label=df_opt.iloc[:,[5]]\n",
    "filename=\"data/train_prepared.csv\"\n",
    "df=pd.read_csv(filename)\n",
    "X_train_target=df.iloc[:,[1,2,3,4,5,6,7,8]]\n",
    "y_train_label=df.iloc[:,[0]]\n",
    "\n",
    "X_train, X_test, y_train, y_test=train_test_split(X_train_target,y_train_label,test_size=0.2,random_state=17)\n",
    "\n",
    "# STUDENT CODE until HERE"
   ]
  },
  {
   "cell_type": "markdown",
   "metadata": {},
   "source": [
    "#### Validierung des Dummy Klassifikators\n",
    "\n",
    "Um einen Eindruck zu bekommen, ob die Klassifizierung mit dem Modell sinnvoll ist, verwenden wir den DummyClassifier, der zufällig entscheidet.  \n",
    "\n",
    "<div class=\"alert alert-block alert-success\">\n",
    "<b>Aufgabe 3.2.3:</b> \n",
    "<ul>\n",
    "<li> Trainieren Sie den Klassifikator mit dem entsprechenden Parameterwert 'most_frequent' für die Strategie\n",
    "<li> Benutzen Sie den Parameter random_state = 17 (für die Reproduzierbarkeit der Ergebnisse)\n",
    "<li> Berechnen Sie die Korrektklassifikationsrate (engl. accuracy), um die Klassifizierungsgenauigkeit für die Validierungsdaten zu erhalten\n",
    "<li> Hinweis: Besuchen Sie die Website von scikit-learn, um den Klassifikator zu importieren, ihn zu trainieren, mit ihm Vorhersagen zu treffen und die Korrektklassifikationsrate zu berechnen\n",
    "</ul>\n",
    "</div>"
   ]
  },
  {
   "cell_type": "code",
   "execution_count": 4,
   "metadata": {},
   "outputs": [
    {
     "name": "stdout",
     "output_type": "stream",
     "text": [
      "Korrektklassifikationsrate:\n"
     ]
    },
    {
     "data": {
      "text/plain": [
       "0.5921787709497207"
      ]
     },
     "execution_count": 4,
     "metadata": {},
     "output_type": "execute_result"
    }
   ],
   "source": [
    "# STUDENT CODE HERE\n",
    "model=DummyClassifier(strategy=\"most_frequent\",random_state=17)\n",
    "model.fit(X_train,y_train)\n",
    "prep_label=model.predict(X_test)\n",
    "print(\"Korrektklassifikationsrate:\")\n",
    "accuracy_score(y_test,prep_label)\n",
    "# STUDENT CODE until HERE"
   ]
  },
  {
   "cell_type": "markdown",
   "metadata": {},
   "source": [
    "<div class=\"alert alert-block alert-success\">\n",
    "<b>Frage 3.2.4:</b> Wie interpretieren Sie dieses Ergebnis? \n",
    "</div>\n",
    "\n",
    "<div class=\"alert alert-block alert-success\">\n",
    "<b>Ihre Antwort:</b> Ein wenig mehr als die Hälfte der Daten werden korrekt vorhergesagt. Schaut man sich die vorhergesagten Label an, so sieht man dass alle Werte als 0 vorhergesagt werden.</div>\n"
   ]
  },
  {
   "cell_type": "markdown",
   "metadata": {},
   "source": [
    "#### Validierung des Entscheidungsbaums\n",
    "\n",
    "\n",
    "<div class=\"alert alert-block alert-success\">\n",
    "<b>Aufgabe 3.2.5:</b> \n",
    "<ul>\n",
    "<li> Trainieren Sie einen Entscheidungsbaum (mit DecisionTreeClassifier) mit einer maximalen Tiefe von 2\n",
    "<li> Evaluieren Sie die Korrektklassifikationsrate Metrik (engl. accuracy metric) anhand der Validierungsdaten. \n",
    "<li> Benutzen Sie den Parameter random_state = 17 für die Reproduzierbarkeit der Ergebnisse.\n",
    "<li> Hinweis: Syntax oder Funktionen mit diesem Klassifikator sind für Training etc. gleich.\n",
    "    </li>\n",
    "    \n",
    "</ul>\n",
    "</div>"
   ]
  },
  {
   "cell_type": "code",
   "execution_count": 5,
   "metadata": {},
   "outputs": [
    {
     "name": "stdout",
     "output_type": "stream",
     "text": [
      "Korrektklassifikationsrate: \n",
      "0.7821229050279329\n"
     ]
    }
   ],
   "source": [
    "# STUDENT CODE HERE\n",
    "model=DecisionTreeClassifier(max_depth=2,random_state=17)\n",
    "model.fit(X_train,y_train)\n",
    "y_pred=model.predict(X_test)\n",
    "print(\"Korrektklassifikationsrate: \")\n",
    "acc1=accuracy_score(y_test,y_pred)\n",
    "print(acc1)\n",
    "# STUDENT CODE until HERE"
   ]
  },
  {
   "cell_type": "markdown",
   "metadata": {},
   "source": [
    "<div class=\"alert alert-block alert-success\">\n",
    "<b>Frage 3.2.6:</b>  Was können Sie beobachten, wenn wir die Korrektklassifikationsrate mit der des DummyClassifiers vergleichen?\n",
    "</div>\n",
    "\n",
    "<div class=\"alert alert-block alert-success\">\n",
    "<b>Ihre Antwort:</b> Die Rate ist höher.</div>\n"
   ]
  },
  {
   "cell_type": "markdown",
   "metadata": {},
   "source": [
    "#### Das trainierte Modell verstehen\n",
    "\n",
    "\n",
    "<div class=\"alert alert-block alert-success\">\n",
    "<b>Aufgabe 3.2.7:</b> \n",
    "<ul>\n",
    "<li> Plotten Sie den Baum mit sklearn.tree.export_graphviz und graphviz\n",
    "<li> Geben Sie die Namen der Features sowie die Klassennamen entsprechend dem Datensatz aus.\n",
    "<li> Hinweis: Benutzen Sie dataframe.columns.values und Source(export_graphviz)\n",
    "</ul>\n",
    "</div>"
   ]
  },
  {
   "cell_type": "code",
   "execution_count": 6,
   "metadata": {},
   "outputs": [
    {
     "data": {
      "image/png": "[encoded data removed]",
      "text/plain": [
       "<Figure size 800x800 with 1 Axes>"
      ]
     },
     "metadata": {},
     "output_type": "display_data"
    }
   ],
   "source": [
    "# STUDENT CODE HERE\n",
    "plt.figure(figsize=(8,8))\n",
    "plot_tree(model, filled=True,feature_names=X_train.columns)\n",
    "plt.show()\n",
    "# STUDENT CODE until HERE"
   ]
  },
  {
   "cell_type": "markdown",
   "metadata": {},
   "source": [
    "<div class=\"alert alert-block alert-success\">\n",
    "<b>Frage 3.2.8:</b>  Welche Features werden für Vorhersagen im erstellten Entscheidungsbaum verwendet? Welche der verbleibenden Splits (in der letzten Zeile des Baums) ist derzeit die Präziseste?\n",
    "</div>\n",
    "\n",
    "<div class=\"alert alert-block alert-success\">\n",
    "<b>Ihre Antwort:</b> Sex, Age und Pclass werden verwendet. Sex <=0.5 + Pclass <=2.5 liefert den reinsten Knoten mit Gini=0.5 </div>\n"
   ]
  },
  {
   "cell_type": "markdown",
   "metadata": {},
   "source": [
    "#### Testen der Generalisierung\n",
    "\n",
    "In den vorherigen Aufgaben haben wir die Performance unseres Algorithmus an einem einzelnen Train-Test-Split unseres Training-Datensatzes evaluiert. Lassen Sie uns nun die Kreuzvalidierung (engl. cross validation) verwenden, um eine bessere Schätzung des Generalisierungsfehlers zu erhalten.\n",
    "\n",
    "<div class=\"alert alert-block alert-success\">\n",
    "<b>Aufgabe 3.2.9:</b> Importieren Sie die notwendige Bibliothek für die Kreuzvalidierung (engl. cross validation) mit StratifiedKFold.\n",
    "</div>"
   ]
  },
  {
   "cell_type": "markdown",
   "metadata": {},
   "source": [
    "<div class=\"alert alert-block alert-success\">\n",
    "<b>Aufgabe 3.2.10:</b> \n",
    "<ul>\n",
    "<li> Führen Sie eine 5-fache geschichtete Kreuzvalidierung (engl. 5-fold stratified cross validation) durch\n",
    "<li> Berechnen Sie die mittlere Korrektklassifikationsrate (engl. mean accuracy) und die Standardabweichung der Korrektklassifikationsrate (engl. accuracy)\n",
    "<li> Verwenden Sie eine maximale Tiefe von 2 und random_state = 17 für den Baum und die Folds\n",
    "<li> Vergessen Sie nicht, den gesamten Trainingssatz zu verwenden (bevor Sie ihn in train,val aufteilen)\n",
    "</ul>\n",
    "</div>"
   ]
  },
  {
   "cell_type": "code",
   "execution_count": 7,
   "metadata": {},
   "outputs": [
    {
     "name": "stdout",
     "output_type": "stream",
     "text": [
      "Generalisierungsfähigkeit: Kann der Entscheidungsbaum mit allen möglichen Teilmengen der Daten gut trainiert werden?\n",
      "Mittelwert: \n",
      "0.7676730902014939\n",
      "Standardabweichung: \n",
      "0.06774852583211653\n"
     ]
    }
   ],
   "source": [
    "# STUDENT CODE HERE\n",
    "from sklearn.model_selection import StratifiedKFold\n",
    "\n",
    "X=X_train_target.to_numpy()\n",
    "y=y_train_label.to_numpy()\n",
    "\n",
    "kf=StratifiedKFold(n_splits=5,random_state=17, shuffle=True)\n",
    "acc=[] #to store r squared\n",
    "\n",
    "for train_index, test_index in kf.split(X,y):\n",
    "    X_train_fold, X_test_fold = X[train_index], X[test_index]\n",
    "    y_train_fold, y_test_fold = y[train_index], y[test_index]\n",
    "    model=DecisionTreeClassifier(max_depth=2,random_state=17).fit(X_train_fold,y_train_fold)\n",
    "    y_pred=model.predict(X_test_fold)\n",
    "    acc.append(accuracy_score(y_test_fold,y_pred))\n",
    "mean_acc=sum(acc)/len(acc)\n",
    "sdt_acc=np.sqrt(sum((acc[:]-mean_acc)**2))\n",
    "print(\"Generalisierungsfähigkeit: Kann der Entscheidungsbaum mit allen möglichen Teilmengen der Daten gut trainiert werden?\")\n",
    "print(\"Mittelwert: \")\n",
    "print(mean_acc)\n",
    "print(\"Standardabweichung: \")\n",
    "print(sdt_acc)\n",
    "# STUDENT CODE until HERE"
   ]
  },
  {
   "cell_type": "markdown",
   "metadata": {},
   "source": [
    "### Parameteroptimierung für Entscheidungsbäume\n",
    "\n",
    "Der wichtigste Parameter eines Entscheidungsbaums ist die Tiefe des Baums. Daher ist es notwendig, verschiedene Tiefen des Baums zu evaluieren, um die optimale Leistung hinsichtlich der Korrektklassifikationsrate (engl. classification accuracy) zu erreichen. Zu diesem Zweck verwenden wir die Gittersuche (engl. grid search) in Kombination mit dem Kreuzvalidierungsverfahren (engl. cross validation), das wir zuvor verwendet haben. Glücklicherweise hat scikit-learn bereits eine schöne und einfach zu bedienende Schnittstelle für dieses Problem implementiert. Die Funktion heißt `GridSearchCV` und ist in der Bibliothek sklearn.model_selection zu finden. \n",
    "\n",
    "\n",
    "#### Verwendung von Grid Search Cross-Validation zur Optimierung der Baumtiefe\n",
    "\n",
    "<div class=\"alert alert-block alert-success\">\n",
    "<b>Aufgabe 3.2.11:</b> \n",
    "<ul>\n",
    "<li> Laden Sie die Bibliothek GridSearchCV und trainieren Sie einen Entscheidungsbaum (DecisionTreeClassifier, random_state = 17)\n",
    "<li> Ermitteln Sie die optimale maximale Tiefe mit 5-facher geschichteter Kreuzvalidierung (engl. 5-fold stratified cross-validation) und gleichem RandomState \n",
    "<li> Variieren Sie die Tiefe des Baums zwischen 1 und 13.\n",
    "<li> Vergessen Sie nicht, den gesamten Trainingssatz zu verwenden (bevor Sie ihn in train,val aufteilen)\n",
    "<li> Hinweis: Verwenden Sie die scikit-learn-Website für weitere Informationen zu den Funktionen\n",
    "</ul>\n",
    "</div>"
   ]
  },
  {
   "cell_type": "code",
   "execution_count": 8,
   "metadata": {},
   "outputs": [],
   "source": [
    "# STUDENT CODE HERE\n",
    "from sklearn.model_selection import GridSearchCV\n",
    "X_train,X_val,y_train, y_val=train_test_split(X_train_target,y_train_label)\n",
    "model=DecisionTreeClassifier(random_state=17)\n",
    "\n",
    "opt_tree=GridSearchCV(estimator=model,param_grid={\"max_depth\":np.arange(1,14,1)},scoring=\"accuracy\",cv=5).fit(X_train,y_train)\n",
    "\n",
    "# STUDENT CODE until HERE"
   ]
  },
  {
   "cell_type": "markdown",
   "metadata": {},
   "source": [
    "<div class=\"alert alert-block alert-success\">\n",
    "<b>Aufgabe 3.2.12:</b> \n",
    "<ul>\n",
    "<li> Zeichnen Sie ein Diagramm zur Darstellung der durchschnittlichen Korrektklassifikationsrate über die Tiefe \n",
    "<li> Benutzen Sie das Attribut <code>.cv_results</code>, um die durchschnittliche Korrektklassifikationsrate mit Hilfe von 'mean_test_score' zu erhalten.\n",
    "</ul>\n",
    "</div>"
   ]
  },
  {
   "cell_type": "code",
   "execution_count": 9,
   "metadata": {},
   "outputs": [
    {
     "data": {
      "image/png": "[encoded data removed]",
      "text/plain": [
       "<Figure size 640x480 with 1 Axes>"
      ]
     },
     "metadata": {},
     "output_type": "display_data"
    }
   ],
   "source": [
    "# STUDENT CODE HERE\n",
    "depths=opt_tree.cv_results_[\"mean_test_score\"]\n",
    "plt.plot(np.arange(1,14,1),depths)\n",
    "plt.xlabel(\"Maximal Depth of Decision Tree\")\n",
    "plt.ylabel(\"Mean Accuracy\")\n",
    "plt.show()\n",
    "# STUDENT CODE until HERE"
   ]
  },
  {
   "cell_type": "markdown",
   "metadata": {},
   "source": [
    "<div class=\"alert alert-block alert-success\">\n",
    "<b>Frage 3.2.13:</b>  Was sind die besten Parameterwerte? Wie hoch ist die Korrektklassifikationsrate (Kreuzvaliderungsverfahren) des Modells mit dieser Baumtiefe?\n",
    "</div>\n",
    "\n",
    "<div class=\"alert alert-block alert-success\">\n",
    "<b>Ihre Antwort:</b> Bei der Baumtiefe 3 und 4 liegt die mittlere Korrektklassifikationsrate über 80%, also sehr gut.</div>\n"
   ]
  },
  {
   "cell_type": "markdown",
   "metadata": {},
   "source": [
    "Für unsere Trainingsdaten haben wir den optimalen Parameter gefunden. Schließlich können wir die Perfomance bewerten, indem wir unsere Trainingsdaten zum Trainieren und unseren Testdatensatz zum Testen verwenden. Verwenden Sie im Folgenden immer eine Baumtiefe von 3. \n",
    "\n",
    "<div class=\"alert alert-block alert-success\">\n",
    "<b>Aufgabe 3.2.14:</b> \n",
    "<ul>\n",
    "<li> Trainieren Sie einen Entscheidungsbaum bei einer Baumtiefe von drei, unter Verwendung aller Trainingsdaten (keine Kreuzvalidierung)\n",
    "<li> Berechnen Sie die Korrektklassifikationsrate (engl. accuracy) für den Testdatensatz. Verwenden Sie den Parameter random_state = 17 für die Reproduzierbarkeit.\n",
    "</ul>\n",
    "</div>\n"
   ]
  },
  {
   "cell_type": "code",
   "execution_count": 10,
   "metadata": {},
   "outputs": [
    {
     "name": "stdout",
     "output_type": "stream",
     "text": [
      "Accuracy Score of optimized Tree: \n",
      "0.7937219730941704\n"
     ]
    }
   ],
   "source": [
    "# STUDENT CODE HERE\n",
    "# X_train,X_val,y_train, y_val=train_test_split(X_train_target,y_train_label)\n",
    "model=DecisionTreeClassifier(random_state=17,max_depth=3).fit(X_train,y_train)\n",
    "y_pred=model.predict(X_val)\n",
    "acc2=accuracy_score(y_val,y_pred)\n",
    "print(\"Accuracy Score of optimized Tree: \")\n",
    "print(acc2)\n",
    "\n",
    "# STUDENT CODE until HERE"
   ]
  },
  {
   "cell_type": "code",
   "execution_count": 11,
   "metadata": {},
   "outputs": [
    {
     "data": {
      "image/png": "[encoded data removed]",
      "text/plain": [
       "<Figure size 800x800 with 1 Axes>"
      ]
     },
     "metadata": {},
     "output_type": "display_data"
    }
   ],
   "source": [
    "plt.figure(figsize=(8,8))\n",
    "plot_tree(model, filled=True,feature_names=X_train.columns)\n",
    "plt.show()"
   ]
  },
  {
   "cell_type": "code",
   "execution_count": null,
   "metadata": {},
   "outputs": [
    {
     "data": {
      "image/svg+xml": [
       "<?xml version=\"1.0\" encoding=\"UTF-8\" standalone=\"no\"?>\n",
       "<!DOCTYPE svg PUBLIC \"-//W3C//DTD SVG 1.1//EN\"\n",
       " \"http://www.w3.org/Graphics/SVG/1.1/DTD/svg11.dtd\">\n",
       "<!-- Generated by graphviz version 13.1.1 (20250719.2154)\n",
       " -->\n",
       "<!-- Title: Tree Pages: 1 -->\n",
       "<svg width=\"1044pt\" height=\"447pt\"\n",
       " viewBox=\"0.00 0.00 1044.00 447.00\" xmlns=\"http://www.w3.org/2000/svg\" xmlns:xlink=\"http://www.w3.org/1999/xlink\">\n",
       "<g id=\"graph0\" class=\"graph\" transform=\"scale(1 1) rotate(0) translate(4 443.25)\">\n",
       "<title>Tree</title>\n",
       "<polygon fill=\"white\" stroke=\"none\" points=\"-4,4 -4,-443.25 1040,-443.25 1040,4 -4,4\"/>\n",
       "<!-- 0 -->\n",
       "<g id=\"node1\" class=\"node\">\n",
       "<title>0</title>\n",
       "<path fill=\"#f5d1b6\" stroke=\"black\" d=\"M567.5,-439.25C567.5,-439.25 467.5,-439.25 467.5,-439.25 461.5,-439.25 455.5,-433.25 455.5,-427.25 455.5,-427.25 455.5,-364.5 455.5,-364.5 455.5,-358.5 461.5,-352.5 467.5,-352.5 467.5,-352.5 567.5,-352.5 567.5,-352.5 573.5,-352.5 579.5,-358.5 579.5,-364.5 579.5,-364.5 579.5,-427.25 579.5,-427.25 579.5,-433.25 573.5,-439.25 567.5,-439.25\"/>\n",
       "<text xml:space=\"preserve\" text-anchor=\"start\" x=\"489\" y=\"-421.95\" font-family=\"Helvetica,sans-Serif\" font-size=\"14.00\">Sex ≤ 0.5</text>\n",
       "<text xml:space=\"preserve\" text-anchor=\"start\" x=\"482.25\" y=\"-406.2\" font-family=\"Helvetica,sans-Serif\" font-size=\"14.00\">gini = 0.475</text>\n",
       "<text xml:space=\"preserve\" text-anchor=\"start\" x=\"472.88\" y=\"-390.45\" font-family=\"Helvetica,sans-Serif\" font-size=\"14.00\">samples = 668</text>\n",
       "<text xml:space=\"preserve\" text-anchor=\"start\" x=\"463.5\" y=\"-374.7\" font-family=\"Helvetica,sans-Serif\" font-size=\"14.00\">value = [409, 259]</text>\n",
       "<text xml:space=\"preserve\" text-anchor=\"start\" x=\"478.12\" y=\"-358.95\" font-family=\"Helvetica,sans-Serif\" font-size=\"14.00\">class = Dead</text>\n",
       "</g>\n",
       "<!-- 1 -->\n",
       "<g id=\"node2\" class=\"node\">\n",
       "<title>1</title>\n",
       "<path fill=\"#eb9f68\" stroke=\"black\" d=\"M434.75,-316.5C434.75,-316.5 342.25,-316.5 342.25,-316.5 336.25,-316.5 330.25,-310.5 330.25,-304.5 330.25,-304.5 330.25,-241.75 330.25,-241.75 330.25,-235.75 336.25,-229.75 342.25,-229.75 342.25,-229.75 434.75,-229.75 434.75,-229.75 440.75,-229.75 446.75,-235.75 446.75,-241.75 446.75,-241.75 446.75,-304.5 446.75,-304.5 446.75,-310.5 440.75,-316.5 434.75,-316.5\"/>\n",
       "<text xml:space=\"preserve\" text-anchor=\"start\" x=\"348\" y=\"-299.2\" font-family=\"Helvetica,sans-Serif\" font-size=\"14.00\">Pclass ≤ 0.25</text>\n",
       "<text xml:space=\"preserve\" text-anchor=\"start\" x=\"357\" y=\"-283.45\" font-family=\"Helvetica,sans-Serif\" font-size=\"14.00\">gini = 0.31</text>\n",
       "<text xml:space=\"preserve\" text-anchor=\"start\" x=\"343.88\" y=\"-267.7\" font-family=\"Helvetica,sans-Serif\" font-size=\"14.00\">samples = 433</text>\n",
       "<text xml:space=\"preserve\" text-anchor=\"start\" x=\"338.25\" y=\"-251.95\" font-family=\"Helvetica,sans-Serif\" font-size=\"14.00\">value = [350, 83]</text>\n",
       "<text xml:space=\"preserve\" text-anchor=\"start\" x=\"349.12\" y=\"-236.2\" font-family=\"Helvetica,sans-Serif\" font-size=\"14.00\">class = Dead</text>\n",
       "</g>\n",
       "<!-- 0&#45;&gt;1 -->\n",
       "<g id=\"edge1\" class=\"edge\">\n",
       "<title>0&#45;&gt;1</title>\n",
       "<path fill=\"none\" stroke=\"black\" d=\"M472.02,-352.3C462.39,-343.29 452.13,-333.69 442.22,-324.41\"/>\n",
       "<polygon fill=\"black\" stroke=\"black\" points=\"444.8,-322.03 435.11,-317.75 440.02,-327.14 444.8,-322.03\"/>\n",
       "<text xml:space=\"preserve\" text-anchor=\"middle\" x=\"434.83\" y=\"-336.28\" font-family=\"Helvetica,sans-Serif\" font-size=\"14.00\">True</text>\n",
       "</g>\n",
       "<!-- 8 -->\n",
       "<g id=\"node9\" class=\"node\">\n",
       "<title>8</title>\n",
       "<path fill=\"#7bbeee\" stroke=\"black\" d=\"M696.75,-316.5C696.75,-316.5 604.25,-316.5 604.25,-316.5 598.25,-316.5 592.25,-310.5 592.25,-304.5 592.25,-304.5 592.25,-241.75 592.25,-241.75 592.25,-235.75 598.25,-229.75 604.25,-229.75 604.25,-229.75 696.75,-229.75 696.75,-229.75 702.75,-229.75 708.75,-235.75 708.75,-241.75 708.75,-241.75 708.75,-304.5 708.75,-304.5 708.75,-310.5 702.75,-316.5 696.75,-316.5\"/>\n",
       "<text xml:space=\"preserve\" text-anchor=\"start\" x=\"610\" y=\"-299.2\" font-family=\"Helvetica,sans-Serif\" font-size=\"14.00\">Pclass ≤ 0.75</text>\n",
       "<text xml:space=\"preserve\" text-anchor=\"start\" x=\"615.25\" y=\"-283.45\" font-family=\"Helvetica,sans-Serif\" font-size=\"14.00\">gini = 0.376</text>\n",
       "<text xml:space=\"preserve\" text-anchor=\"start\" x=\"605.88\" y=\"-267.7\" font-family=\"Helvetica,sans-Serif\" font-size=\"14.00\">samples = 235</text>\n",
       "<text xml:space=\"preserve\" text-anchor=\"start\" x=\"600.25\" y=\"-251.95\" font-family=\"Helvetica,sans-Serif\" font-size=\"14.00\">value = [59, 176]</text>\n",
       "<text xml:space=\"preserve\" text-anchor=\"start\" x=\"601\" y=\"-236.2\" font-family=\"Helvetica,sans-Serif\" font-size=\"14.00\">class = Survived</text>\n",
       "</g>\n",
       "<!-- 0&#45;&gt;8 -->\n",
       "<g id=\"edge8\" class=\"edge\">\n",
       "<title>0&#45;&gt;8</title>\n",
       "<path fill=\"none\" stroke=\"black\" d=\"M564.39,-352.3C574.32,-343.29 584.9,-333.69 595.11,-324.41\"/>\n",
       "<polygon fill=\"black\" stroke=\"black\" points=\"597.41,-327.05 602.46,-317.74 592.71,-321.87 597.41,-327.05\"/>\n",
       "<text xml:space=\"preserve\" text-anchor=\"middle\" x=\"602.38\" y=\"-336.27\" font-family=\"Helvetica,sans-Serif\" font-size=\"14.00\">False</text>\n",
       "</g>\n",
       "<!-- 2 -->\n",
       "<g id=\"node3\" class=\"node\">\n",
       "<title>2</title>\n",
       "<path fill=\"#f6d6be\" stroke=\"black\" d=\"M237.88,-193.75C237.88,-193.75 131.12,-193.75 131.12,-193.75 125.12,-193.75 119.12,-187.75 119.12,-181.75 119.12,-181.75 119.12,-119 119.12,-119 119.12,-113 125.12,-107 131.12,-107 131.12,-107 237.88,-107 237.88,-107 243.88,-107 249.88,-113 249.88,-119 249.88,-119 249.88,-181.75 249.88,-181.75 249.88,-187.75 243.88,-193.75 237.88,-193.75\"/>\n",
       "<text xml:space=\"preserve\" text-anchor=\"start\" x=\"127.12\" y=\"-176.45\" font-family=\"Helvetica,sans-Serif\" font-size=\"14.00\">Name_length ≤ 0.5</text>\n",
       "<text xml:space=\"preserve\" text-anchor=\"start\" x=\"149.25\" y=\"-160.7\" font-family=\"Helvetica,sans-Serif\" font-size=\"14.00\">gini = 0.481</text>\n",
       "<text xml:space=\"preserve\" text-anchor=\"start\" x=\"143.62\" y=\"-144.95\" font-family=\"Helvetica,sans-Serif\" font-size=\"14.00\">samples = 92</text>\n",
       "<text xml:space=\"preserve\" text-anchor=\"start\" x=\"138\" y=\"-129.2\" font-family=\"Helvetica,sans-Serif\" font-size=\"14.00\">value = [55, 37]</text>\n",
       "<text xml:space=\"preserve\" text-anchor=\"start\" x=\"145.12\" y=\"-113.45\" font-family=\"Helvetica,sans-Serif\" font-size=\"14.00\">class = Dead</text>\n",
       "</g>\n",
       "<!-- 1&#45;&gt;2 -->\n",
       "<g id=\"edge2\" class=\"edge\">\n",
       "<title>1&#45;&gt;2</title>\n",
       "<path fill=\"none\" stroke=\"black\" d=\"M329.77,-237.36C308.04,-224.5 283.09,-209.73 260.07,-196.11\"/>\n",
       "<polygon fill=\"black\" stroke=\"black\" points=\"262.03,-193.2 251.64,-191.12 258.46,-199.22 262.03,-193.2\"/>\n",
       "</g>\n",
       "<!-- 5 -->\n",
       "<g id=\"node6\" class=\"node\">\n",
       "<title>5</title>\n",
       "<path fill=\"#e99558\" stroke=\"black\" d=\"M434.75,-193.75C434.75,-193.75 342.25,-193.75 342.25,-193.75 336.25,-193.75 330.25,-187.75 330.25,-181.75 330.25,-181.75 330.25,-119 330.25,-119 330.25,-113 336.25,-107 342.25,-107 342.25,-107 434.75,-107 434.75,-107 440.75,-107 446.75,-113 446.75,-119 446.75,-119 446.75,-181.75 446.75,-181.75 446.75,-187.75 440.75,-193.75 434.75,-193.75\"/>\n",
       "<text xml:space=\"preserve\" text-anchor=\"start\" x=\"352.12\" y=\"-176.45\" font-family=\"Helvetica,sans-Serif\" font-size=\"14.00\">Age ≤ 0.081</text>\n",
       "<text xml:space=\"preserve\" text-anchor=\"start\" x=\"353.25\" y=\"-160.7\" font-family=\"Helvetica,sans-Serif\" font-size=\"14.00\">gini = 0.233</text>\n",
       "<text xml:space=\"preserve\" text-anchor=\"start\" x=\"343.88\" y=\"-144.95\" font-family=\"Helvetica,sans-Serif\" font-size=\"14.00\">samples = 341</text>\n",
       "<text xml:space=\"preserve\" text-anchor=\"start\" x=\"338.25\" y=\"-129.2\" font-family=\"Helvetica,sans-Serif\" font-size=\"14.00\">value = [295, 46]</text>\n",
       "<text xml:space=\"preserve\" text-anchor=\"start\" x=\"349.12\" y=\"-113.45\" font-family=\"Helvetica,sans-Serif\" font-size=\"14.00\">class = Dead</text>\n",
       "</g>\n",
       "<!-- 1&#45;&gt;5 -->\n",
       "<g id=\"edge5\" class=\"edge\">\n",
       "<title>1&#45;&gt;5</title>\n",
       "<path fill=\"none\" stroke=\"black\" d=\"M388.5,-229.55C388.5,-221.71 388.5,-213.42 388.5,-205.29\"/>\n",
       "<polygon fill=\"black\" stroke=\"black\" points=\"392,-205.48 388.5,-195.48 385,-205.48 392,-205.48\"/>\n",
       "</g>\n",
       "<!-- 3 -->\n",
       "<g id=\"node4\" class=\"node\">\n",
       "<title>3</title>\n",
       "<path fill=\"#f0b890\" stroke=\"black\" d=\"M97,-71C97,-71 12,-71 12,-71 6,-71 0,-65 0,-59 0,-59 0,-12 0,-12 0,-6 6,0 12,0 12,0 97,0 97,0 103,0 109,-6 109,-12 109,-12 109,-59 109,-59 109,-65 103,-71 97,-71\"/>\n",
       "<text xml:space=\"preserve\" text-anchor=\"start\" x=\"19.25\" y=\"-53.7\" font-family=\"Helvetica,sans-Serif\" font-size=\"14.00\">gini = 0.423</text>\n",
       "<text xml:space=\"preserve\" text-anchor=\"start\" x=\"13.62\" y=\"-37.95\" font-family=\"Helvetica,sans-Serif\" font-size=\"14.00\">samples = 69</text>\n",
       "<text xml:space=\"preserve\" text-anchor=\"start\" x=\"8\" y=\"-22.2\" font-family=\"Helvetica,sans-Serif\" font-size=\"14.00\">value = [48, 21]</text>\n",
       "<text xml:space=\"preserve\" text-anchor=\"start\" x=\"15.12\" y=\"-6.45\" font-family=\"Helvetica,sans-Serif\" font-size=\"14.00\">class = Dead</text>\n",
       "</g>\n",
       "<!-- 2&#45;&gt;3 -->\n",
       "<g id=\"edge3\" class=\"edge\">\n",
       "<title>2&#45;&gt;3</title>\n",
       "<path fill=\"none\" stroke=\"black\" d=\"M135.35,-106.7C124.79,-97.53 113.64,-87.85 103.1,-78.7\"/>\n",
       "<polygon fill=\"black\" stroke=\"black\" points=\"105.4,-76.06 95.56,-72.15 100.81,-81.35 105.4,-76.06\"/>\n",
       "</g>\n",
       "<!-- 4 -->\n",
       "<g id=\"node5\" class=\"node\">\n",
       "<title>4</title>\n",
       "<path fill=\"#90c8f0\" stroke=\"black\" d=\"M230,-71C230,-71 139,-71 139,-71 133,-71 127,-65 127,-59 127,-59 127,-12 127,-12 127,-6 133,0 139,0 139,0 230,0 230,0 236,0 242,-6 242,-12 242,-12 242,-59 242,-59 242,-65 236,-71 230,-71\"/>\n",
       "<text xml:space=\"preserve\" text-anchor=\"start\" x=\"149.25\" y=\"-53.7\" font-family=\"Helvetica,sans-Serif\" font-size=\"14.00\">gini = 0.423</text>\n",
       "<text xml:space=\"preserve\" text-anchor=\"start\" x=\"143.62\" y=\"-37.95\" font-family=\"Helvetica,sans-Serif\" font-size=\"14.00\">samples = 23</text>\n",
       "<text xml:space=\"preserve\" text-anchor=\"start\" x=\"141.75\" y=\"-22.2\" font-family=\"Helvetica,sans-Serif\" font-size=\"14.00\">value = [7, 16]</text>\n",
       "<text xml:space=\"preserve\" text-anchor=\"start\" x=\"135\" y=\"-6.45\" font-family=\"Helvetica,sans-Serif\" font-size=\"14.00\">class = Survived</text>\n",
       "</g>\n",
       "<!-- 2&#45;&gt;4 -->\n",
       "<g id=\"edge4\" class=\"edge\">\n",
       "<title>2&#45;&gt;4</title>\n",
       "<path fill=\"none\" stroke=\"black\" d=\"M184.5,-106.7C184.5,-98.82 184.5,-90.55 184.5,-82.57\"/>\n",
       "<polygon fill=\"black\" stroke=\"black\" points=\"188,-82.67 184.5,-72.67 181,-82.67 188,-82.67\"/>\n",
       "</g>\n",
       "<!-- 6 -->\n",
       "<g id=\"node7\" class=\"node\">\n",
       "<title>6</title>\n",
       "<path fill=\"#b7dbf6\" stroke=\"black\" d=\"M363,-71C363,-71 272,-71 272,-71 266,-71 260,-65 260,-59 260,-59 260,-12 260,-12 260,-6 266,0 272,0 272,0 363,0 363,0 369,0 375,-6 375,-12 375,-12 375,-59 375,-59 375,-65 369,-71 363,-71\"/>\n",
       "<text xml:space=\"preserve\" text-anchor=\"start\" x=\"282.25\" y=\"-53.7\" font-family=\"Helvetica,sans-Serif\" font-size=\"14.00\">gini = 0.475</text>\n",
       "<text xml:space=\"preserve\" text-anchor=\"start\" x=\"276.62\" y=\"-37.95\" font-family=\"Helvetica,sans-Serif\" font-size=\"14.00\">samples = 18</text>\n",
       "<text xml:space=\"preserve\" text-anchor=\"start\" x=\"275.12\" y=\"-22.2\" font-family=\"Helvetica,sans-Serif\" font-size=\"14.00\">value = [7, 11]</text>\n",
       "<text xml:space=\"preserve\" text-anchor=\"start\" x=\"268\" y=\"-6.45\" font-family=\"Helvetica,sans-Serif\" font-size=\"14.00\">class = Survived</text>\n",
       "</g>\n",
       "<!-- 5&#45;&gt;6 -->\n",
       "<g id=\"edge6\" class=\"edge\">\n",
       "<title>5&#45;&gt;6</title>\n",
       "<path fill=\"none\" stroke=\"black\" d=\"M361.66,-106.7C356.35,-98.27 350.77,-89.39 345.43,-80.9\"/>\n",
       "<polygon fill=\"black\" stroke=\"black\" points=\"348.39,-79.04 340.11,-72.44 342.47,-82.77 348.39,-79.04\"/>\n",
       "</g>\n",
       "<!-- 7 -->\n",
       "<g id=\"node8\" class=\"node\">\n",
       "<title>7</title>\n",
       "<path fill=\"#e89051\" stroke=\"black\" d=\"M497.75,-71C497.75,-71 405.25,-71 405.25,-71 399.25,-71 393.25,-65 393.25,-59 393.25,-59 393.25,-12 393.25,-12 393.25,-6 399.25,0 405.25,0 405.25,0 497.75,0 497.75,0 503.75,0 509.75,-6 509.75,-12 509.75,-12 509.75,-59 509.75,-59 509.75,-65 503.75,-71 497.75,-71\"/>\n",
       "<text xml:space=\"preserve\" text-anchor=\"start\" x=\"416.25\" y=\"-53.7\" font-family=\"Helvetica,sans-Serif\" font-size=\"14.00\">gini = 0.193</text>\n",
       "<text xml:space=\"preserve\" text-anchor=\"start\" x=\"406.88\" y=\"-37.95\" font-family=\"Helvetica,sans-Serif\" font-size=\"14.00\">samples = 323</text>\n",
       "<text xml:space=\"preserve\" text-anchor=\"start\" x=\"401.25\" y=\"-22.2\" font-family=\"Helvetica,sans-Serif\" font-size=\"14.00\">value = [288, 35]</text>\n",
       "<text xml:space=\"preserve\" text-anchor=\"start\" x=\"412.12\" y=\"-6.45\" font-family=\"Helvetica,sans-Serif\" font-size=\"14.00\">class = Dead</text>\n",
       "</g>\n",
       "<!-- 5&#45;&gt;7 -->\n",
       "<g id=\"edge7\" class=\"edge\">\n",
       "<title>5&#45;&gt;7</title>\n",
       "<path fill=\"none\" stroke=\"black\" d=\"M412.32,-106.7C416.97,-98.36 421.87,-89.59 426.56,-81.18\"/>\n",
       "<polygon fill=\"black\" stroke=\"black\" points=\"429.6,-82.92 431.42,-72.48 423.49,-79.51 429.6,-82.92\"/>\n",
       "</g>\n",
       "<!-- 9 -->\n",
       "<g id=\"node10\" class=\"node\">\n",
       "<title>9</title>\n",
       "<path fill=\"#46a3e7\" stroke=\"black\" d=\"M697.5,-193.75C697.5,-193.75 603.5,-193.75 603.5,-193.75 597.5,-193.75 591.5,-187.75 591.5,-181.75 591.5,-181.75 591.5,-119 591.5,-119 591.5,-113 597.5,-107 603.5,-107 603.5,-107 697.5,-107 697.5,-107 703.5,-107 709.5,-113 709.5,-119 709.5,-119 709.5,-181.75 709.5,-181.75 709.5,-187.75 703.5,-193.75 697.5,-193.75\"/>\n",
       "<text xml:space=\"preserve\" text-anchor=\"start\" x=\"599.5\" y=\"-176.45\" font-family=\"Helvetica,sans-Serif\" font-size=\"14.00\">Fare_log ≤ 0.539</text>\n",
       "<text xml:space=\"preserve\" text-anchor=\"start\" x=\"615.62\" y=\"-160.7\" font-family=\"Helvetica,sans-Serif\" font-size=\"14.00\">gini = 0.115</text>\n",
       "<text xml:space=\"preserve\" text-anchor=\"start\" x=\"605.88\" y=\"-144.95\" font-family=\"Helvetica,sans-Serif\" font-size=\"14.00\">samples = 131</text>\n",
       "<text xml:space=\"preserve\" text-anchor=\"start\" x=\"604\" y=\"-129.2\" font-family=\"Helvetica,sans-Serif\" font-size=\"14.00\">value = [8, 123]</text>\n",
       "<text xml:space=\"preserve\" text-anchor=\"start\" x=\"601\" y=\"-113.45\" font-family=\"Helvetica,sans-Serif\" font-size=\"14.00\">class = Survived</text>\n",
       "</g>\n",
       "<!-- 8&#45;&gt;9 -->\n",
       "<g id=\"edge9\" class=\"edge\">\n",
       "<title>8&#45;&gt;9</title>\n",
       "<path fill=\"none\" stroke=\"black\" d=\"M650.5,-229.55C650.5,-221.71 650.5,-213.42 650.5,-205.29\"/>\n",
       "<polygon fill=\"black\" stroke=\"black\" points=\"654,-205.48 650.5,-195.48 647,-205.48 654,-205.48\"/>\n",
       "</g>\n",
       "<!-- 12 -->\n",
       "<g id=\"node13\" class=\"node\">\n",
       "<title>12</title>\n",
       "<path fill=\"#f8fbfe\" stroke=\"black\" d=\"M898.5,-193.75C898.5,-193.75 804.5,-193.75 804.5,-193.75 798.5,-193.75 792.5,-187.75 792.5,-181.75 792.5,-181.75 792.5,-119 792.5,-119 792.5,-113 798.5,-107 804.5,-107 804.5,-107 898.5,-107 898.5,-107 904.5,-107 910.5,-113 910.5,-119 910.5,-119 910.5,-181.75 910.5,-181.75 910.5,-187.75 904.5,-193.75 898.5,-193.75\"/>\n",
       "<text xml:space=\"preserve\" text-anchor=\"start\" x=\"800.5\" y=\"-176.45\" font-family=\"Helvetica,sans-Serif\" font-size=\"14.00\">Fare_log ≤ 0.334</text>\n",
       "<text xml:space=\"preserve\" text-anchor=\"start\" x=\"823.75\" y=\"-160.7\" font-family=\"Helvetica,sans-Serif\" font-size=\"14.00\">gini = 0.5</text>\n",
       "<text xml:space=\"preserve\" text-anchor=\"start\" x=\"806.88\" y=\"-144.95\" font-family=\"Helvetica,sans-Serif\" font-size=\"14.00\">samples = 104</text>\n",
       "<text xml:space=\"preserve\" text-anchor=\"start\" x=\"805\" y=\"-129.2\" font-family=\"Helvetica,sans-Serif\" font-size=\"14.00\">value = [51, 53]</text>\n",
       "<text xml:space=\"preserve\" text-anchor=\"start\" x=\"802\" y=\"-113.45\" font-family=\"Helvetica,sans-Serif\" font-size=\"14.00\">class = Survived</text>\n",
       "</g>\n",
       "<!-- 8&#45;&gt;12 -->\n",
       "<g id=\"edge12\" class=\"edge\">\n",
       "<title>8&#45;&gt;12</title>\n",
       "<path fill=\"none\" stroke=\"black\" d=\"M709.18,-236.87C732.09,-223.11 758.54,-207.22 782.37,-192.91\"/>\n",
       "<polygon fill=\"black\" stroke=\"black\" points=\"783.99,-196.02 790.76,-187.87 780.38,-190.02 783.99,-196.02\"/>\n",
       "</g>\n",
       "<!-- 10 -->\n",
       "<g id=\"node11\" class=\"node\">\n",
       "<title>10</title>\n",
       "<path fill=\"#57ace9\" stroke=\"black\" d=\"M631,-71C631,-71 540,-71 540,-71 534,-71 528,-65 528,-59 528,-59 528,-12 528,-12 528,-6 534,0 540,0 540,0 631,0 631,0 637,0 643,-6 643,-12 643,-12 643,-59 643,-59 643,-65 637,-71 631,-71\"/>\n",
       "<text xml:space=\"preserve\" text-anchor=\"start\" x=\"550.25\" y=\"-53.7\" font-family=\"Helvetica,sans-Serif\" font-size=\"14.00\">gini = 0.229</text>\n",
       "<text xml:space=\"preserve\" text-anchor=\"start\" x=\"544.62\" y=\"-37.95\" font-family=\"Helvetica,sans-Serif\" font-size=\"14.00\">samples = 53</text>\n",
       "<text xml:space=\"preserve\" text-anchor=\"start\" x=\"542.75\" y=\"-22.2\" font-family=\"Helvetica,sans-Serif\" font-size=\"14.00\">value = [7, 46]</text>\n",
       "<text xml:space=\"preserve\" text-anchor=\"start\" x=\"536\" y=\"-6.45\" font-family=\"Helvetica,sans-Serif\" font-size=\"14.00\">class = Survived</text>\n",
       "</g>\n",
       "<!-- 9&#45;&gt;10 -->\n",
       "<g id=\"edge10\" class=\"edge\">\n",
       "<title>9&#45;&gt;10</title>\n",
       "<path fill=\"none\" stroke=\"black\" d=\"M625.93,-106.7C621.07,-98.27 615.96,-89.39 611.07,-80.9\"/>\n",
       "<polygon fill=\"black\" stroke=\"black\" points=\"614.24,-79.39 606.21,-72.47 608.17,-82.88 614.24,-79.39\"/>\n",
       "</g>\n",
       "<!-- 11 -->\n",
       "<g id=\"node12\" class=\"node\">\n",
       "<title>11</title>\n",
       "<path fill=\"#3c9ee5\" stroke=\"black\" d=\"M764,-71C764,-71 673,-71 673,-71 667,-71 661,-65 661,-59 661,-59 661,-12 661,-12 661,-6 667,0 673,0 673,0 764,0 764,0 770,0 776,-6 776,-12 776,-12 776,-59 776,-59 776,-65 770,-71 764,-71\"/>\n",
       "<text xml:space=\"preserve\" text-anchor=\"start\" x=\"683.25\" y=\"-53.7\" font-family=\"Helvetica,sans-Serif\" font-size=\"14.00\">gini = 0.025</text>\n",
       "<text xml:space=\"preserve\" text-anchor=\"start\" x=\"677.62\" y=\"-37.95\" font-family=\"Helvetica,sans-Serif\" font-size=\"14.00\">samples = 78</text>\n",
       "<text xml:space=\"preserve\" text-anchor=\"start\" x=\"675.75\" y=\"-22.2\" font-family=\"Helvetica,sans-Serif\" font-size=\"14.00\">value = [1, 77]</text>\n",
       "<text xml:space=\"preserve\" text-anchor=\"start\" x=\"669\" y=\"-6.45\" font-family=\"Helvetica,sans-Serif\" font-size=\"14.00\">class = Survived</text>\n",
       "</g>\n",
       "<!-- 9&#45;&gt;11 -->\n",
       "<g id=\"edge11\" class=\"edge\">\n",
       "<title>9&#45;&gt;11</title>\n",
       "<path fill=\"none\" stroke=\"black\" d=\"M676.21,-106.7C681.29,-98.27 686.64,-89.39 691.75,-80.9\"/>\n",
       "<polygon fill=\"black\" stroke=\"black\" points=\"694.68,-82.83 696.84,-72.45 688.68,-79.21 694.68,-82.83\"/>\n",
       "</g>\n",
       "<!-- 13 -->\n",
       "<g id=\"node14\" class=\"node\">\n",
       "<title>13</title>\n",
       "<path fill=\"#79bced\" stroke=\"black\" d=\"M897,-71C897,-71 806,-71 806,-71 800,-71 794,-65 794,-59 794,-59 794,-12 794,-12 794,-6 800,0 806,0 806,0 897,0 897,0 903,0 909,-6 909,-12 909,-12 909,-59 909,-59 909,-65 903,-71 897,-71\"/>\n",
       "<text xml:space=\"preserve\" text-anchor=\"start\" x=\"816.25\" y=\"-53.7\" font-family=\"Helvetica,sans-Serif\" font-size=\"14.00\">gini = 0.368</text>\n",
       "<text xml:space=\"preserve\" text-anchor=\"start\" x=\"810.62\" y=\"-37.95\" font-family=\"Helvetica,sans-Serif\" font-size=\"14.00\">samples = 37</text>\n",
       "<text xml:space=\"preserve\" text-anchor=\"start\" x=\"808.75\" y=\"-22.2\" font-family=\"Helvetica,sans-Serif\" font-size=\"14.00\">value = [9, 28]</text>\n",
       "<text xml:space=\"preserve\" text-anchor=\"start\" x=\"802\" y=\"-6.45\" font-family=\"Helvetica,sans-Serif\" font-size=\"14.00\">class = Survived</text>\n",
       "</g>\n",
       "<!-- 12&#45;&gt;13 -->\n",
       "<g id=\"edge13\" class=\"edge\">\n",
       "<title>12&#45;&gt;13</title>\n",
       "<path fill=\"none\" stroke=\"black\" d=\"M851.5,-106.7C851.5,-98.82 851.5,-90.55 851.5,-82.57\"/>\n",
       "<polygon fill=\"black\" stroke=\"black\" points=\"855,-82.67 851.5,-72.67 848,-82.67 855,-82.67\"/>\n",
       "</g>\n",
       "<!-- 14 -->\n",
       "<g id=\"node15\" class=\"node\">\n",
       "<title>14</title>\n",
       "<path fill=\"#f4ccaf\" stroke=\"black\" d=\"M1024,-71C1024,-71 939,-71 939,-71 933,-71 927,-65 927,-59 927,-59 927,-12 927,-12 927,-6 933,0 939,0 939,0 1024,0 1024,0 1030,0 1036,-6 1036,-12 1036,-12 1036,-59 1036,-59 1036,-65 1030,-71 1024,-71\"/>\n",
       "<text xml:space=\"preserve\" text-anchor=\"start\" x=\"946.25\" y=\"-53.7\" font-family=\"Helvetica,sans-Serif\" font-size=\"14.00\">gini = 0.468</text>\n",
       "<text xml:space=\"preserve\" text-anchor=\"start\" x=\"940.62\" y=\"-37.95\" font-family=\"Helvetica,sans-Serif\" font-size=\"14.00\">samples = 67</text>\n",
       "<text xml:space=\"preserve\" text-anchor=\"start\" x=\"935\" y=\"-22.2\" font-family=\"Helvetica,sans-Serif\" font-size=\"14.00\">value = [42, 25]</text>\n",
       "<text xml:space=\"preserve\" text-anchor=\"start\" x=\"942.12\" y=\"-6.45\" font-family=\"Helvetica,sans-Serif\" font-size=\"14.00\">class = Dead</text>\n",
       "</g>\n",
       "<!-- 12&#45;&gt;14 -->\n",
       "<g id=\"edge14\" class=\"edge\">\n",
       "<title>12&#45;&gt;14</title>\n",
       "<path fill=\"none\" stroke=\"black\" d=\"M900.65,-106.7C911.21,-97.53 922.36,-87.85 932.9,-78.7\"/>\n",
       "<polygon fill=\"black\" stroke=\"black\" points=\"935.19,-81.35 940.44,-72.15 930.6,-76.06 935.19,-81.35\"/>\n",
       "</g>\n",
       "</g>\n",
       "</svg>\n"
      ],
      "text/plain": [
       "<graphviz.sources.Source at 0x1d9dedbbf70>"
      ]
     },
     "execution_count": 20,
     "metadata": {},
     "output_type": "execute_result"
    }
   ],
   "source": [
    "\n",
    "dot_data = export_graphviz(\n",
    "    model, out_file=None, feature_names=X_train.columns.values, class_names=['Dead','Survived'],  filled=True,\n",
    "    rounded=True, special_characters=True\n",
    ")  \n",
    "graph = Source(dot_data)\n",
    "graph "
   ]
  },
  {
   "cell_type": "markdown",
   "metadata": {},
   "source": [
    "#### Vergleich von Ergebnissen mit der nicht optimierten Version\n",
    "\n",
    "<div class=\"alert alert-block alert-success\">\n",
    "<b>Aufgabe 3.2.15:</b> Bestimmen Sie die Wirkung von GridSearchCV\n",
    "<ul>\n",
    "<li> Benutzen Sie folgenden Ausdruck: (acc2 - acc1) / acc1 * 100%\n",
    "<li> acc1 und acc2 sind die Korrektklassifikationsrate (engl. accuracies) der Kreuzvalidierung vor und nach der Optimierung von max_depth mit GridSearchCV \n",
    "<li> Hinweis: acc1 wurde bereits vor der Optimierung verwendet, berechnen Sie daher acc2 zum Vergleich\n",
    "<li> Geben Sie die Verbesserung (berechnet durch den Ausdruck) und die mittlere Korrektklassifikationsrate (engl. accuracy) des optimierten dec_tree aus. Verwenden Sie eine Baumtiefe von 3 und einen random_state = 17 für die Reproduzierbarkeit. \n",
    "</ul>\n",
    "</div>\n"
   ]
  },
  {
   "cell_type": "code",
   "execution_count": 13,
   "metadata": {},
   "outputs": [
    {
     "name": "stdout",
     "output_type": "stream",
     "text": [
      "Die Korrektklassifikationsrate wurde um  1.4830237027546453  Prozent verbessert.\n"
     ]
    }
   ],
   "source": [
    "# STUDENT CODE HERE\n",
    "print(\"Die Korrektklassifikationsrate wurde um \",(acc2-acc1)/acc1*100 ,\" Prozent verbessert.\")\n",
    "# STUDENT CODE until HERE"
   ]
  },
  {
   "cell_type": "markdown",
   "metadata": {},
   "source": [
    "<div class=\"alert alert-block alert-success\">\n",
    "<b>Frage 3.2.16:</b> Was sind die Vorteile des \"grid search\" - Verfahrens?\n",
    "</div>\n",
    "\n",
    "<div class=\"alert alert-block alert-success\">\n",
    "<b>Ihre Antwort:</b> Durch Ausprobieren verschiedener Parameter und Parameterkombinationen werden die beste ausgewählt.</div>\n"
   ]
  },
  {
   "cell_type": "markdown",
   "metadata": {},
   "source": [
    "#### Einfluss der Skalierung\n",
    "\n",
    "Als letzten Schritt wollen wir den Einfluss unterschiedlicher Skalierungen auf unsere Trainingsdaten auswerten.\n",
    "\n",
    "##### Skalieren der Datensätze mit Standard Scaler und MinMaxScaler\n",
    "\n",
    "\n",
    "<div class=\"alert alert-block alert-success\">\n",
    "<b>Aufgabe 3.2.17:</b> \n",
    "\n",
    "Laden Sie die in sklearn.preprocessing enthaltenen Funktionen für den StandardScaler und den MinMaxScaler.\n",
    "\n",
    "</div>"
   ]
  },
  {
   "cell_type": "code",
   "execution_count": 14,
   "metadata": {},
   "outputs": [],
   "source": [
    "# STUDENT CODE HERE\n",
    "from sklearn.preprocessing import StandardScaler, MinMaxScaler\n",
    "# STUDENT CODE until HERE"
   ]
  },
  {
   "cell_type": "markdown",
   "metadata": {},
   "source": [
    "<div class=\"alert alert-block alert-success\">\n",
    "<b>Aufgabe 3.2.18:</b> Bereiten Sie zwei verschiedene Datensätze vor, einen skaliert mit StandardScaler und den anderen mit MinMaxScaler.\n",
    "<ul>\n",
    "<li> Erstellen Sie die entsprechenden Skalierer und verwenden Sie die Methode <code>.fit_transform()</code> unter Verwendung des gesamten Trainingsdatensatzes\n",
    "<li> Transformieren Sie dann den Testdatensatz mit den angepassten Skalern mithilfe der Funktion transform\n",
    "    \n",
    "</ul>\n",
    "</div>\n"
   ]
  },
  {
   "cell_type": "code",
   "execution_count": 15,
   "metadata": {},
   "outputs": [],
   "source": [
    "# STUDENT CODE HERE\n",
    "X_train_st=StandardScaler(copy=True).fit_transform(X_train)\n",
    "X_test_st=StandardScaler(copy=True).fit_transform(X_test)\n",
    "X_train_min_max=MinMaxScaler().fit_transform(X_train)\n",
    "X_test_min_max=MinMaxScaler().fit_transform(X_test)\n",
    "# STUDENT CODE until HERE"
   ]
  },
  {
   "cell_type": "markdown",
   "metadata": {},
   "source": [
    "#### Evaluieren Sie die Leistung der skalierten Datensätze\n",
    "\n",
    "\n",
    "\n",
    "<div class=\"alert alert-block alert-success\">\n",
    "<b>Aufgabe 3.2.19:</b> Trainieren Sie nun ein weiteres Entscheidungsbaummodell mit jedem der neu skalierten Datensätze (DecisionTreeClassifier, random_state = 17)\n",
    "<ul>\n",
    "<li> Berechnen Sie die Korrektklassifikationsrate des Testdatensatzes für beide Datensätze\n",
    "<li> Verwenden Sie eine maximale Tiefe von 3 für den Trainingsprozess\n",
    "\n",
    "</ul>\n",
    "</div>\n",
    "\n"
   ]
  },
  {
   "cell_type": "code",
   "execution_count": 16,
   "metadata": {},
   "outputs": [
    {
     "name": "stdout",
     "output_type": "stream",
     "text": [
      "Accuracy Score: \n"
     ]
    },
    {
     "data": {
      "text/plain": [
       "0.8100558659217877"
      ]
     },
     "execution_count": 16,
     "metadata": {},
     "output_type": "execute_result"
    }
   ],
   "source": [
    "# Standard Scaler dataset\n",
    "# STUDENT CODE HERE\n",
    "\n",
    "model=DecisionTreeClassifier(random_state=17,max_depth=3).fit(X_train_st,y_train)\n",
    "y_pred=model.predict(X_test_st)\n",
    "print(\"Accuracy Score: \")\n",
    "accuracy_score(y_test,y_pred)\n",
    "\n",
    "\n",
    "# STUDENT CODE until HERE"
   ]
  },
  {
   "cell_type": "code",
   "execution_count": 17,
   "metadata": {},
   "outputs": [
    {
     "name": "stdout",
     "output_type": "stream",
     "text": [
      "Accuracy Score: \n"
     ]
    },
    {
     "data": {
      "text/plain": [
       "0.8100558659217877"
      ]
     },
     "execution_count": 17,
     "metadata": {},
     "output_type": "execute_result"
    }
   ],
   "source": [
    "# MinMax Scaler dataset\n",
    "# STUDENT CODE HERE\n",
    "model=DecisionTreeClassifier(random_state=17,max_depth=3).fit(X_train_min_max,y_train)\n",
    "y_pred=model.predict(X_test_min_max)\n",
    "print(\"Accuracy Score: \")\n",
    "accuracy_score(y_test,y_pred)\n",
    "\n",
    "# STUDENT CODE until HERE"
   ]
  },
  {
   "cell_type": "markdown",
   "metadata": {},
   "source": [
    "<div class=\"alert alert-block alert-success\">\n",
    "<b>Frage 3.2.20:</b> Vergleichen Sie die Korrektklassifikationsrate (engl. accuracy) der Ergebnisse beider Skalierungsoptionen mit der ursprünglichen (ohne skalierte Datensätze) Leistung bei einer Baumtiefe von drei. Was stellen Sie fest? Warum entspricht dieses Ergebnis nicht den Erwartungen? (Vergleichen Sie es nicht mit dem Ergebnis der Kreuzvalidierung) Empfehlen Sie, die Skalierung generell anzuwenden?\n",
    "</div>\n",
    "\n",
    "<div class=\"alert alert-block alert-success\">\n",
    "<b>Ihre Antwort:</b> Die Korrektklassifikationsrate beider Skalierungen ist gleich groß und etwa genauso gut wie ohne Skalierung. Ein Entscheidungsbaum berechnet keine Abstände oder Gradienten, daher bringt eine Skalierung keinen Vorteil und ist nicht nötig.</div>\n"
   ]
  },
  {
   "cell_type": "markdown",
   "metadata": {},
   "source": [
    "### RandomForests mit scikit-learn\n",
    "\n",
    "Wir verwenden nicht nur einen Entscheidungsbaum, sondern mehrere. Dadurch berücksichtigen wir Ausgaben mehrere Klassifikatoren als nur eine einzige (Ensemble-Methode - in diesem Fall Bagging). RandomForest-Klassifikatoren sind weniger anfällig für Overfit."
   ]
  },
  {
   "cell_type": "code",
   "execution_count": 18,
   "metadata": {},
   "outputs": [
    {
     "name": "stdout",
     "output_type": "stream",
     "text": [
      "Accuracy: 0.81 (+/- 0.05)\n"
     ]
    }
   ],
   "source": [
    "from sklearn.ensemble import RandomForestClassifier\n",
    "from sklearn.model_selection import StratifiedKFold,cross_val_score\n",
    "import warnings\n",
    "from sklearn.exceptions import DataConversionWarning\n",
    "warnings.filterwarnings(\"ignore\", category=DataConversionWarning)\n",
    "\n",
    "random_forest = RandomForestClassifier(random_state=17)\n",
    "fold = StratifiedKFold(n_splits=5, random_state=17, shuffle=True)\n",
    "\n",
    "scores = cross_val_score(random_forest, X_train, y_train, cv=fold)\n",
    "print(\"Accuracy: %0.2f (+/- %0.2f)\" % (scores.mean(), scores.std() * 2))"
   ]
  },
  {
   "cell_type": "markdown",
   "metadata": {},
   "source": [
    "Fast so gut wie unser optimierter Entscheidungsbaum und besser als unsere nicht optimierte Version, da nur die Standardwerte von RandomForestClassifiers verwendet und nicht optimiert werden. Sie sollten dieses Werkzeug des maschinellen Lernens im Hinterkopf behalten."
   ]
  }
 ],
 "metadata": {
  "kernelspec": {
   "display_name": "Python 3",
   "language": "python",
   "name": "python3"
  },
  "language_info": {
   "codemirror_mode": {
    "name": "ipython",
    "version": 3
   },
   "file_extension": ".py",
   "mimetype": "text/x-python",
   "name": "python",
   "nbconvert_exporter": "python",
   "pygments_lexer": "ipython3",
   "version": "3.10.11"
  }
 },
 "nbformat": 4,
 "nbformat_minor": 4
}
