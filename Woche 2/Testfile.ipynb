{
 "cells": [
  {
   "cell_type": "code",
   "execution_count": null,
   "id": "992725a5",
   "metadata": {},
   "outputs": [],
   "source": [
    "from sklearn.metrics import confusion_matrix\n",
    "#STUDENT CODE HERE\n",
    "# Cross Validation Regression MAE\n",
    "from pandas import read_csv\n",
    "import numpy as np\n",
    "from sklearn import datasets, linear_model\n",
    "from sklearn.model_selection import KFold\n",
    "from sklearn.model_selection import cross_val_score\n",
    "from sklearn.linear_model import LinearRegression\n",
    "from sklearn.preprocessing import KBinsDiscretizer\n",
    "from sklearn.model_selection import train_test_split\n",
    "from statsmodels.tools.eval_measures import rmse\n",
    "import matplotlib.pyplot as plt\n",
    "\n",
    "# #STUDENT CODE HERE\n",
    "filename=\"data/housing.csv\"\n",
    "names=[\"crim\",\"zn\",\"indus\",\"chas\",\"nox\",\"rm\",\"age\",\"dis\",\"rad\",\"tax\",\"ptratio\",\"black\",\"lstat\",\"price\"]\n",
    "#STUDENT CODE until HERE\n",
    "dataframe = read_csv(filename, delim_whitespace=True,names=names)\n",
    "X=np.array(dataframe[\"tax\"])\n",
    "Y=np.array(dataframe[\"price\"])\n",
    "X=X.reshape(len(X),1)\n",
    "Y=Y.reshape(len(Y),1)\n",
    "\n",
    "# STUDENT CODE HERE\n",
    "plt.figure()\n",
    "plt.scatter(X,Y,color='b')\n",
    "\n",
    "kf=KFold(n_splits=10,random_state=7, shuffle=True)\n",
    "scores=[] #to store r squared\n",
    "rmse_list=[] #to store RMSE\n",
    "for train_index, test_index in kf.split(X):\n",
    "    X_train, X_test = X[train_index], X[test_index]\n",
    "    y_train, y_test = Y[train_index], Y[test_index]\n",
    "    model=LinearRegression().fit(X_train,y_train)\n",
    "    y_pred=model.predict(X_test)\n",
    "    scores.append(model.score(X_test, y_test))\n",
    "    rmse_fold = rmse(y_test, y_pred)\n",
    "    rmse_list.append(rmse_fold)\n",
    "    plt.scatter(X_test,y_pred,color='r')\n",
    "    plt.scatter(X_test,y_test,color='g')\n",
    "# print(X_test)\n",
    "# print(y_pred)\n",
    "plt.show()\n",
    "\n",
    "#STUDENT CODE until HERE"
   ]
  }
 ],
 "metadata": {
  "language_info": {
   "name": "python"
  }
 },
 "nbformat": 4,
 "nbformat_minor": 5
}
