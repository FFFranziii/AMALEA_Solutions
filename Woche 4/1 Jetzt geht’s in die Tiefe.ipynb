{
 "cells": [
  {
   "cell_type": "markdown",
   "metadata": {},
   "source": [
    "# Jetzt geht’s in die Tiefe"
   ]
  },
  {
   "cell_type": "markdown",
   "metadata": {},
   "source": [
    "## Regression mit neuronalen Netzen\n",
    "\n",
    "Künstliche neuronale Netze werden verwendet, um eine Vielzahl von Problemen zu lösen. Dabei werden wir uns zunächst auf die neuronalen Netze der Regression konzentrieren, da diese am Anfang leichter zu verstehen sind. Wir werden die Grundlagen von neuronalen Netzen kennenlernen, indem wir sie zur Lösung von beispielhaften Regressionsaufgaben verwenden werden. Zunächst wird das einzelne künstliche Neuron vorgestellt. Im nächsten Schritt werden wir Ihnen die Aktivierungsfunktionen mit interaktiven Aufgabenstellungen näher bringen, ehe wir uns der Backpropagation zuwenden.\n"
   ]
  },
  {
   "cell_type": "markdown",
   "metadata": {},
   "source": [
    "### Das künstliche Neuron in der Theorie\n",
    "\n",
    "\n",
    "Das künstliche Neuron ist eine mathematische Funktion, die sich an der Informationsverarbeitung einer biologischen Nervenzelle orientiert. Jedes Neuron nimmt einen oder mehrere Werte als Eingaben ($x_n$) entgegen und gibt einen Wert (y) aus. Dabei führt es eine einfache mathematische Operation aus. (siehe (1) und Abb. 1):\n",
    "\n",
    "\n",
    "\\begin{align}\n",
    "f_{\\text{neuron}}(x) & = \\phi(\\sum_{n=1}^m {x_n \\cdot w_{n}} + b) \\;\\;\\;\\;\\;\\;\\;\\;\\;\\;\\; (1)\n",
    "\\end{align}\n",
    "\n",
    "\n",
    "- **Eingaben** $x_n$ sind numerische Werte, die durch die Daten oder durch andere Neuronen gegeben sind\n",
    "- **Gewichte** $w_{n}$ werden mit den Eingangswerten multipliziert\n",
    "- Es wird eine **Summe $v$** der gewichteten Eingänge berechnet\n",
    "- Ein **konstanter Wert** $b$ wird zu der Summe addiert (sog. **Bias**)\n",
    "- Eine **Aktivierungsfunktion $𝜙$** wird auf die Summe angewendet\n",
    "- Der **Ausgang** $y$ kann als Eingabe für ein anderes Neuron oder als Endausgabe eines Netzes verwendet werden\n",
    "\n",
    "Die resultierende Ausgabe wird auch als die \"Aktivierung\" $y$ des Neurons bezeichnet. \n",
    "Obwohl dieser Mechanismus sehr einfach ist, ist eine Vielzahl von einfachen Neuronen in der Lage, sehr komplexe Probleme zu lösen.\n",
    "\n",
    "\n",
    "<img src=\"images/neural_network.png\" />\n",
    "<p style=\"text-align: center;\">\n",
    "    Abb. 1 - Allgemeines künstliches Neuron\n",
    "</p>"
   ]
  },
  {
   "cell_type": "markdown",
   "metadata": {},
   "source": [
    "<div class=\"alert alert-block alert-info\">\n",
    "<b>Hinweis:</b>   \n",
    "<ul>\n",
    "<li>Ein künstliches Neuron ist nur ein abstraktes Konzept. Auch wenn wir in diesem Jupyter-Notebook <b>Neuron-Objekte</b> erstellen werden, um Code wiederverwenden zu können, ist ein Neuron nicht an eine bestimmte Form oder Implementierung gebunden. Es gibt sogar Ansätze, künstliche Neuronen mit <a href=\"https://www.osapublishing.org/optica/abstract.cfm?uri=optica-6-9-1132\">reiner Optik</a> zu realisieren.\n",
    "Solange ein Objekt ein Verhalten zeigt, das durch die mathematische Funktion (1) beschrieben werden kann, können wir es als \"Neuron\" betrachten.\n",
    "<li> Man könnte den Bias in die Summe in (1) integrieren, indem man ihn als $w_0$ mit einem entsprechenden $x_0 = 1$ bezeichnet.\n",
    "</li>\n",
    "</ul>\n",
    "<br>\n",
    "</div>"
   ]
  },
  {
   "cell_type": "markdown",
   "metadata": {},
   "source": [
    "### Ein einfaches Neuron in der Praxis\n",
    "Zur Verdeutlichung betrachten wir nun ein Neuron mit nur einem einzigen Eingang und ohne Aktivierungsfunktion. Dieses Neuron ist bereits in der Lage, Funktionen der Form (2) zu modellieren. Das Neuron kann wie in Abbildung 2 visualisiert werden.\n",
    "\n",
    "\\begin{align}\n",
    "f_{\\text{neuron}}(x) & = w * x + b \\;\\;\\;\\;\\;\\;\\;\\;\\;\\;\\;        (2)\n",
    "\\end{align}\n",
    "\n",
    "\n",
    "\n",
    "<img src=\"images/single_neuron_no_activation.png\" />\n",
    "<p style=\"text-align: center;\">\n",
    "    Abb. 2 - Einfaches künstliches Neuron\n",
    "</p>\n",
    "\n",
    "\n"
   ]
  },
  {
   "cell_type": "markdown",
   "metadata": {},
   "source": [
    "Unsere Neuronenklasse wird nur einen Eingang, ein Gewicht und einen Bias haben. \n",
    "- Bei der Initialisierung wird sie mit einem interaktiven Plot verbunden.\n",
    "- Ihre Gewichte und Bias können mit der Methode set_values geändert werden.\n",
    "- Die Gewichte und Biaswerte können mit den Methoden get_weights/get_bias abgefragt werden.\n",
    "- Wenn das Neuron modifiziert wird, benachrichtigt es den interaktiven Plot, damit dieser den Graphen aktualisiert.\n",
    "- Sie verfügt über eine compute Methode, die die Aktivierung in Abhängigkeit der Gewichte und des Eingangs berechnet."
   ]
  },
  {
   "cell_type": "markdown",
   "metadata": {},
   "source": [
    "<div class=\"alert alert-block alert-success\">\n",
    "<b>Aufgabe 4.1.1:</b> Implementieren Sie die in (2) beschriebene Funktion eines Neurons und speichern Sie das Ergebnis in der Variablen <code>value</code>.\n",
    "</div>"
   ]
  },
  {
   "cell_type": "code",
   "execution_count": 3,
   "metadata": {},
   "outputs": [],
   "source": [
    "def y(x:list, w:float, b:float):\n",
    "    #STUDENT CODE HERE\n",
    "    value=w*x+b\n",
    "    #STUDENT CODE until HERE\n",
    "    return value"
   ]
  },
  {
   "cell_type": "markdown",
   "metadata": {},
   "source": [
    "Schauen wir uns nun den Verlauf für <code>w=-1</code> und <code>b=1</code> an."
   ]
  },
  {
   "cell_type": "code",
   "execution_count": 4,
   "metadata": {},
   "outputs": [
    {
     "data": {
      "image/png": "[encoded data removed]",
      "text/plain": [
       "<Figure size 640x480 with 1 Axes>"
      ]
     },
     "metadata": {},
     "output_type": "display_data"
    }
   ],
   "source": [
    "w = -1\n",
    "b = 1\n",
    "values = []\n",
    "for x in range(10):\n",
    "    values.append(y(x, w, b))\n",
    "\n",
    "import matplotlib.pyplot as plt\n",
    "\n",
    "plt.figure()\n",
    "plt.plot(range(10), values, marker='o', linestyle='dashed')\n",
    "plt.xlabel('x')\n",
    "plt.ylabel('y')\n",
    "plt.show()"
   ]
  },
  {
   "cell_type": "code",
   "execution_count": null,
   "metadata": {},
   "outputs": [],
   "source": []
  }
 ],
 "metadata": {
  "kernelspec": {
   "display_name": "Python 3",
   "language": "python",
   "name": "python3"
  },
  "language_info": {
   "codemirror_mode": {
    "name": "ipython",
    "version": 3
   },
   "file_extension": ".py",
   "mimetype": "text/x-python",
   "name": "python",
   "nbconvert_exporter": "python",
   "pygments_lexer": "ipython3",
   "version": "3.12.7"
  }
 },
 "nbformat": 4,
 "nbformat_minor": 4
}
