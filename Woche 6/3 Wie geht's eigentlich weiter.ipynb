{
 "cells": [
  {
   "cell_type": "markdown",
   "metadata": {},
   "source": [
    "# Wie geht's eigentlich weiter?"
   ]
  },
  {
   "cell_type": "markdown",
   "metadata": {},
   "source": [
    "## Einführung und Überblick\n",
    "\n",
    "In dieser Aufgabe lernen Sie die Grundlagen zur Entwicklung rekurrenter neuronaler Netze (RNN), speziell Long Short-Term Memory Networks (LSTM). Diese Art von Algorithmen sind wegen ihrer Fähigkeit, zeitliche Abhängigkeiten in Daten zu beschreiben, sehr bekannt. Wenn Sie versuchen, ein Signal oder die Reaktion eines kausalen Systems zu modellieren, sind RNNs normalerweise eine der ersten Optionen, die Sie in Betracht ziehen (zusammen mit typischen statistischen Methoden wie linearen Regressionen, exponentieller Glättung, ARIMA-Modellen usw., die in dieser Aufgabe nicht berücksichtigt werden). Durch die rekursiven Verbindungen in diesem neuronalen Netz entsteht eine Art Gedächtnis, das Zeitreihen gut beschreibt. Dies ist besonders hilfreich im Hinblick auf Prognosen. Prognosen werden von vielen Unternehmen verwendet, um bei der Budgetierung, der Planung und der Abschätzung des zukünftigen Wachstums zu helfen. Mit anderen Worten, es ist der Versuch, zukünftige Ergebnisse auf der Grundlage vergangener Ereignisse vorherzusagen.\n",
    "\n",
    "Diese Arbeit ist wie folgt aufgebaut: Zunächst werden einige theoretische Hintergründe zur Zeitreihenanalyse und -prognose gegeben. Dann wird auf die Datenvorbereitung für Zeitreihen eingegangen, was der erste Schritt ist, den man vor Beginn eines jeden Prognoseprojekts machen muss. Danach wird der interessanteste Teil erklärt: LSTMs. Wir werden zunächst ein einfaches Vanilla-LSTM betrachten, mit einem Hidden Layer. Danach werden wir mehrere Layers stapeln und die Ergebnisse mit der Vanilla-Lösung vergleichen. Am Ende werden Sie einen TV-Skript-Generator erforschen und dabei Ihr erworbenes Wissen über Zeitreihen und LSTM-Netzwerke anwenden."
   ]
  },
  {
   "cell_type": "markdown",
   "metadata": {},
   "source": [
    "## Zeitreihenvorhersage\n",
    "Eine Zeitreihe ist eine Folge von Beobachtungen, die zeitlich aufeinander folgen. Diese Beobachtungen sind normalerweise Messungen in Form von numerischen Werten. Zum Beispiel kann der alle fünf Minuten gemessene Batteriestand eines Elektroautos als Zeitreihe ausgedrückt werden. \n",
    "\n",
    "### Beschreiben vs. Vorhersagen\n",
    "Das Verstehen eines Datensatzes, in diesem Fall Zeitreihenanalyse genannt, ist ein wichtiger Schritt, bevor man mit der Arbeit des Datensatzes beginnt. Dies kann helfen, bessere Vorhersagen zu treffen. Eine tiefe Zeitreihenanalyse ist jedoch nicht erforderlich, da sie zu einem großen technischen Aufwand, Zeit und Fachwissen führen kann, die nicht direkt mit dem gewünschten Ergebnis, nämlich der Vorhersage der Zukunft, übereinstimmt.\n",
    "\n",
    "Bei der deskriptiven Modellierung oder __Zeitreihenanalyse (engl. time series analysis)__ wird eine Zeitreihe modelliert, um ihre Komponenten in Bezug auf saisonale Muster, Trends, Beziehung zu externen Faktoren und dergleichen zu bestimmen. Im Gegensatz dazu nutzt die __Zeitreihenprognose (engl. time series forecasting)__ die Informationen in einer Zeitreihe (oft zusammen mit zusätzlichen Informationen), um zukünftige Werte der Reihe zu prognostizieren.[4]"
   ]
  },
  {
   "cell_type": "markdown",
   "metadata": {},
   "source": [
    "### Problem Definition\n",
    "Im folgenden Tutorial werden Sie mit einem einfachen Datensatz der elektrischen Last in Deutschland in MWh von Oktober 2017 bis Oktober 2019 arbeiten. Das Ziel dieser Aufgabe ist es, die Last für eine Woche mit LSTMs zu prognostizieren. \n",
    "\n",
    "Erkunden Sie zunächst den gegebenen Datensatz. Laden Sie die csv-Datei *Load_DE_2017_2019.csv*, geben Sie einige Datenelemente aus, prüfen Sie die Größe der Datei, verwenden Sie die Funktion __[describe()](https://pandas.pydata.org/pandas-docs/stable/generated/pandas.DataFrame.describe.html)__ von Pandas, um Mittelwert, Standardabweichung, Median, Minimum und Maximum der Beobachtungen zu prüfen. Dies kann helfen, eine Vorstellung von der Verteilung und Streuung der Werte zu bekommen. Dies kann Ihnen auch einige Ideen zur Datenskalierung und sogar zur Datenbereinigung geben, die Sie später als Teil der Vorbereitung Ihres Datensatzes für die Modellierung durchführen können.\n",
    "\n",
    "In dieser Aufgabe werden wir Series von Pandas als Datenstruktur verwenden. Weitere Informationen finden Sie in der offiziellen Pandas-Dokumentation [Intro to Data Structures](http://pandas.pydata.org/pandas-docs/stable/getting_started/dsintro.html)."
   ]
  },
  {
   "cell_type": "markdown",
   "metadata": {},
   "source": [
    "<div class=\"alert alert-block alert-success\">\n",
    "<b>Aufgabe 6.3.1:</b> Vervollständigen Sie die folgenden Code-Zellen entsprechend den darin enthaltenen Kommentaren.\n",
    "\n",
    "</div>"
   ]
  },
  {
   "cell_type": "code",
   "execution_count": 55,
   "metadata": {},
   "outputs": [
    {
     "name": "stderr",
     "output_type": "stream",
     "text": [
      "C:\\Users\\anderlfr\\AppData\\Local\\Temp\\ipykernel_32236\\2390383362.py:17: FutureWarning: The 'downcast' keyword in ffill is deprecated and will be removed in a future version. Use res.infer_objects(copy=False) to infer non-object dtype, or pd.to_numeric with the 'downcast' keyword to downcast numeric results.\n",
      "  dataset.ffill(downcast=\"infer\")\n"
     ]
    },
    {
     "data": {
      "application/vnd.microsoft.datawrangler.viewer.v0+json": {
       "columns": [
        {
         "name": "Date_Hour",
         "rawType": "datetime64[ns]",
         "type": "datetime"
        },
        {
         "name": "Load",
         "rawType": "float64",
         "type": "float"
        }
       ],
       "ref": "7422aeca-58b4-46a4-b76b-a6a72b40e9e2",
       "rows": [
        [
         "2017-10-01 00:00:00",
         "10046.25"
        ],
        [
         "2017-10-01 00:15:00",
         "9817.25"
        ],
        [
         "2017-10-01 00:30:00",
         "9666.0"
        ],
        [
         "2017-10-01 00:45:00",
         "9511.25"
        ],
        [
         "2017-10-01 01:00:00",
         "9439.0"
        ],
        [
         "2017-10-01 01:15:00",
         "9296.5"
        ],
        [
         "2017-10-01 01:30:00",
         "9173.25"
        ],
        [
         "2017-10-01 01:45:00",
         "9144.75"
        ],
        [
         "2017-10-01 02:00:00",
         "9081.5"
        ],
        [
         "2017-10-01 02:15:00",
         "9005.25"
        ],
        [
         "2017-10-01 02:30:00",
         "8941.0"
        ],
        [
         "2017-10-01 02:45:00",
         "8894.25"
        ],
        [
         "2017-10-01 03:00:00",
         "8834.75"
        ],
        [
         "2017-10-01 03:15:00",
         "8787.0"
        ],
        [
         "2017-10-01 03:30:00",
         "8773.5"
        ],
        [
         "2017-10-01 03:45:00",
         "8809.5"
        ],
        [
         "2017-10-01 04:00:00",
         "8703.5"
        ],
        [
         "2017-10-01 04:15:00",
         "8669.5"
        ],
        [
         "2017-10-01 04:30:00",
         "8760.5"
        ],
        [
         "2017-10-01 04:45:00",
         "8772.5"
        ],
        [
         "2017-10-01 05:00:00",
         "8797.0"
        ],
        [
         "2017-10-01 05:15:00",
         "8826.75"
        ],
        [
         "2017-10-01 05:30:00",
         "8810.0"
        ],
        [
         "2017-10-01 05:45:00",
         "8794.25"
        ],
        [
         "2017-10-01 06:00:00",
         "8892.25"
        ],
        [
         "2017-10-01 06:15:00",
         "8973.0"
        ],
        [
         "2017-10-01 06:30:00",
         "9128.5"
        ],
        [
         "2017-10-01 06:45:00",
         "9258.75"
        ],
        [
         "2017-10-01 07:00:00",
         "9460.75"
        ],
        [
         "2017-10-01 07:15:00",
         "9435.0"
        ],
        [
         "2017-10-01 07:30:00",
         "9599.0"
        ],
        [
         "2017-10-01 07:45:00",
         "9779.25"
        ],
        [
         "2017-10-01 08:00:00",
         "10162.0"
        ],
        [
         "2017-10-01 08:15:00",
         "10416.25"
        ],
        [
         "2017-10-01 08:30:00",
         "10664.25"
        ],
        [
         "2017-10-01 08:45:00",
         "10850.0"
        ],
        [
         "2017-10-01 09:00:00",
         "10987.25"
        ],
        [
         "2017-10-01 09:15:00",
         "11172.75"
        ],
        [
         "2017-10-01 09:30:00",
         "11346.75"
        ],
        [
         "2017-10-01 09:45:00",
         "11475.0"
        ],
        [
         "2017-10-01 10:00:00",
         "11667.5"
        ],
        [
         "2017-10-01 10:15:00",
         "11790.5"
        ],
        [
         "2017-10-01 10:30:00",
         "11915.75"
        ],
        [
         "2017-10-01 10:45:00",
         "12087.5"
        ],
        [
         "2017-10-01 11:00:00",
         "12162.5"
        ],
        [
         "2017-10-01 11:15:00",
         "12310.25"
        ],
        [
         "2017-10-01 11:30:00",
         "12396.25"
        ],
        [
         "2017-10-01 11:45:00",
         "12378.0"
        ],
        [
         "2017-10-01 12:00:00",
         "12361.5"
        ],
        [
         "2017-10-01 12:15:00",
         "12248.75"
        ]
       ],
       "shape": {
        "columns": 1,
        "rows": 70175
       }
      },
      "text/plain": [
       "Date_Hour\n",
       "2017-10-01 00:00:00    10046.25\n",
       "2017-10-01 00:15:00     9817.25\n",
       "2017-10-01 00:30:00     9666.00\n",
       "2017-10-01 00:45:00     9511.25\n",
       "2017-10-01 01:00:00     9439.00\n",
       "                         ...   \n",
       "2019-10-01 22:30:00    13197.00\n",
       "2019-10-01 22:45:00    12950.00\n",
       "2019-10-01 23:00:00    12635.00\n",
       "2019-10-01 23:15:00    12323.00\n",
       "2019-10-01 23:30:00    12141.00\n",
       "Name: Load, Length: 70175, dtype: float64"
      ]
     },
     "execution_count": 55,
     "metadata": {},
     "output_type": "execute_result"
    }
   ],
   "source": [
    "from pandas import read_csv\n",
    "import pandas as pd\n",
    "\n",
    "# Load the dataset using read_csv() with \n",
    "# squeeze=True to return a Series instead of a DataFrame\n",
    "# parse_dates=True, dayfirst=True to convert the date to a datetime column\n",
    "# index_col=0 to consider the date as index\n",
    "# STUDENT CODE HERE\n",
    "dataset=read_csv(\"data/Load_DE_2017_2019.csv\",parse_dates=True, dayfirst=True,index_col=0)\n",
    "dataset=dataset.squeeze('columns')\n",
    "# STUDENT CODE until HERE\n",
    "\n",
    "# Use the function to_numeric with treating errors as 'coerce' from pandas in order to read the values of the dataset as floats\n",
    "# And fill the NANs in the dataset using the method \"ffil\" with downcast as \"infer\"\n",
    "# STUDENT CODE HERE\n",
    "dataset=pd.to_numeric(dataset,errors='coerce')\n",
    "dataset.ffill(downcast=\"infer\")\n",
    "# STUDENT CODE until HERE"
   ]
  },
  {
   "cell_type": "code",
   "execution_count": 56,
   "metadata": {},
   "outputs": [
    {
     "name": "stdout",
     "output_type": "stream",
     "text": [
      "<class 'pandas.core.series.Series'>\n"
     ]
    }
   ],
   "source": [
    "# Check that a Series data type (and not a DataFrame) was created\n",
    "series=dataset\n",
    "print(type(series))"
   ]
  },
  {
   "cell_type": "code",
   "execution_count": 57,
   "metadata": {},
   "outputs": [
    {
     "data": {
      "application/vnd.microsoft.datawrangler.viewer.v0+json": {
       "columns": [
        {
         "name": "Date_Hour",
         "rawType": "datetime64[ns]",
         "type": "datetime"
        },
        {
         "name": "Load",
         "rawType": "float64",
         "type": "float"
        }
       ],
       "ref": "e12aab62-ecdb-444b-b48f-117cbc6cbc7e",
       "rows": [
        [
         "2017-10-01 00:00:00",
         "10046.25"
        ],
        [
         "2017-10-01 00:15:00",
         "9817.25"
        ],
        [
         "2017-10-01 00:30:00",
         "9666.0"
        ],
        [
         "2017-10-01 00:45:00",
         "9511.25"
        ],
        [
         "2017-10-01 01:00:00",
         "9439.0"
        ]
       ],
       "shape": {
        "columns": 1,
        "rows": 5
       }
      },
      "text/plain": [
       "Date_Hour\n",
       "2017-10-01 00:00:00    10046.25\n",
       "2017-10-01 00:15:00     9817.25\n",
       "2017-10-01 00:30:00     9666.00\n",
       "2017-10-01 00:45:00     9511.25\n",
       "2017-10-01 01:00:00     9439.00\n",
       "Name: Load, dtype: float64"
      ]
     },
     "execution_count": 57,
     "metadata": {},
     "output_type": "execute_result"
    }
   ],
   "source": [
    "# Print some rows of the dataset (Hint: use .head() for this)\n",
    "# STUDENT CODE HERE\n",
    "series.head()\n",
    "# STUDENT CODE until HERE"
   ]
  },
  {
   "cell_type": "code",
   "execution_count": 58,
   "metadata": {},
   "outputs": [
    {
     "data": {
      "text/plain": [
       "70175"
      ]
     },
     "execution_count": 58,
     "metadata": {},
     "output_type": "execute_result"
    }
   ],
   "source": [
    "# Check the size of the series (Hint: use .size for this)\n",
    "# STUDENT CODE HERE\n",
    "series.size\n",
    "# STUDENT CODE until HERE"
   ]
  },
  {
   "cell_type": "code",
   "execution_count": 59,
   "metadata": {},
   "outputs": [],
   "source": [
    "# Check something else from the series if you are curious...\n",
    "# For example print the data from October\n",
    "# STUDENT CODE HERE\n",
    "\n",
    "# STUDENT CODE until HERE"
   ]
  },
  {
   "cell_type": "code",
   "execution_count": 60,
   "metadata": {},
   "outputs": [
    {
     "data": {
      "application/vnd.microsoft.datawrangler.viewer.v0+json": {
       "columns": [
        {
         "name": "index",
         "rawType": "object",
         "type": "string"
        },
        {
         "name": "Load",
         "rawType": "float64",
         "type": "float"
        }
       ],
       "ref": "f8534b28-0662-4aaa-bd98-77f2da5b48a2",
       "rows": [
        [
         "count",
         "70169.0"
        ],
        [
         "mean",
         "14261.436072197124"
        ],
        [
         "std",
         "2507.9878391080942"
        ],
        [
         "min",
         "7349.25"
        ],
        [
         "25%",
         "12176.0"
        ],
        [
         "50%",
         "14189.75"
        ],
        [
         "75%",
         "16443.0"
        ],
        [
         "max",
         "19870.25"
        ]
       ],
       "shape": {
        "columns": 1,
        "rows": 8
       }
      },
      "text/plain": [
       "count    70169.000000\n",
       "mean     14261.436072\n",
       "std       2507.987839\n",
       "min       7349.250000\n",
       "25%      12176.000000\n",
       "50%      14189.750000\n",
       "75%      16443.000000\n",
       "max      19870.250000\n",
       "Name: Load, dtype: float64"
      ]
     },
     "execution_count": 60,
     "metadata": {},
     "output_type": "execute_result"
    }
   ],
   "source": [
    "# Calculate descriptive statistics on your time series using describe()\n",
    "# STUDENT CODE HERE\n",
    "series.describe()\n",
    "# STUDENT CODE until HERE"
   ]
  },
  {
   "cell_type": "markdown",
   "metadata": {},
   "source": [
    "### Taxonomie von Zeitreihenprognosen-Problemen\n",
    "\n",
    "Um das Verständnis des Prognoseproblems zu verbessern, ist die Struktur des Modells erforderlich und es ist notwendig zu wissen, wie man es auswertet. Daher wird empfohlen, die folgenden Schlüsselpunkte zu berücksichtigen, bevor ein Projekt zur Zeitreihenprognose gestartet wird [2]:\n",
    "\n",
    "- __Eingabedaten vs. Ausgabedaten__: Die Eingabedaten sind die Werte, die zur Erstellung einer Prognose verwendet werden. Zum Beispiel die Verkaufsdaten der letzten sieben Tage, um den Umsatz des nächsten Tages zu prognostizieren. Die Eingabedaten sind nicht die Daten, die zum Trainieren des Modells, sondern zum Testen/Vorhersagen verwendet werden.<br>\n",
    "    Die Ausgabedaten entsprechen der Vorhersage oder Prognose für einen zukünftigen Zeitschritt, der über die als Eingabe bereitgestellten Daten hinausgeht.<br>\n",
    "    Die Definition der Ein- und Ausgabedaten des Modells zwingt Sie dazu, sich Gedanken darüber zu machen, was genau benötigt wird oder werden könnte, um eine Prognose zu erstellen. Möglicherweise können Sie bei den Eingabedaten nicht genau sein. Sie können z. B. nicht wissen, ob ein oder mehrere vorherige Zeitschritte erforderlich sind, um eine Prognose zu erstellen. Aber Sie werden in der Lage sein, die Variablen zu identifizieren, die einen Einfluss auf den Prognoseprozess haben könnten.\n",
    "\n",
    "- __Endogene vs. Exogene Eingangsvariablen__: Eine Eingangsvariable ist endogen, wenn sie von anderen Variablen im System beeinflusst wird und die Ausgangsvariable von ihr abhängt. In einer Zeitreihe zeigen die Beobachtungen einer Eingangsvariablen Abhängigkeiten in sich selbst. Zum Beispiel ist die Beobachtung zum Zeitpunkt *t* abhängig von der Beobachtung zum Zeitpunkt _t-1_; _t-1_ kann von _t-2_ abhängen, und so weiter. <br>\n",
    "    Eine Eingangsvariable ist eine exogene Variable, wenn sie unabhängig von anderen Variablen im System ist und die Ausgangsvariable von ihr abhängt. Vereinfacht ausgedrückt, werden endogene Variablen von anderen Variablen im System (einschließlich ihrer selbst) beeinflusst, während exogene Variablen dies nicht sind und als außerhalb des Systems betrachtet werden.<br>\n",
    "    Typischerweise hat ein Zeitreihenprognoseproblem endogene Variablen (z. B. ist die Ausgabe eine Funktion einer gewissen Anzahl von vorherigen Zeitschritten) und kann exogene Variablen haben oder auch nicht. Oft werden die exogenen Variablen ignoriert. Das explizite Nachdenken über beide Variablentypen kann helfen, leicht zu übersehende exogene Daten oder sogar technische Features zu identifizieren, die das Modell verbessern können.\n",
    "    \n",
    "- __Unstrukturiert vs. Strukturiert__: Es ist nützlich, jede Variable in einer Zeitreihe darzustellen und die Darstellung auf mögliche Muster zu untersuchen. Eine Zeitreihe für eine einzelne Variable weist möglicherweise kein offensichtliches Muster auf. Wir können eine Reihe ohne Muster als unstrukturiert betrachten, da es keine erkennbare zeitabhängige Struktur gibt. <br>\n",
    "    Alternativ dazu kann eine Zeitreihe offensichtliche Muster aufweisen und in vier Bestandteile zerlegt werden: \n",
    "    - Level: Der Basiswert der Reihe, wenn sie eine Gerade wäre.\n",
    "    - Trend: Das optionale und oft linear ansteigende oder abfallende Verhalten der Reihe über die Zeit.\n",
    "    - Saisonalität: Die optionalen sich wiederholenden Muster oder Zyklen des Verhaltens im Zeitverlauf.\n",
    "    - Rauschen: Die optionale Variabilität in Beobachtungen, die nicht durch das Modell erklärt werden kann.<br>\n",
    "    \n",
    "- __Regression vs. Klassifikation__: Bei Regressionsvorhersagemodellen handelt es sich um Probleme, bei denen eine Quantität vorhergesagt wird. Eine Quantität ist ein numerischer Wert, z. B. ein Preis, eine Anzahl, ein Volumen usw. Ein Zeitreihen-Prognoseproblem, bei dem Sie einen oder mehrere zukünftige numerische Werte vorhersagen möchten, ist ein Regressions-Prognosemodellierungsproblem. <br>\n",
    "    Klassifikationsprädiktive Modellierungsprobleme sind solche, bei denen eine Kategorie vorhergesagt wird. Eine Kategorie ist eine Bezeichnung aus einer kleinen, wohldefinierten Menge von Bezeichnungen. Zum Beispiel sind \"heiß\", \"kalt\", \"aufwärts\", \"abwärts\", \"kaufen\" und \"verkaufen\" Kategorien. Ein Zeitreihenprognoseproblem, bei dem Sie die eingegebenen Zeitreihendaten klassifizieren möchten, ist ein Prognosemodellierungsproblem vom Typ Klassifikation. <br>\n",
    "    Zwischen diesen Typen gibt es eine gewisse Flexibilität. So kann z. B. ein Regressionsproblem in ein Klassifizierungsproblem und ein Klassifizierungsproblem in eine Regression umgewandelt werden. Einige Probleme, wie z. B. die Vorhersage eines Ordinalwerts, können sowohl eine Klassifizierung als auch eine Regression zugeordnet werden. Es ist möglich, dass eine Neuausrichtung Ihres Zeitreihen-Prognoseproblems dieses vereinfachen kann.\n",
    "\n",
    "- __Univariat vs. Multivariat__:  Eine einzelne Variable, die über die Zeit gemessen wird, wird als univariate Zeitreihe bezeichnet. Mehrere Variablen, die über die Zeit gemessen werden, werden als multivariate Zeitreihen bezeichnet. Die Betrachtung dieser Frage in Bezug auf Inputs und Outputs kann zu einer weiteren Unterscheidung führen. Die Anzahl der Variablen kann sich zwischen den Inputs und Outputs unterscheiden, d. h. die Daten sind möglicherweise nicht symmetrisch. Es kann z. B. sein, dass Sie mehrere Variablen als Input für das Modell haben und nur an der Vorhersage einer der Variablen als Output interessiert sind. In diesem Fall besteht im Modell die Annahme, dass die mehreren Eingabevariablen das Modell selbst verbessern und für die Vorhersage der einzelnen Ausgabevariablen erforderlich sind.\n",
    "\n",
    "- __Einschrittig vs. Mehrschrittig__: Ein Prognoseproblem, das eine Vorhersage des nächsten Zeitschritts erfordert, wird als einschrittiges Prognosemodell bezeichnet. Ein Prognoseproblem, das eine Vorhersage von mehr als einem Zeitschritt erfordert, wird hingegen als mehrschrittiges Prognosemodell bezeichnet. Je mehr Zeitschritte in die Zukunft projiziert werden müssen, desto schwieriger wird das Problem, da sich die Unbestimmtheit in jedem prognostizierten Zeitschritt erhöht.\n",
    "\n",
    "- __Statisch vs. Dynamisch__: Es ist möglich, ein Modell einmal zu entwickeln und es wiederholt für Vorhersagen zu verwenden. Da das Modell zwischen den Prognosen nicht aktualisiert oder geändert wird, kann man dieses Modell als statisch betrachten. Umgekehrt können wir neue Beobachtungen erhalten, bevor wir eine nachfolgende Vorhersage machen, die zur Erstellung eines neuen Modells oder zur Aktualisierung des vorhandenen Modells verwendet werden können. Wir können die Entwicklung eines neuen oder aktualisierten Modells vor jeder Prognose als ein dynamisches Problem betrachten.\n",
    "\n",
    "- __Kontinuierlich vs. Diskontinuierlich__: Eine Zeitreihe, bei der die Beobachtungen über die Zeit gleichmäßig sind, kann als kontinuierlich beschrieben werden. Viele Zeitreihenprobleme haben kontinuierlich Beobachtungen, z. B. eine Beobachtung pro Stunde, Tag, Monat oder Jahr. Eine Zeitreihe, bei der die Beobachtungen im Laufe der Zeit nicht einheitlich sind, kann als diskontinuierlich bezeichnet werden. Die fehlende Gleichmäßigkeit der Beobachtungen kann durch fehlende oder fehlerhafte Werte verursacht werden. Sie kann auch dadurch bedingt sein, dass Beobachtungen nur sporadisch oder in immer kürzeren Zeitabständen zur Verfügung gestellt werden. Im Falle von uneinheitlichen Beobachtungen kann bei der Anpassung einiger Modelle eine spezielle Datenformatierung erforderlich sein, um die Beobachtungen über die Zeit zu vereinheitlichen."
   ]
  },
  {
   "cell_type": "markdown",
   "metadata": {},
   "source": [
    "<div class=\"alert alert-block alert-success\">\n",
    "<b>Aufgabe/Frage 6.3.2:</b> Jetzt sind Sie an der Reihe. Bewerten Sie die Taxonomie des vorgeschlagenen Vorhersageproblems der elektrischen Last in Deutschland. Beschreiben Sie kurz dieses Problems anhand der oben genannten Stichpunkte.\n",
    "</div>\n",
    "\n",
    "\n",
    "<div class=\"alert alert-block alert-success\">\n",
    "<b>Ihre Antwort:</b> Die elektrische Last wird ein periodisches Verhalten (Tag und Nacht sowie Jahreszeiten) zeigen. Die elektriche Last ist nur vom aktuellen Zeitpunkt abhängig (Beispiel: ich koche nicht heute mehr, nur weil ich gestern nichts gekocht habe)</div>\n"
   ]
  },
  {
   "cell_type": "markdown",
   "metadata": {},
   "source": [
    "## Datenaufbereitung"
   ]
  },
  {
   "cell_type": "markdown",
   "metadata": {},
   "source": [
    "### Zerlegen von Zeitreihendaten\n",
    "Man geht davon aus, dass eine gegebene Zeitreihe aus drei systematischen Komponenten besteht, einschließlich __Level__, __Trend__, __Saisonalität__, und einer nicht systematischen Komponente, die __Rauschen__ genannt wird. Man geht davon aus, dass eine Reihe ein Aggregat oder eine Kombination aus diesen vier Komponenten besteht. Alle Reihen haben ein Level und ein Rauschen. Die Komponenten Trend und Saisonalität sind optional. In diesem Abschnitt werden Methoden zur automatischen Zerlegung einer Zeitreihe erläutert.\n",
    "\n",
    "Die Bibliothek [Statsmodels](https://www.statsmodels.org/stable/index.html) bietet eine Implementierung der naiven oder klassischen Zerlegungsmethode in einer Funktion namens `seasonal_decompose()`. Sie erfordert die Angabe, ob das Modell additiv oder multiplikativ ist. \n",
    "\n",
    "__Wichtig:__ Diese Funktion erzeugt eine naive Dekomposition. Für weitergehende Analysen sollten anspruchsvollere Methoden bevorzugt werden.<br>\n",
    "Das additive Modell wird beschrieben als Y[t] = T[t] + S[t] + e[t]<br>\n",
    "Das multiplikative Modell ist Y[t] = T[t] * S[t] * e[t]<br>\n",
    "Die saisonale Komponente wird zunächst durch Anwendung eines Faltungsfilters auf die Daten entfernt. Der Durchschnitt dieser geglätteten Reihe für jede Periode ist die zurückgegebene saisonale Komponente.<br>\n",
    "\n",
    "Wenn die Art des Zerlegungsmodells unbekannt ist, kann eine Überprüfung eines Plots der Zeitreihe und einiger zusammenfassender Statistiken oft ein guter Anfang sein. Diese geben eine Vorstellung davon, ob das Zeitreihenproblem additiv oder multiplikativ aussieht.\n",
    "\n",
    "Abbildung 1 zeigt zwei verschiedene Zeitreihen, die mit der additiven (links) und multiplikativen (rechts) Methode zerlegt werden können. Betrachten Sie die Form der Reihen und wie unterschiedlich sie sind. \n",
    "\n",
    "<img src=\"images/Additive-Multiplicative-Decomposition-time-series.png\" alt=\"drawing\" style=\"width:700px;\"/>\n",
    "<p style=\"text-align: center;\">\n",
    "    Abb. 1 - Beispiel für eine additive (links, [10]) und eine multiplikative Zerlegung von Zeitreihen (rechts, [1]).\n",
    "</p>\n"
   ]
  },
  {
   "cell_type": "markdown",
   "metadata": {},
   "source": [
    "Im folgenden Schnipsel sehen Sie den Code für eine additive saisonale Zerlegung."
   ]
  },
  {
   "cell_type": "markdown",
   "metadata": {},
   "source": [
    "<div class=\"alert alert-block alert-success\">\n",
    "<b>Aufgabe 6.3.3:</b> Vervollständigen Sie den Code, um alle Komponenten in einem Graph darzustellen. Schreiben Sie auch einen Code, um eine einzelne Komponente in einem Diagramm darzustellen, z. B. den Trend.\n",
    "<ul>\n",
    "<li>Hinweis: <code>sm.tsa.seasonal_decompose</code> liefert ein DecomposeResult. Dieses hat die Attribute <i>observed, trend, seasonal</i> und <i>resid</i>, die Pandas-Reihen sind. Sie können jede von ihnen mit der Pandas-Plot-Funktionalität darstellen.\n",
    "\n",
    "\n",
    "</ul>\n",
    "\n",
    "</div>"
   ]
  },
  {
   "cell_type": "code",
   "execution_count": 61,
   "metadata": {},
   "outputs": [],
   "source": [
    "from statsmodels.tsa.seasonal import seasonal_decompose\n",
    "from matplotlib import pyplot as plt\n",
    "import numpy as np\n",
    "\n",
    "result_add = seasonal_decompose(series[:2000], model='additive', period=96,extrapolate_trend=\"freq\",two_sided=True)\n",
    "trend_add = result_add.trend\n",
    "seasonality_add = result_add.seasonal\n",
    "residual_add = result_add.resid\n",
    "original_data = result_add.observed"
   ]
  },
  {
   "cell_type": "code",
   "execution_count": 62,
   "metadata": {},
   "outputs": [
    {
     "data": {
      "image/png": "[encoded data removed]",
      "text/plain": [
       "<Figure size 640x480 with 4 Axes>"
      ]
     },
     "metadata": {},
     "output_type": "display_data"
    }
   ],
   "source": [
    "# Plot all components of the time series\n",
    "# STUDENT CODE HERE\n",
    "fig, axs = plt.subplots(4, 1)\n",
    "\n",
    "axs[0].plot(np.arange(0,len(trend_add)),trend_add,label=\"trend\")\n",
    "axs[1].plot(np.arange(0,len(seasonality_add)),seasonality_add,label=\"seasonality\")\n",
    "axs[2].plot(np.arange(0,len(residual_add)),residual_add,label=\"residual\")\n",
    "axs[3].plot(np.arange(0,len(original_data)),original_data,label=\"originaldata\")\n",
    "axs[3].plot(np.arange(0,len(original_data)),seasonality_add+residual_add+trend_add,'--',label=\"added data\")\n",
    "axs[0].legend()\n",
    "axs[1].legend()\n",
    "axs[2].legend()\n",
    "axs[3].legend()\n",
    "plt.show()\n",
    "# STUDENT CODE until HERE"
   ]
  },
  {
   "cell_type": "code",
   "execution_count": 63,
   "metadata": {},
   "outputs": [],
   "source": [
    "from statsmodels.tsa.seasonal import seasonal_decompose\n",
    "from matplotlib import pyplot as plt\n",
    "import numpy as np\n",
    "\n",
    "result_mult = seasonal_decompose(series[:2000], model='multiplicative', period=96,extrapolate_trend=96,two_sided=True)\n",
    "trend_mult= result_mult.trend\n",
    "seasonality_mult = result_mult.seasonal\n",
    "residual_mult = result_mult.resid\n",
    "original_data = result_mult.observed"
   ]
  },
  {
   "cell_type": "code",
   "execution_count": 64,
   "metadata": {},
   "outputs": [
    {
     "data": {
      "image/png": "[encoded data removed]",
      "text/plain": [
       "<Figure size 640x480 with 4 Axes>"
      ]
     },
     "metadata": {},
     "output_type": "display_data"
    }
   ],
   "source": [
    "# Plot all components of the time series\n",
    "# STUDENT CODE HERE\n",
    "fig, axs = plt.subplots(4, 1)\n",
    "\n",
    "axs[0].plot(np.arange(0,len(trend_mult)),trend_mult,label=\"trend\")\n",
    "axs[1].plot(np.arange(0,len(seasonality_mult)),seasonality_mult,label=\"seasonality\")\n",
    "axs[2].plot(np.arange(0,len(residual_mult)),residual_mult,label=\"residual\")\n",
    "axs[3].plot(np.arange(0,len(original_data)),original_data,label=\"originaldata\")\n",
    "axs[3].plot(np.arange(0,len(original_data)),seasonality_mult*residual_mult*trend_mult,'--',label=\"multiplicated data\")\n",
    "axs[0].legend()\n",
    "axs[1].legend()\n",
    "axs[2].legend()\n",
    "axs[3].legend()\n",
    "\n",
    "plt.show()\n",
    "# STUDENT CODE until HERE"
   ]
  },
  {
   "cell_type": "markdown",
   "metadata": {},
   "source": [
    "<div class=\"alert alert-block alert-success\">\n",
    "<b>Aufgabe/Frage 6.3.4:</b> Zerlegen Sie das gleiche Signal mit dem multiplikativen Modell und vergleichen Sie. Was können Sie aus beiden Zerlegungsmodellen schließen?\n",
    "</div>\n",
    "\n",
    "<div class=\"alert alert-block alert-success\">\n",
    "<b>Ihre Antwort:</b> Das Modell ist additiv, weil sich die Amplitude des trends nicht zeitlich ändert. Beim additiven Modell schwankt der Rest um 0, beim multiplikativen Modell um 1.</div>\n"
   ]
  },
  {
   "cell_type": "markdown",
   "metadata": {},
   "source": [
    "### Datennormalisierung\n",
    "Die Normalisierung ist eine Neuskalierung der Daten aus ihrem ursprünglichen Bereich, so dass alle Werte im Bereich von 0 und 1 liegen. Dies hilft dem neuronalen Netz, die Trends der Daten leichter zu lernen. \n",
    "\n",
    "Die Bibliothek _Scikit-learn_ verfügt über ein Tool namens *MinMaxScaler*, das zum Skalieren der Daten verwendet werden kann. Die nächsten Schritte sind die __allgemeinen Schritte__, die zu befolgen sind:\n",
    "- Passen Sie den Skalierer anhand der verfügbaren Trainingsdaten an. Für die Normalisierung bedeutet dies, dass die Trainingsdaten verwendet werden, um die minimalen und maximalen beobachtbaren Werte zu schätzen. Dies geschieht durch den Aufruf der Methode `fit()`.\n",
    "- Wenden Sie die Skalierung auf die Trainingsdaten an, um die normalisierten Daten zum Trainieren Ihres Modells zu verwenden. Dies geschieht durch den Aufruf der Methode `transform()`.\n",
    "- Wenden Sie die Skalierung auf die Daten an, die für den Vorwärtsdurchlauf verwendet werden. Dies bereitet die Daten vor, die Sie für die Vorhersagen verwenden werden."
   ]
  },
  {
   "cell_type": "code",
   "execution_count": 65,
   "metadata": {},
   "outputs": [
    {
     "name": "stdout",
     "output_type": "stream",
     "text": [
      "Min: 7349.250000, Max: 19870.250000\n",
      "Normalized values:\n",
      " [[0.21539813]\n",
      " [0.19710886]\n",
      " [0.18502915]\n",
      " ...\n",
      " [0.42215079]\n",
      " [0.39723265]\n",
      " [0.38269707]]\n",
      "Denormalized values:\n",
      " [[10046.25]\n",
      " [ 9817.25]\n",
      " [ 9666.  ]\n",
      " ...\n",
      " [12635.  ]\n",
      " [12323.  ]\n",
      " [12141.  ]]\n"
     ]
    },
    {
     "name": "stderr",
     "output_type": "stream",
     "text": [
      "C:\\Users\\anderlfr\\AppData\\Local\\Temp\\ipykernel_32236\\749634199.py:18: FutureWarning: The 'downcast' keyword in ffill is deprecated and will be removed in a future version. Use res.infer_objects(copy=False) to infer non-object dtype, or pd.to_numeric with the 'downcast' keyword to downcast numeric results.\n",
      "  dataset.ffill(downcast=\"infer\")\n",
      "C:\\Users\\anderlfr\\AppData\\Local\\Temp\\ipykernel_32236\\749634199.py:28: DeprecationWarning: Conversion of an array with ndim > 0 to a scalar is deprecated, and will error in future. Ensure you extract a single element from your array before performing this operation. (Deprecated NumPy 1.25.)\n",
      "  print('Min: %f, Max: %f' % (scaler.data_min_, scaler.data_max_))\n"
     ]
    }
   ],
   "source": [
    "from sklearn.preprocessing import MinMaxScaler\n",
    "from pandas import read_csv\n",
    "import pandas as pd\n",
    "\n",
    "# Load the dataset using read_csv() with \n",
    "# squeeze=True to return a Series instead of a DataFrame\n",
    "# parse_dates=True, dayfirst=True to convert the date to a datetime column\n",
    "# index_col=0 to consider the date as index\n",
    "# STUDENT CODE HERE\n",
    "dataset=read_csv(\"data/Load_DE_2017_2019.csv\",parse_dates=True, dayfirst=True,index_col=0)\n",
    "dataset=dataset.squeeze('columns')\n",
    "# STUDENT CODE until HERE\n",
    "\n",
    "# Use the function to_numeric with treating errors as 'coerce' from pandas in order to read the values of the dataset as floats\n",
    "# And fill the NANs in the dataset using the method \"ffil\" with downcast as \"infer\"\n",
    "# STUDENT CODE HERE\n",
    "dataset=pd.to_numeric(dataset,errors='coerce')\n",
    "dataset.ffill(downcast=\"infer\")\n",
    "series=dataset\n",
    "# STUDENT CODE until HERE\n",
    "# Prepare data for normalization\n",
    "values = series.values\n",
    "values = values.reshape((len(values), 1))\n",
    "\n",
    "# Train the normalization\n",
    "scaler = MinMaxScaler(feature_range=(0, 1))\n",
    "scaler = scaler.fit(values)\n",
    "print('Min: %f, Max: %f' % (scaler.data_min_, scaler.data_max_))\n",
    "\n",
    "# Normalize the dataset and print\n",
    "normalized = scaler.transform(values)\n",
    "print(\"Normalized values:\\n %s\" %(normalized))\n",
    "\n",
    "# Inverse transform and print\n",
    "inversed = scaler.inverse_transform(normalized)\n",
    "print(\"Denormalized values:\\n %s\" %(inversed))"
   ]
  },
  {
   "cell_type": "markdown",
   "metadata": {},
   "source": [
    "### Datenstandardisierung\n",
    "Bei der Standardisierung eines Datensatzes wird die Verteilung der Werte so skaliert, dass der Mittelwert der beobachteten Werte gleich 0 und die Standardabweichung gleich 1 ist. Dies kann als Subtraktion des Mittelwerts oder als Zentrierung der Daten betrachtet werden. Wie die Normalisierung kann auch die Standardisierung nützlich und in einigen Algorithmen für maschinelles Lernen sogar erforderlich sein, wenn Ihre Daten Eingabewerte mit unterschiedlichen Skalen aufweisen. Bei der Standardisierung wird davon ausgegangen, dass Ihre Beobachtungen einer Gauß-Verteilung (Glockenkurve) mit einem gut verhaltenen Mittelwert und einer Standardabweichung entsprechen. Sie können Ihre Zeitreihendaten auch dann standardisieren, wenn diese Erwartung nicht erfüllt ist, aber Sie erhalten möglicherweise keine zuverlässigen Ergebnisse.<br>\n",
    "Sie können Ihren Datensatz mithilfe des *scikit-learn*-Objekts *StandardScaler* standardisieren."
   ]
  },
  {
   "cell_type": "code",
   "execution_count": 66,
   "metadata": {},
   "outputs": [
    {
     "name": "stdout",
     "output_type": "stream",
     "text": [
      "Mean: 14261.436072, StandardDeviation: 2507.969968\n",
      "Standardized values:\n",
      " [[-1.68071633]\n",
      " [-1.77202524]\n",
      " [-1.83233297]\n",
      " ...\n",
      " [-0.648507  ]\n",
      " [-0.7729104 ]\n",
      " [-0.84547905]]\n",
      "De-standardized values:\n",
      " [[10046.25]\n",
      " [ 9817.25]\n",
      " [ 9666.  ]\n",
      " ...\n",
      " [12635.  ]\n",
      " [12323.  ]\n",
      " [12141.  ]]\n"
     ]
    },
    {
     "name": "stderr",
     "output_type": "stream",
     "text": [
      "C:\\Users\\anderlfr\\AppData\\Local\\Temp\\ipykernel_32236\\3760367204.py:7: DeprecationWarning: Conversion of an array with ndim > 0 to a scalar is deprecated, and will error in future. Ensure you extract a single element from your array before performing this operation. (Deprecated NumPy 1.25.)\n",
      "  print('Mean: %f, StandardDeviation: %f' % (scaler.mean_, sqrt(scaler.var_)))\n"
     ]
    }
   ],
   "source": [
    "from sklearn.preprocessing import StandardScaler\n",
    "from math import sqrt\n",
    "\n",
    "# Train the standardization\n",
    "scaler = StandardScaler()\n",
    "scaler = scaler.fit(values)\n",
    "print('Mean: %f, StandardDeviation: %f' % (scaler.mean_, sqrt(scaler.var_)))\n",
    "\n",
    "# Normalize the dataset and print\n",
    "standardized = scaler.transform(values)\n",
    "print(\"Standardized values:\\n %s\" %(standardized))\n",
    "\n",
    "# Inverse transform and print\n",
    "inversed = scaler.inverse_transform(standardized)\n",
    "print(\"De-standardized values:\\n %s\" %(inversed))"
   ]
  },
  {
   "cell_type": "markdown",
   "metadata": {},
   "source": [
    "### Zusätzliche Ressourcen zur Datenaufbereitung und Zeitreihenprognose\n",
    "\n",
    "Die folgenden Artikel helfen Ihnen weiter, falls Sie tiefer in die Zeitreihenprognose einsteigen möchten:\n",
    "\n",
    "- [Open Machine Learning Course - Time series analysis in Python](https://nbviewer.jupyter.org/github/Yorko/mlcourse_open/blob/master/jupyter_english/topic09_time_series/topic9_part1_time_series_python.ipynb) von Dmitriy Sergeyev\n",
    "- [7 Ways Time Series Forecasting Differs from Machine Learning](https://www.datascience.com/blog/time-series-forecasting-machine-learning-differences) verfasst von Roman de las Heras\n",
    "- [Data Science for Business - Time Series Forecasting Part 1: EDA & Data Preparation](https://shiring.github.io/forecasting/2017/05/28/retail_forcasting_part1) "
   ]
  },
  {
   "cell_type": "markdown",
   "metadata": {},
   "source": [
    "## Limitationen von mehrschichtigen Perzeptronen (engl. Multilayer Perceptrons)\n",
    "Trotz ihrer Flexibilität und Leistungsfähigkeit funktionieren Feed-Forward-Neuronale Netze nur für Probleme gut, deren Eingaben und Targets sinnvoll mit Vektoren fester Dimensionalität kodiert werden können. Dies ist eine erhebliche Einschränkung, da viele wichtige Probleme am besten mit Sequenzen ausgedrückt werden, deren Länge nicht von vornherein bekannt ist. Zum Beispiel sind Spracherkennung und maschinelle Übersetzung sequenzielle Probleme. Ebenso kann das Beantworten von Fragen auch als das Abbilden einer Folge von Wörtern angesehen werden, die die Frage darstellen zu einer Folge von Wörtern, die die Antwort darstellen. [5]\n",
    "\n",
    "Aus dem Stand der Technik ist auch bekannt, dass MLPs schlecht abschneiden, wenn das zu lösende Problem zeitliche Abhängigkeiten aufweist, wie es bei Zeitreihen-Prognoseproblemen häufig der Fall ist. Dies ist auf den Mangel an Langzeitspeicher im Netzwerk zurückzuführen. Für diese Art von Anwendungen haben sich rekurrente neuronale Netze als leistungsfähiger erwiesen als MLPs. Diese Art von Netzwerken wird in diesem Abschnitt beschrieben."
   ]
  },
  {
   "cell_type": "markdown",
   "metadata": {},
   "source": [
    "## Rekurrente Neurale Netzwerke\n",
    "Rekurrente neuronale Netze (RNNs) enthalten Zyklen, die die Aktivierungen der Neuronen aus einem vorherigen Zeitschritt als Eingaben in das Netz einspeisen. Dies geschieht, um Vorhersagen zum aktuellen Zeitschritt zu beeinflussen. Diese Aktivierungen werden in den internen Zuständen des Netzes gespeichert, die prinzipiell langfristige zeitliche Kontextinformationen enthalten können. Dieser Mechanismus erlaubt es RNNs, ein sich dynamisch veränderndes Kontextfenster über die Eingangssequenzhistorie auszunutzen. [6]\n",
    "\n",
    "Um zu verstehen, wie RNNs den inneren Zustand der Zellen als rekurrenten Input einspeisen, zeigt Abbildung 2 [11] die möglichen Architekturen, die RNNs in Abhängigkeit von verschiedenen Anwendungen haben können. In dieser Abbildung ist das Netzwerk in der Zeit abgerollt dargestellt, d. h. die horizontale Achse stellt die Zeit und die vertikale Achse die Tiefe des Netzwerks dar. Zu Lehrzwecken gibt es in allen Architekturdarstellungen in Abbildung 2 nur ein Hidden Layer mit einer Zelle. Im Folgenden sind einige Anwendungsbeispiele für jede Architektur aufgeführt: \n",
    "\n",
    "- 1:1 : Diese Architektur beschreibt, wie Vanilla Feed Forward neuronale Netzwerke arbeiten. Sie haben eine Eingabe, alle Neuronen sind ohne Rekursion mit dem nächsten Neuron verbunden und es wird nur eine Ausgabe erwartet. \n",
    "- 1:n : Dies ist z. B. der Fall bei Bildbeschriftungen. In diesem Fall kommt ein einzelnes Bild herein und als Ausgabe wird eine Phrase (eine Menge von Wörtern) erwartet. Die rekursiven Verbindungen von Zelle zu Zelle geben dem Netz die Möglichkeit, das nächste Wort in Abhängigkeit von den letzten Ausgaben genauer zu bestimmen, um einen (prinzipiell) sinnvollen Text zu erzeugen. \n",
    "- n:1 : Eine solche Architektur kann für die Sentiment-Analyse verwendet werden. In diesem Fall wird ein Text in Form von Wörtern oder Zeichen in das Netzwerk eingegeben und das entsprechend ausgedrückte Sentiment als Ausgabe erwartet. \n",
    "- n:n : Zwei Anwendungsbeispiele für diese Architektur sind zum einen die Sprachübersetzung (Text als Eingabe, Text als Ausgabe) auf Zeichen- oder Wortebene und zum anderen die Videoklassifikation auf Frame-Ebene, bei der eine Frame-Beschriftung in Abhängigkeit von vergangenen Frames erfolgt. \n",
    "\n",
    "<img src=\"images/RNN-architectures.png\" alt=\"drawing\" style=\"width:1000px;\"/>\n",
    "<p style=\"text-align: center;\">\n",
    "    Abb. 2 - Architekturen neuronaler Netze: Die 1:1-Architektur entspricht einem Vanilla Neural Network, während die Fälle 1:n, n:1 und n:n die Strukturen rekurrenter neuronaler Netze beschreiben [11].\n",
    "</p>\n"
   ]
  },
  {
   "cell_type": "markdown",
   "metadata": {},
   "source": [
    "## Long Short-Term Memory Netzwerke\n",
    "Long short-term memory Netzwerke (LSTM) sind eine Untergruppe der rekurrenten neuronalen Netze, aber im Gegensatz zu allgemeinen RNNs haben LSTMs eine einzigartige Formulierung, die es ihnen ermöglicht, die Probleme der verschwindenden und ausnutzenden Gradienten (Gewichtsänderungen, die schnell so klein werden, dass sie keine Wirkung mehr haben, oder so groß, dass sie zu einem Überlauf führen) zu vermeiden. [3]  \n",
    "\n",
    "In den folgenden Teilen dieser Arbeit wird das LSTM zunächst als Vanilla-Version (einzelnes Hidden Layer) behandelt, um die Grundlagen seiner Entwicklung zu verstehen. Danach werden mehrere Schichten übereinander gelegt, um kompliziertere Probleme zu lösen.  \n",
    "\n",
    "### LSTM Zelle \n",
    "Eine LSTM-Zelle (auch Speicherzelle genannt) hat Gewichtungsparameter für den Eingang, den Ausgang und für den internen Zustand. Sie werden durch die Exposition gegenüber den Eingaben in jedem Zeitschritt aufgebaut und bei der Berechnung der Ausgabe(n) verwendet.\n",
    "Der Schlüssel zur Speicherzelle sind die Gates. Auch diese sind gewichtete Funktionen, die den Informationsfluss in der Zelle weiter steuern. <br>\n",
    "In einer LSTM-Zelle gibt es drei Gates, wie in Abbildung 3 zu sehen ist:\n",
    "- Forget-Gate: Entscheidet, welche Informationen in der Zelle verworfen werden.\n",
    "- Input-Gate: Entscheidet, welche Werte von der Eingabe verwendet werden, um den Speicherzustand zu aktualisieren.\n",
    "- Ausgangs-Gate: Entscheidet, was basierend auf dem Eingang und dem Speicher der Zelle ausgegeben werden soll. [3]<br>\n",
    "\n",
    "<img src=\"images/LSTM-description-block.png\" alt=\"drawing\" style=\"width:1000px;\"/>\n",
    "<p style=\"text-align: center;\">\n",
    "    Abb. 3 - Detailliertes Schema der Einheit eines einfachen rekurrenten Netzwerks (RNN) (links) und einer Speicherzelle (rechts), wie sie in den Hidden Layers eines LSTMs verwendet werden. [7]\n",
    "</p>\n",
    "\n",
    "\n",
    "### Limitationen von LSTM\n",
    "Eine wichtige Einschränkung von LSTMs ist die Möglichkeit, den Speicher zu missbrauchen. Es ist möglich, ein LSTM-Modell dazu zu zwingen, sich eine einzelne Beobachtung über eine sehr lange Anzahl von Eingabezeitschritten zu merken. Dies ist eine schlechte Nutzung von LSTMs. Wenn man von einem LSTM-Modell verlangt, sich mehrere Beobachtungen zu merken, wird es scheitern. Das kann man sehen, wenn man LSTMs auf Zeitreihenvorhersagen anwendet, bei denen das Problem als Autoregression formuliert ist, die erfordert, dass die Ausgabe eine Funktion von mehreren entfernten Zeitschritten in der Eingabesequenz ist. Ein LSTM kann gezwungen werden, dieses Problem zu lösen, wird aber im Allgemeinen weniger effizient sein als ein sorgfältig entworfenes Autoregressionsmodell."
   ]
  },
  {
   "cell_type": "markdown",
   "metadata": {},
   "source": [
    "### Vanilla LSTM\n",
    "Das neuronale Netzwerk LSTM kann für univariate Zeitreihenprognosen verwendet werden. Wie ein RNN liest es jeden Zeitschritt einer Eingabesequenz schrittweise ein. Das LSTM hat einen internen Speicher, der es ihm ermöglicht, interne Zustände zu akkumulieren, während es die Schritte einer gegebenen Eingabesequenz liest. Am Ende der Sequenz gibt jeder Knoten in einer Schicht von versteckten LSTM-Einheiten (engl. hidden units) einen einzelnen Wert aus. Dieser Vektor von Werten fasst zusammen, was das LSTM gelernt oder aus der Eingabesequenz extrahiert hat. Dies kann von einer vollständig verbundenen Schicht (engl. fully connected layer) interpretiert werden, bevor eine endgültige Vorhersage getroffen wird. [3]\n",
    "\n",
    "Das folgende Modell umfasst ein einzelnes LSTM-Layer, gefolgt von einer vollständig verbundenen Outputlayer (Dense), wie in Abbildung 4 zu sehen. Dies ist die LSTM-Architektur, die im ursprünglichen LSTM Paper von 1997 [8] definiert wurde, und die Architektur, die bei den meisten kleinen Sequenzvorhersageproblemen gute Ergebnisse liefern wird.\n",
    "\n",
    "<img src=\"images/vanillalstm.png\" alt=\"drawing\" style=\"width:100px;\"/>\n",
    "<p style=\"text-align: center;\">\n",
    "    Abb. 4 - Netzwerkstruktur für ein Vanilla-LSTM-Modell [3]\n",
    "</p>\n",
    "\n",
    "Das Vanilla LSTM hat die folgenden 5 attraktiven Eigenschaften [3], von denen die meisten bereits im Originalpaper [8] demonstriert wurden:\n",
    "- Sequenzklassifikation in Abhängigkeit von mehreren verteilten Eingabezeitschritten.\n",
    "- Speicherung von präzisen Eingangsbeobachtungen über Tausende von Zeitschritten.\n",
    "- Sequenzvorhersage als Funktion von vorherigen Zeitschritten.\n",
    "- Robust gegenüber dem Einfügen von zufälligen Zeitschritten auf der Eingangssequenz.\n",
    "- Robust gegenüber der Platzierung von Signaldaten auf der Eingangssequenz. "
   ]
  },
  {
   "cell_type": "code",
   "execution_count": 67,
   "metadata": {},
   "outputs": [
    {
     "name": "stderr",
     "output_type": "stream",
     "text": [
      "C:\\Users\\anderlfr\\AppData\\Local\\Temp\\ipykernel_32236\\2974085362.py:25: FutureWarning: The 'downcast' keyword in ffill is deprecated and will be removed in a future version. Use res.infer_objects(copy=False) to infer non-object dtype, or pd.to_numeric with the 'downcast' keyword to downcast numeric results.\n",
      "  series = pd.to_numeric(series, errors='coerce').ffill(downcast='infer')\n"
     ]
    }
   ],
   "source": [
    "# Import all libraries needed to implement a Vanilla LSTM\n",
    "import warnings\n",
    "warnings.filterwarnings(\"ignore\", category=UserWarning, message=\"Protobuf gencode version\")\n",
    "from math import sqrt\n",
    "import numpy as np\n",
    "from numpy import array\n",
    "from numpy import mean\n",
    "from numpy import std\n",
    "import pandas as pd\n",
    "from pandas import DataFrame\n",
    "from pandas import concat\n",
    "from pandas import read_csv\n",
    "from sklearn.metrics import mean_squared_error\n",
    "import tensorflow as tf\n",
    "from tensorflow.python import keras\n",
    "from tensorflow.keras.models import Sequential\n",
    "from tensorflow.keras.layers import Dense,LSTM\n",
    "from matplotlib import pyplot\n",
    "from statsmodels.tsa.seasonal import seasonal_decompose\n",
    "from sklearn.preprocessing import MinMaxScaler\n",
    "\n",
    "# Prepare data\n",
    "series = read_csv('data/Load_DE_2017_2019.csv', header=0, index_col=0, parse_dates=True, dayfirst=True)\n",
    "series=series.squeeze('columns')\n",
    "series = pd.to_numeric(series, errors='coerce').ffill(downcast='infer')\n",
    "values = series.values\n",
    "values = values.reshape((len(values), 1))\n",
    "scaler = MinMaxScaler(feature_range=(0, 1))\n",
    "scaler = scaler.fit(values)\n",
    "normalized = scaler.transform(values)\n"
   ]
  },
  {
   "cell_type": "markdown",
   "metadata": {},
   "source": [
    "Nun werden wir die aus *Load_DE_2017_2019.csv* importierten Zeitreihen in ein geeignetes Format zur Modellierung von LSTM-Netzen konvertieren. "
   ]
  },
  {
   "cell_type": "markdown",
   "metadata": {},
   "source": [
    "#### Train Test Split\n",
    "\n",
    "<div class=\"alert alert-block alert-success\">\n",
    "<b>Aufgabe 6.3.5:</b> Schreiben Sie zunächst eine Funktion, die den univariaten Datensatz in Trainings-/Testsätze aufteilt. Verwenden Sie die Variable <i>n_test</i> (Anzahl der Datenpunkte im Testsatz) als Aufteilungsindex im Array. Der Eingabetyp ist ein Numpy-Array und die Ausgabe sollte ebenfalls ein aufgeteiltes Numpy-Array sein.\n",
    "</div>"
   ]
  },
  {
   "cell_type": "code",
   "execution_count": 68,
   "metadata": {},
   "outputs": [],
   "source": [
    "# Split a univariate dataset into train/test sets\n",
    "def train_test_split(data:np.array, n_test:int):\n",
    "    # Input:\n",
    "        # data: ndarray \n",
    "        # n_test: integer, splitting index in the array\n",
    "    # Return: \n",
    "        # train, test: ndarray \n",
    "\n",
    "    # STUDENT CODE HERE\n",
    "    test=data[:n_test]\n",
    "    train=data[n_test:]\n",
    "    return train,test\n",
    "    # STUDENT CODE until HERE"
   ]
  },
  {
   "cell_type": "code",
   "execution_count": 69,
   "metadata": {},
   "outputs": [
    {
     "name": "stdout",
     "output_type": "stream",
     "text": [
      "This is the (transposed) dummy_array [[ 1  2  3  4  5  6  7  8  9 10]]\n",
      "This is the (transposed) train data: [[ 3  4  5  6  7  8  9 10]]\n",
      "This is the (transposed) test data: [[1 2]]\n"
     ]
    }
   ],
   "source": [
    "# Test your function\n",
    "dummy_array = np.arange(1,11,1)\n",
    "# To keep format the same\n",
    "dummy_array = np.expand_dims(dummy_array, axis=1)\n",
    "# Print transposed arrays for better visualization\n",
    "print('This is the (transposed) dummy_array', dummy_array.T)\n",
    "print('This is the (transposed) train data:', train_test_split(dummy_array, 2)[0][:].T)\n",
    "print('This is the (transposed) test data:', train_test_split(dummy_array, 2)[1][:].T)"
   ]
  },
  {
   "cell_type": "markdown",
   "metadata": {},
   "source": [
    "#### Zeitreihen im überwachten Lernen\n",
    "\n",
    "<div class=\"alert alert-block alert-success\">\n",
    "<b>Aufgabe 6.3.6:</b> Schreiben Sie eine Funktion, die eine Liste in das Format des überwachten Lernens umwandelt, d. h. in eine Eingabe- und Prognosesequenz. Betrachten Sie <i>n_in</i> als die Menge der Eingangsdatenelemente und <i>n_out</i> als die Menge der Elemente in der Prognosesequenz. Betrachten Sie die Sequenz als das gleiche Format wie das <i>dummy_array</i>.\n",
    "</div>"
   ]
  },
  {
   "cell_type": "markdown",
   "metadata": {},
   "source": [
    "Ein Beispiel ist in der nächsten Abbildung zu sehen: \n",
    "<img src=\"images/series_to_supervised_example.png\" alt=\"drawing\" style=\"width:500px;\"/>"
   ]
  },
  {
   "cell_type": "code",
   "execution_count": 76,
   "metadata": {},
   "outputs": [],
   "source": [
    "# Transform list into supervised learning format\n",
    "def series_to_supervised(data:np.array, n_in:int, n_out:int):\n",
    "    # Input:\n",
    "        # data: numpy ndarray \n",
    "        # n_in: rnn input data elements\n",
    "        # n_out: elements in the forecast sequence\n",
    "    # Output:\n",
    "        # numpy ndarray of size: (data_length - n_in - n_out + 1)x(n_in + n_out) \n",
    "        \n",
    "    # STUDENT CODE HERE\n",
    "    out=np.zeros([(len(data)-n_in-n_out+1),(n_in+n_out)])\n",
    "    for i in range(n_in+n_out):\n",
    "        out[:,i]=data[i:len(data)-n_in-n_out+1+i].reshape(len(data)-n_in-n_out+1)\n",
    "    # for i in range(n_in+n_out):\n",
    "    #     out[:,i]=data[i:len(data)-n_in+i-1].reshape(len(data)-n_in-1)\n",
    "    return out\n",
    "    # STUDENT CODE until HERE"
   ]
  },
  {
   "cell_type": "code",
   "execution_count": 78,
   "metadata": {},
   "outputs": [
    {
     "name": "stdout",
     "output_type": "stream",
     "text": [
      "<class 'numpy.ndarray'>\n",
      "[[ 1.  2.  3.  4.  5.  6.  7.]\n",
      " [ 2.  3.  4.  5.  6.  7.  8.]\n",
      " [ 3.  4.  5.  6.  7.  8.  9.]\n",
      " [ 4.  5.  6.  7.  8.  9. 10.]]\n"
     ]
    }
   ],
   "source": [
    "# Test your function\n",
    "dummy_array_sup = series_to_supervised(dummy_array, n_in=2, n_out=5)\n",
    "print(type(dummy_array_sup))\n",
    "print(dummy_array_sup)"
   ]
  },
  {
   "cell_type": "markdown",
   "metadata": {},
   "source": [
    "#### Modellanpassung & Vorhersage\n",
    "\n",
    "Die Funktion zur Berechnung des mittleren quadratischen Fehlers der Vorhersage zu den tatsächlichen Datenwerten ist unten angegeben."
   ]
  },
  {
   "cell_type": "code",
   "execution_count": null,
   "metadata": {},
   "outputs": [],
   "source": [
    "# Root mean squared error (rmse)\n",
    "def measure_rmse(actual:list, predicted:list)->float:\n",
    "    return sqrt(mean_squared_error(actual, predicted))"
   ]
  },
  {
   "cell_type": "markdown",
   "metadata": {},
   "source": [
    "Mit der Funktion `model_fit()` können Sie die LSTM-Struktur aufbauen und das Modell trainieren. Diese Funktion hat als Eingabe eine *config*-Liste, die fünf Modell-Hyperparameter enthält. Diese sind:\n",
    "\n",
    "- n_input: Die Anzahl der Lag-Beobachtungen, die als Eingabe für das Modell verwendet werden sollen.\n",
    "- n_Ausgang: Die Anzahl der Ausgänge des Netzwerks.\n",
    "- n_Knoten: Die Anzahl der LSTM-Einheiten, die im Hidden Laye verwendet werden sollen.\n",
    "- n_epochs: Die Anzahl, wie oft das Modell dem gesamten Trainingsdatensatz ausgesetzt werden soll.\n",
    "- n_batch: Die Anzahl der Samples innerhalb einer Epoche, nach der die Gewichte aktualisiert werden.\n",
    "- n_freq: Die Frequenz der Reihe, die für die saisonale Zerlegung verwendet wird.\n",
    "\n",
    "Die Eingabe für das LSTM-Netzwerk muss eine dreidimensionale Struktur haben, die aus (Samples, Timesteps, Features) besteht. *Timesteps* stellt die Anzahl der Elemente aus der Vergangenheit dar, die als Eingabe an das Netzwerk gegeben werden. *Features* sind die Variablen, die als Eingabeelemente verwendet werden, um etwas vorherzusagen, die sogenannten Prädiktoren. \n",
    "\n",
    "In unserem Fallbeispiel haben wir nur einen Prädiktor als Eingabe, nämlich die elektrische Lastreihe, daher _Features=1_. Die Anzahl der Zeitschritte in der Vergangenheit, die wir in unserem Eingabefenster berücksichtigen, entspricht *n_input*. Die Anzahl der Fenster, die wir für die Vorhersage verwenden, ist gleich _Samples_. Daher muss die Form der Eingangsvariablen für unser LSTM [samples, n_input, 1] sein.\n",
    "\n",
    "Außerdem sollten Sie den Trainingsdatensatz deseasonalisieren, bevor Sie mit dem Trainingsprozess beginnen. Im Gegensatz zu MLPs und CNNs, die die Sequenzdaten nicht schrittweise einlesen, ist die Leistung des LSTM besser, wenn die Daten stationär sind. Als Übung können Sie jedoch beide Fälle, saisonale und deseasonalisierte Daten als Eingabe, ausprobieren. "
   ]
  },
  {
   "cell_type": "markdown",
   "metadata": {},
   "source": [
    "<div class=\"alert alert-block alert-success\">\n",
    "<b>Aufgabe 6.3.7:</b> Vervollständigen Sie die Funktion <code>model_fit()</code> wie in den Kommentaren beschrieben.\n",
    "</div>"
   ]
  },
  {
   "cell_type": "code",
   "execution_count": null,
   "metadata": {},
   "outputs": [],
   "source": [
    "# Fit a model\n",
    "\n",
    "def model_fit(train:list, config:list):\n",
    "    \n",
    "    # Input:\n",
    "        # train: training data (seasonalized)\n",
    "        # config: list with model hyperparameters\n",
    "    # Output: \n",
    "        # model: trained model\n",
    "    \n",
    "    # Unpack config\n",
    "    n_input, n_output, n_nodes, n_epochs, n_batch, n_freq = config\n",
    "    \n",
    "    # Prepare data: deseasonalize the input data as preparation of the training dataset\n",
    "    # Please check the train shape afterwards\n",
    "    # train =  ??\n",
    "    \n",
    "    # STUDENT CODE HERE\n",
    "    result = seasonal_decompose(train, model='additive', period=n_freq,extrapolate_trend=\"freq\",two_sided=True)\n",
    "    trend = result.trend\n",
    "    seasonality = result.seasonal\n",
    "    residual = result.resid\n",
    "    original_data=result.observed\n",
    "    train=trend+residual\n",
    "    \n",
    "    # fig, axs = plt.subplots(4, 1)\n",
    "    # axs[0].plot(np.arange(0,len(trend)),trend,label=\"trend\")\n",
    "    # axs[1].plot(np.arange(0,len(seasonality)),seasonality,label=\"seasonality\")\n",
    "    # axs[2].plot(np.arange(0,len(residual)),residual,label=\"residual\")\n",
    "    # axs[3].plot(np.arange(0,len(original_data)),original_data,label=\"original data\")\n",
    "    # axs[3].plot(np.arange(0,len(train)),train,'--',label=\"train\")\n",
    "    # axs[0].legend()\n",
    "    # axs[1].legend()\n",
    "    # axs[2].legend()\n",
    "    # axs[3].legend()\n",
    "    # plt.show()\n",
    "    # STUDENT CODE until HERE\n",
    "    \n",
    "    # Change the format of the dataset to be used in supervised learning  \n",
    "    # data =  ??\n",
    "    # STUDENT CODE HERE\n",
    "\n",
    "    # STUDENT CODE until HERE\n",
    "    data=series_to_supervised(train, n_input, n_output)\n",
    "    # Devide the data in features and labels\n",
    "    train_x, train_y = data[:, :-1], data[:, -1]\n",
    "    \n",
    "    # Reshape training features in the correct input format for LSTM networks\n",
    "    train_x = train_x.reshape((train_x.shape[0], train_x.shape[1], 1))\n",
    "\n",
    "    # Init SequentialModel\n",
    "    model = Sequential()   \n",
    "\n",
    "    # Define one LSTM hidden layer followed by one dense hidden layer and \n",
    "    # one output layer as a dense layer with one node using model.add() (f.ex. as in Fig. 7 later in this task)\n",
    "    # STUDENT CODE HERE\n",
    "\n",
    "    # STUDENT CODE until HERE\n",
    "    model.add(LSTM(units=1,activation=\"relu\"))\n",
    "    model.add(Dense(n_nodes))\n",
    "    model.add(Dense(1))\n",
    "    # Compile Model\n",
    "    model.compile(loss='mse', optimizer='adam')\n",
    "    \n",
    "    # Fit Model\n",
    "    model.fit(train_x, train_y, epochs=n_epochs, batch_size=n_batch, verbose=1)\n",
    "    \n",
    "    return model"
   ]
  },
  {
   "cell_type": "markdown",
   "metadata": {},
   "source": [
    "<div class=\"alert alert-block alert-success\">\n",
    "<b>Aufgabe 6.3.8:</b> Die Funktion <code>model_predict()</code> erzeugt eine Vorhersage auf Basis eines vortrainierten Modells und Daten aus der Vergangenheit (Historie). Vervollständigen Sie den folgenden Code wie in den Kommentaren beschrieben. \n",
    "</div>"
   ]
  },
  {
   "cell_type": "code",
   "execution_count": null,
   "metadata": {},
   "outputs": [],
   "source": [
    "# Forecast with a pre-fit model\n",
    "\n",
    "def model_predict(model, history:list, config:list):\n",
    "    # Input:\n",
    "        # model: model returned by model_fit()\n",
    "        # history: all available data from the past\n",
    "        # config: list with model hyperparameters\n",
    "    # Output: \n",
    "        # prediction: corrected prediction of the model with the seasonal term back\n",
    "        \n",
    "    # Unpack config\n",
    "    n_input, _, _, _, _, n_freq = config\n",
    "    \n",
    "    # Prepare data: Deseasonalize the input data as preparation of the test dataset  \n",
    "    # The correction term has to be used after predicting, in order to give back the seasonality to the data \n",
    "    # history =  ??\n",
    "    # correction =  ??\n",
    "    # STUDENT CODE HERE\n",
    "    result = seasonal_decompose(history, model='additive', period=n_freq,extrapolate_trend=\"freq\",two_sided=True)\n",
    "    trend = result.trend\n",
    "    seasonality = result.seasonal\n",
    "    residual = result.resid\n",
    "    original_data=result.observed\n",
    "    history=trend+residual\n",
    "    correction=seasonality\n",
    "\n",
    "    # STUDENT CODE until HERE    \n",
    "    \n",
    "    x_input = array(history[-n_input:]).reshape((1, n_input, 1))\n",
    "    \n",
    "    # Forecast\n",
    "    yhat = model.predict(x_input, verbose=0)\n",
    "    \n",
    "    return correction[-n_freq] + yhat[0]"
   ]
  },
  {
   "cell_type": "markdown",
   "metadata": {},
   "source": [
    "#### Walk Forward Validierung\n",
    "\n",
    "Die `walk_forward_validation()` führt die Trainings- und Testprozesse durch, d. h. sie passt das Modell an die Trainingsdaten an, erzeugt dann Vorhersagen aus dem Testdatensatz und berechnet den Vorhersagefehler für eine Posterior-Analyse. \n",
    "\n",
    "Der hier zu programmierende Ansatz erzeugt Vorhersagen von genau einem Zeitschritt nach dem Ende des Trainingsdatensatzes. Daher wird die Historie-Variable für `model_predict()` mit Trainingsdaten initialisiert und mit dem Testdatensatz verkettet. Sie können einen anderen Ansatz versuchen, bei dem das Modell mit einem Historie-Array getestet wird, das nur Testdaten enthält. Beide werten das Modell auf unterschiedliche Weise aus."
   ]
  },
  {
   "cell_type": "markdown",
   "metadata": {},
   "source": [
    "<div class=\"alert alert-block alert-success\">\n",
    "<b>Aufgabe 6.3.10:</b> Verwenden Sie die Funktionen, die Sie zuvor programmiert haben, um den folgenden Code für <code>walk_forward_validation()</code> zu vervollständigen. \n",
    "</div>"
   ]
  },
  {
   "cell_type": "code",
   "execution_count": null,
   "metadata": {},
   "outputs": [],
   "source": [
    "# walk-forward validation for univariate data\n",
    "def walk_forward_validation(data:list, n_test:int, cfg:list):\n",
    "    # Input:\n",
    "        # data: time series in ndarray format\n",
    "        # n_test: integer, splitting index in the array\n",
    "        # cfg: list of model hyperparameters\n",
    "    # Output:\n",
    "        # error: rmse of predictions from the test set\n",
    "        # predictions: predicted values\n",
    "        # test_values: data values, ground-truth\n",
    "    \n",
    "    # Initialize the predictions array\n",
    "    predictions = list()\n",
    "    \n",
    "    # Split dataset\n",
    "    # train, test = ??\n",
    "    # STUDENT CODE HERE\n",
    "    train,test=train_test_split(data,n_test)\n",
    "    # STUDENT CODE until HERE    \n",
    "    \n",
    "    # Fit the model\n",
    "    # model = ??\n",
    "    # STUDENT CODE HERE\n",
    "    model=model_fit(data,cfg)\n",
    "    # STUDENT CODE until HERE \n",
    "    \n",
    "    # Initialize history array with training dataset as historical data\n",
    "    history = [x for x in train]\n",
    "    \n",
    "    print('The model starts predicting...')\n",
    "    \n",
    "    # Step over each time-step in the test set\n",
    "    for i in range(len(test)):\n",
    "        \n",
    "        # Make forecast for history\n",
    "        # yhat = ??\n",
    "        # STUDENT CODE HERE\n",
    "        yhat=model_predict(model, history,cfg)\n",
    "        # STUDENT CODE until HERE \n",
    "                \n",
    "        # Store forecast in list of predictions\n",
    "        predictions.append(yhat)\n",
    "        \n",
    "        # Add actual observation to history for the next loop\n",
    "        history.append(test[i])\n",
    "        \n",
    "    # Estimate prediction error\n",
    "    error = measure_rmse(test, predictions)\n",
    "    \n",
    "    print('Prediction error:  %.3f' % error)\n",
    "    return error, predictions, test"
   ]
  },
  {
   "cell_type": "markdown",
   "metadata": {},
   "source": [
    "#### Schlussfolgerung Vanilla LSTM\n",
    "\n",
    "Der folgende Code führt Ihr LSTM-Vanilla-Modell aus. Es steht Ihnen frei, die Parameter im *config*-Array zu ändern, die normalisierten Daten für das Training zu verwenden und auch die Art des für den Trainingsprozess verwendeten Optimierers zu ändern. \n",
    "\n",
    "Für die ersten Testausführungen empfehlen wir, nur einen Teil des Datensatzes zu verwenden. Ansonsten kann es eine Weile dauern. Nachdem Sie sicher sind, dass der Code wie erwartet funktioniert, führen Sie ihn für den gesamten Datensatz aus."
   ]
  },
  {
   "cell_type": "code",
   "execution_count": null,
   "metadata": {},
   "outputs": [
    {
     "name": "stdout",
     "output_type": "stream",
     "text": [
      "\u001b[1m294/294\u001b[0m \u001b[32m━━━━━━━━━━━━━━━━━━━━\u001b[0m\u001b[37m\u001b[0m \u001b[1m2s\u001b[0m 4ms/step - loss: 0.0347\n",
      "The model starts predicting...\n",
      "Prediction error:  0.174\n"
     ]
    }
   ],
   "source": [
    "# data = series.values  ## uncomment to test for the whole dataset\n",
    "data = normalized[:96*31] ## Executing first with 31 days * 24 hours * 60 mins/15 mins = 2976 # 96 Werte entsprichen 24h\n",
    "# data split: Forecasting the load in a day\n",
    "# n_test = int(0.7*series.size) ## Testing with 30% of the dataset\n",
    "n_test = 384 ## Testing with the last 4 days = 384 elements\n",
    "# Define config, (n_input, n_output, n_nodes, n_epochs, n_batch, n_freq = config)\n",
    "config = [48, 1, 50, 1, 10, 96]\n",
    "# Fit and evaluate the model n_repeats times\n",
    "score, predictions, y_test = walk_forward_validation(data, n_test, config)"
   ]
  },
  {
   "cell_type": "markdown",
   "metadata": {},
   "source": [
    "<div class=\"alert alert-block alert-success\">\n",
    "<b>Frage 6.3.11:</b> Können Sie erklären, warum das Modell in der Lage ist, die nächste 15-minütige elektrische Last besser vorherzusagen, indem es nur einen einzigen Eingabeschritt aus der Vergangenheit verwendet? Hinweis: Was ist der Unterschied zu einem normalen feed forward neuronalen Netz?\n",
    "</div>\n",
    "\n",
    "<div class=\"alert alert-block alert-success\">\n",
    "<b>Ihre Antwort:</b> Zusätzlich existiert ein Kurz- und Langzeitgedächtnis</div>\n"
   ]
  },
  {
   "cell_type": "markdown",
   "metadata": {},
   "source": [
    "<div class=\"alert alert-block alert-success\">\n",
    "<b>Aufgabe 6.3.12:</b> Importieren Sie matplotlib und plotten Sie die Vorhersagen und den Testsatz in einem Plot, um eine Intuition über die Vorhersage und Ihr Modell zu bekommen.\n",
    "</div>"
   ]
  },
  {
   "cell_type": "code",
   "execution_count": null,
   "metadata": {},
   "outputs": [
    {
     "data": {
      "image/png": "[encoded data removed]",
      "text/plain": [
       "<Figure size 640x480 with 1 Axes>"
      ]
     },
     "metadata": {},
     "output_type": "display_data"
    }
   ],
   "source": [
    "# STUDENT CODE HERE\n",
    "x=np.arange(1,385)\n",
    "plt.plot(x,y_test,label='ground truth')\n",
    "plt.plot(x,predictions,label='predictions')\n",
    "plt.legend()\n",
    "plt.show()\n",
    "# STUDENT CODE until HERE "
   ]
  },
  {
   "cell_type": "markdown",
   "metadata": {},
   "source": [
    "### Anfängerfehler\n",
    "Nachdem Sie Ihr Modell einmal mit Hilfe des Datensatzes angepasst und bewertet haben, neigen AnfängerInnen zu denken, dass der für diese Modellkonfiguration erstellte Skill-Bericht fertig ist. Wenn jedoch dieselbe Modellarchitektur mehrmals trainiert wird, ist die erhaltene Modellfähigkeit unterschiedlich. Der Grund dafür ist die stochastische Eigenschaft des Deep Learnings. Modelle wie LSTMs verwenden bei der Anpassung Zufälligkeiten, wie z. B. zufällige Anfangsgewichte oder die Umverteilung der Daten nach jeder Trainingsepoche während des stochastischen Gradientenabstiegs."
   ]
  },
  {
   "cell_type": "markdown",
   "metadata": {},
   "source": [
    "<div class=\"alert alert-block alert-success\">\n",
    "<b>Aufgabe 6.3.13:</b> Bewerten Sie die Zufälligkeit des Trainingsergebnisses des Vanilla LSTM, das Sie bereits programmiert haben. Probieren Sie es aus, indem Sie die Funktion <code>repeat_evaluate()</code> schreiben, wobei die Funktion <code>walk_forward_validation()</code> n_repeats mal ausgeführt wird. Alle Ergebnisse sollen in einem Array namens <i>scores</i> gespeichert und zurückgegeben werden. \n",
    "</div>"
   ]
  },
  {
   "cell_type": "code",
   "execution_count": null,
   "metadata": {},
   "outputs": [
    {
     "name": "stdout",
     "output_type": "stream",
     "text": [
      "\u001b[1m293/293\u001b[0m \u001b[32m━━━━━━━━━━━━━━━━━━━━\u001b[0m\u001b[37m\u001b[0m \u001b[1m3s\u001b[0m 5ms/step - loss: 0.0257\n",
      "The model starts predicting...\n",
      "Prediction error:  0.083\n",
      "\u001b[1m293/293\u001b[0m \u001b[32m━━━━━━━━━━━━━━━━━━━━\u001b[0m\u001b[37m\u001b[0m \u001b[1m3s\u001b[0m 5ms/step - loss: 0.0359\n",
      "The model starts predicting...\n",
      "Prediction error:  0.166\n",
      "\u001b[1m293/293\u001b[0m \u001b[32m━━━━━━━━━━━━━━━━━━━━\u001b[0m\u001b[37m\u001b[0m \u001b[1m3s\u001b[0m 5ms/step - loss: 0.0101\n",
      "The model starts predicting...\n",
      "Prediction error:  0.073\n",
      "\u001b[1m293/293\u001b[0m \u001b[32m━━━━━━━━━━━━━━━━━━━━\u001b[0m\u001b[37m\u001b[0m \u001b[1m3s\u001b[0m 5ms/step - loss: 0.0233\n",
      "The model starts predicting...\n",
      "Prediction error:  0.105\n",
      "\u001b[1m293/293\u001b[0m \u001b[32m━━━━━━━━━━━━━━━━━━━━\u001b[0m\u001b[37m\u001b[0m \u001b[1m3s\u001b[0m 5ms/step - loss: 0.0137\n",
      "The model starts predicting...\n",
      "Prediction error:  0.070\n",
      "\u001b[1m293/293\u001b[0m \u001b[32m━━━━━━━━━━━━━━━━━━━━\u001b[0m\u001b[37m\u001b[0m \u001b[1m3s\u001b[0m 5ms/step - loss: 0.0228\n",
      "The model starts predicting...\n",
      "Prediction error:  0.059\n",
      "\u001b[1m293/293\u001b[0m \u001b[32m━━━━━━━━━━━━━━━━━━━━\u001b[0m\u001b[37m\u001b[0m \u001b[1m4s\u001b[0m 7ms/step - loss: 0.0332\n",
      "The model starts predicting...\n",
      "Prediction error:  0.174\n",
      "\u001b[1m293/293\u001b[0m \u001b[32m━━━━━━━━━━━━━━━━━━━━\u001b[0m\u001b[37m\u001b[0m \u001b[1m3s\u001b[0m 5ms/step - loss: 0.1604\n",
      "The model starts predicting...\n",
      "Prediction error:  0.085\n",
      "\u001b[1m293/293\u001b[0m \u001b[32m━━━━━━━━━━━━━━━━━━━━\u001b[0m\u001b[37m\u001b[0m \u001b[1m4s\u001b[0m 7ms/step - loss: 0.0326\n",
      "The model starts predicting...\n",
      "Prediction error:  0.160\n",
      "\u001b[1m293/293\u001b[0m \u001b[32m━━━━━━━━━━━━━━━━━━━━\u001b[0m\u001b[37m\u001b[0m \u001b[1m3s\u001b[0m 5ms/step - loss: 0.0332\n",
      "The model starts predicting...\n",
      "Prediction error:  0.170\n"
     ]
    }
   ],
   "source": [
    "# Repeat evaluation of a LSTM model\n",
    "def repeat_evaluate(data, config, n_test, n_repeats=30):\n",
    "    # Input:\n",
    "        # data: time series in ndarray format\n",
    "        # config: list of model hyperparameters\n",
    "        # n_test: integer, splitting index in the array\n",
    "        # n_repeats: number of times walk_forward_validation() has to be executed\n",
    "    # Output:\n",
    "        # scores: list object of errors returned by walk_forward_validation()\n",
    "        \n",
    "    # Fit and evaluate the model n times\n",
    "    # STUDENT CODE HERE\n",
    "    scores=[]\n",
    "    for i in range(n_repeats):\n",
    "        score, predictions, y_test = walk_forward_validation(data, n_test, config)\n",
    "        scores.append(score)\n",
    "    # STUDENT CODE until HERE \n",
    "    return scores\n",
    "    \n",
    "# data = series.values  ## uncomment to test for the whole dataset\n",
    "data = normalized[:2976] ## Executing first with 31 days * 24 hours * 60 mins/15 mins = 2976 \n",
    "# data split\n",
    "# n_test = int(0.7*series.size)  ## Testing with 30% of the dataset\n",
    "n_test = 384 ## Testing with the last 4 days = 384 elements\n",
    "# Define config, with config = [n_input, n_output, n_nodes, n_epochs, n_batch, n_freq]\n",
    "config = [48, 1, 50, 1, 10, 96]\n",
    "# Fit and evaluate the model n_repeats times\n",
    "scores = repeat_evaluate(data, config, n_test, n_repeats=10)"
   ]
  },
  {
   "cell_type": "markdown",
   "metadata": {},
   "source": [
    "#### Fähigkeitsschätzung eines Stochastischen Modells\n",
    "Da jedes Mal, wenn ein Modell angepasst wird, eine gewisse Zufälligkeit im Fähigkeitsscore zu beobachten ist, müssen mehrere Durchläufe durchgeführt werden, um eine Vorstellung von der Stabilität des Modells zu bekommen. Die endgültige Modellfähigkeit muss als Mittelwert und Varianz der Werte angegeben werden. Dies ergibt eine robuste Schätzung des Modells. <br>\n",
    "Jedes Modelltraining muss auf dem gleichen Trainingsdatensatz und mit der gleichen Architektur durchgeführt werden, um nur die intrinsischen Trainingsveränderungen im Modell zu bewerten. Die Anzahl der Durchläufe hängt von der Zeit ab, die das Modell zum Trainieren benötigt. Mehr Wiederholungen ermöglichen ein besseres Verständnis der Variabilität der Modelllösung.<br>"
   ]
  },
  {
   "cell_type": "markdown",
   "metadata": {},
   "source": [
    "<div class=\"alert alert-block alert-success\">\n",
    "<b>Aufgabe 6.3.14:</b> Vervollständigen Sie die Funktion <code>summarize_scores()</code>, die als Eingabe das von <code>repeat_evaluate()</code> erzeugte Array mit den Ergebnissen erhält sowie Mittelwert und Standardabweichung der Ergebnisse ausgibt. Diese Funktion sollte auch in der Lage sein, ein Boxplot der Ergebnisse zu erstellen. \n",
    "</div>"
   ]
  },
  {
   "cell_type": "code",
   "execution_count": null,
   "metadata": {},
   "outputs": [
    {
     "name": "stdout",
     "output_type": "stream",
     "text": [
      "Mean: \n",
      "0.11430530146628767\n",
      "STD: \n",
      "0.04484072366543014\n"
     ]
    },
    {
     "data": {
      "image/png": "[encoded data removed]",
      "text/plain": [
       "<Figure size 640x480 with 1 Axes>"
      ]
     },
     "metadata": {},
     "output_type": "display_data"
    }
   ],
   "source": [
    "# Summarize model performance\n",
    "def summarize_scores(name, scores):\n",
    "    # Input:\n",
    "        # name: string, model name\n",
    "        # scores: repeat_evaluate() output array\n",
    "    # Output: \n",
    "        # none\n",
    "        \n",
    "    # STUDENT CODE HERE\n",
    "    mean=np.sum(scores)/len(scores)\n",
    "    std=0\n",
    "    for i in range(len(scores)):\n",
    "        std=std+(scores[i]-mean)**2\n",
    "    std=np.sqrt(std/len(scores))\n",
    "    print(\"Mean: \")\n",
    "    print(mean)\n",
    "    print(\"STD: \")\n",
    "    print(std)\n",
    "    plt.boxplot(scores)\n",
    "    plt.show()\n",
    "    # STUDENT CODE until HERE \n",
    "    \n",
    "# Summarize scores\n",
    "summarize_scores('lstm', scores)"
   ]
  },
  {
   "cell_type": "markdown",
   "metadata": {},
   "source": [
    "### Gestapeltes LSTM\n",
    "\n",
    "Das Vanilla-LSTM, das nur ein Hidden Layer enthält, kann einige einfache Probleme lösen. Um kompliziertere Probleme zu lösen, \"müssen wir tiefer gehen\" (falls der Begriff *Deep Learning* nicht klar war, jetzt ist er es). Durch das Stapeln mehrerer Hidden Layers kann das LSTM-Netz komplexere Merkmale des Systems (Zeitreihe, Bild, Text, Video usw.) lernen und eine bessere Ausgabe (Vorhersage, Text, Sequenz usw.) erzeugen.\n",
    "\n",
    "<img src=\"images\\we-have-to-go-deeper.png\" alt=\"drawing\" style=\"width:500px;\"/>\n",
    "<p style=\"text-align: center;\">\n",
    "    Abb. 5 - Um komplexere Probleme zu lösen, ist es wichtig, das Netz vertikal zu erweitern, d.h. Schichten zu stapeln. [Bildreferenz: Film Inception (2010)]\n",
    "</p>\n",
    "\n",
    "Das gestapelte LSTM ist ein Modell mit mehreren versteckten LSTM-Schichten, wobei jede Schicht mehrere Speicherzellen enthält. Da LSTMs mit Sequenzdaten arbeiten, bedeutet dies, dass das Hinzufügen von Schichten zusätzliche Abstraktionsebenen der Input Beobachtungen über die Zeit hinzufügt. [3] RNNs haben von Natur aus eine große zeitliche Tiefe, da ihr versteckter Zustand (engl. hidden state) eine Funktion aller vorherigen versteckten Zustände ist. Sie können auch von der räumlichen Tiefe profitieren, d. h. von der Stapelung mehrerer rekurrenter versteckter Schichten übereinander. [9] Abbildung 6 zeigt ein gestapeltes LSTM-Netz mit zwei Hidden Layers. \n",
    "\n",
    "<img src=\"images\\stackedlstm.png\" alt=\"drawing\" style=\"width:100px;\"/>\n",
    "<p style=\"text-align: center;\">\n",
    "    Abb. 6 - Netzwerkstruktur für ein gestapeltes LSTM-Modell. Die Anzahl der LSTM-Schichten hängt von der Anwendung ab. [3]\n",
    "</p>\n",
    "\n",
    "Das gestapelte LSTM-Modell erwartet eine Liste von sechs Modell-Hyperparametern, welche sind:\n",
    "\n",
    "- n_input: Die Anzahl der Verzögerungsbeobachtungen, die als Input für das Modell verwendet werden sollen.\n",
    "- n_output: Die Anzahl der Ausgaben des Netzwerks.\n",
    "- n_layers: Die Anzahl der versteckten LSTM-Schichten.\n",
    "- n_nodes: Die Anzahl der LSTM-Einheiten in jeder versteckten Schicht. Dieser Parameter muss ein Array mit dem entsprechenden Wert pro Schicht sein.\n",
    "- n_epochs: Die Anzahl, wie oft das Modell dem gesamten Trainingsdatensatz ausgesetzt werden soll.\n",
    "- n_batch: Die Anzahl der Datenpunkte innerhalb einer Epoche, nach der die Gewichte aktualisiert werden.\n",
    "- n_freq: Die Frequenz der Reihe, die für die saisonale Zerlegung verwendet wird.\n",
    "\n",
    "Jede LSTM-Speicherzelle benötigt eine 3D-Eingabe. Wenn ein LSTM eine Eingangssequenz von Zeitschritten verarbeitet, wird jede Speicherzelle\n",
    "einen einzigen Wert für die gesamte Sequenz als 2D-Array aus. Um LSTM-Schichten zu stapeln, müssen wir die Konfiguration der vorherigen LSTM-Schicht ändern, um ein 3D-Array als Eingabe für die nachfolgende Schicht auszugeben. Dies ist möglich, indem man das Argument *return_sequences*\n",
    "auf der Ebene auf True setzt (Standard ist False). Dadurch wird eine Ausgabe für jeden Eingabezeitschritt zurückgegeben und ein 3D-Array bereitgestellt. Abbildung 7 zeigt, wie der Code für zwei versteckte LSTM-Schichten aussehen sollte. \n",
    "\n",
    "<img src=\"images/stacking_lstm_code.png\" alt=\"drawing\" style=\"width:700px;\"/>\n",
    "<p style=\"text-align: center;\">\n",
    "    Abb. 7 - Code zur Definition eines gestapelten LSTM mit 2 Hidden Layers. [3]\n",
    "</p>"
   ]
  },
  {
   "cell_type": "markdown",
   "metadata": {},
   "source": [
    "<div class=\"alert alert-block alert-success\">\n",
    "<b>Aufgabe 6.3.15:</b> Ändern Sie die Funktionen (<code>model_fit()</code>, <code>model_predict()</code>), die Sie zuvor geschrieben haben (für den Vanilla LSTM), um mehrere LSTM-Schichten im Modell zu haben. Füllen Sie die folgende Zelle mit Ihrem neuen Code.\n",
    "\n",
    "\n",
    "\n",
    "<ul>\n",
    "<li> Hinweis 1: Seien Sie vorsichtig mit der Definition von n_nodes; in diesem Fall ist es ein Array mit der Anzahl der LSTM-Einheiten in jeder versteckten Schicht und nicht mehr ein einzelner Integer-Wert wie zuvor.\n",
    "<li>Hinweis 2: <code>model_predict()</code> muss nur die Konfiguration richtig entpacken.\n",
    "\n",
    "\n",
    "</li>\n",
    "</ul>\n",
    "</div>"
   ]
  },
  {
   "cell_type": "code",
   "execution_count": null,
   "metadata": {},
   "outputs": [
    {
     "name": "stdout",
     "output_type": "stream",
     "text": [
      "\u001b[1m293/293\u001b[0m \u001b[32m━━━━━━━━━━━━━━━━━━━━\u001b[0m\u001b[37m\u001b[0m \u001b[1m5s\u001b[0m 12ms/step - loss: 0.0051\n",
      "The model starts predicting...\n",
      "Prediction error:  0.040\n"
     ]
    }
   ],
   "source": [
    "# STUDENT CODE HERE\n",
    "def model_fit(train:list, config:list):\n",
    "    \n",
    "    # Input:\n",
    "        # train: training data (seasonalized)\n",
    "        # config: list with model hyperparameters\n",
    "    # Output: \n",
    "        # model: trained model\n",
    "    \n",
    "    # Unpack config\n",
    "    n_input, n_output, n_layers, n_nodes, n_epochs, n_batch, n_freq = config\n",
    "    \n",
    "    # Prepare data: deseasonalize the input data as preparation of the training dataset\n",
    "    # Please check the train shape afterwards\n",
    "    # train =  ??\n",
    "    \n",
    "    # STUDENT CODE HERE\n",
    "    result = seasonal_decompose(train, model='additive', period=n_freq,extrapolate_trend=\"freq\",two_sided=True)\n",
    "    trend = result.trend\n",
    "    seasonality = result.seasonal\n",
    "    residual = result.resid\n",
    "    original_data=result.observed\n",
    "    train=trend+residual\n",
    "    # STUDENT CODE until HERE\n",
    "    # Change the format of the dataset to be used in supervised learning  \n",
    "\n",
    "    data=series_to_supervised(train, n_input, n_output)\n",
    "    # Devide the data in features and labels\n",
    "    train_x, train_y = data[:, :-1], data[:, -1]\n",
    "    \n",
    "    # Reshape training features in the correct input format for LSTM networks\n",
    "    train_x = train_x.reshape((train_x.shape[0], train_x.shape[1], 1))\n",
    "\n",
    "    # Init SequentialModel\n",
    "    model = Sequential()   \n",
    "\n",
    "    # Define one LSTM hidden layer followed by one dense hidden layer and \n",
    "    # one output layer as a dense layer with one node using model.add() (f.ex. as in Fig. 7 later in this task)\n",
    "    # STUDENT CODE HERE\n",
    "\n",
    "    # STUDENT CODE until HERE\n",
    "    for i in range(n_layers-1):\n",
    "        model.add(LSTM(units=n_nodes[i],return_sequences=True))\n",
    "    model.add(LSTM(units=n_nodes[len(n_nodes)-1]))\n",
    "    model.add(Dense(n_nodes[len(n_nodes)-1]))\n",
    "    model.add(Dense(1))# output\n",
    "    # Compile Model\n",
    "    model.compile(loss='mse', optimizer='adam')\n",
    "    \n",
    "    # Fit Model\n",
    "    model.fit(train_x, train_y, epochs=n_epochs, batch_size=n_batch, verbose=1)\n",
    "    \n",
    "    return model\n",
    "\n",
    "def model_predict(model, history:list, config:list):\n",
    "    # Input:\n",
    "        # model: model returned by model_fit()\n",
    "        # history: all available data from the past\n",
    "        # config: list with model hyperparameters\n",
    "    # Output: \n",
    "        # prediction: corrected prediction of the model with the seasonal term back\n",
    "        \n",
    "    # Unpack config\n",
    "    n_input, _, _, _, _, _, n_freq = config\n",
    "    \n",
    "    # Prepare data: Deseasonalize the input data as preparation of the test dataset  \n",
    "    # The correction term has to be used after predicting, in order to give back the seasonality to the data \n",
    "    # history =  ??\n",
    "    # correction =  ??\n",
    "    # STUDENT CODE HERE\n",
    "    result = seasonal_decompose(history, model='additive', period=n_freq,extrapolate_trend=\"freq\",two_sided=True)\n",
    "    trend = result.trend\n",
    "    seasonality = result.seasonal\n",
    "    residual = result.resid\n",
    "    original_data=result.observed\n",
    "    history=trend+residual\n",
    "    correction=seasonality\n",
    "\n",
    "    # STUDENT CODE until HERE    \n",
    "    \n",
    "    x_input = array(history[-n_input:]).reshape((1, n_input, 1))\n",
    "    \n",
    "    # Forecast\n",
    "    yhat = model.predict(x_input, verbose=0)\n",
    "    \n",
    "    return correction[-n_freq] + yhat[0]\n",
    "# STUDENT CODE until HERE\n",
    "\n",
    "config = [48, 1, 2,[50,50], 1, 10, 96]\n",
    "# Fit and evaluate the model n_repeats times\n",
    "scores = repeat_evaluate(data, config, n_test, n_repeats=1)"
   ]
  },
  {
   "cell_type": "markdown",
   "metadata": {},
   "source": [
    "<div class=\"alert alert-block alert-success\">\n",
    "<b>Frage 6.3.16:</b> Nehmen wir an, Sie wollen mit demselben Netz mehrere Zeitschritte vorhersagen. Welche Variable oder Parameter des von Ihnen programmierten gestapelten LSTM-Netzes müssen Sie anpassen, um mehrere Ausgänge statt nur einem zu haben?  \n",
    "</div>"
   ]
  },
  {
   "cell_type": "markdown",
   "metadata": {},
   "source": [
    "<div class=\"alert alert-block alert-success\">\n",
    "<b>Ihre Antwort:</b> In der Dense output Schicht mehr als 1 Eingang zulassen</div>\n"
   ]
  },
  {
   "cell_type": "markdown",
   "metadata": {},
   "source": [
    "#### Diagnose von Under- und Overfitting\n",
    "Eine der wichtigsten Prüfungen, die Sie an Ihrem Modell durchführen müssen, ist die Überprüfung auf Under- und Overfitting. Dazu benötigen Sie die Trainings- und Validierungsverlustfunktionen, die von der Keras-Methode `.fit()` Ihres Modells erzeugt werden. Diese Werte werden in dem *History*-Objekt gespeichert, das von dieser Funktion zurückgegeben wird. <br> \n",
    "Normalerweise enthält das History-Objekt die Trainings-/Validierungsgenauigkeit und die Verlustfunktionen, aber dies kann sich von Lösung zu Lösung ändern. Um zu überprüfen, was das History-Objekt enthält, verwenden Sie\n",
    "````python \n",
    "# list all data in history\n",
    "print(history.history.keys())\n",
    ">> ['acc', 'loss', 'val_acc', 'val_loss']\n",
    "```"
   ]
  },
  {
   "cell_type": "markdown",
   "metadata": {},
   "source": [
    "<div class=\"alert alert-block alert-success\">\n",
    "<b>Aufgabe 6.3.17:</b> Ändern Sie die Funktion <code>model_fit()</code>, um die Verlustfunktion für den Trainings- und den Validierungsprozess zu sammeln und darzustellen.\n",
    "<ul>\n",
    "\n",
    "<li>Die Ausgabe der Historie erhalten Sie, indem Sie einfach <code>model_metric = model.fit(...)</code> verwenden.\n",
    "    \n",
    "\n",
    "<li>\n",
    "    Da in der Funktion <code>walk_forward_validation()</code> bereits eine Variable namens <i>history</i> verwendet wird, um vergangene Daten zu speichern, soll hier der Name <b>model_metric</b> für das History-Ausgabeobjekt der Keras-Methode <code>.fit()</code> verwendet werden. Übergeben Sie einfach <b>model_metric</b> durch <code>walk_forward_validation()</code>.\n",
    "\n",
    "<li>Um den Trainingsdatensatz innerhalb der <code>model_fit()</code>-Funktion in einen Validierungssatz aufzuteilen, verwenden Sie den Parameter <i>validation_split</i> aus der Keras-Methode <code>.fit()</code>. Ein Splitting-Verhältnis von einem Drittel der Gesamtmenge sollte ausreichen.\n",
    "\n",
    "</ul>\n",
    "\n",
    "</div>"
   ]
  },
  {
   "cell_type": "code",
   "execution_count": null,
   "metadata": {},
   "outputs": [
    {
     "name": "stdout",
     "output_type": "stream",
     "text": [
      "Epoch 1/10\n",
      "\u001b[1m205/205\u001b[0m \u001b[32m━━━━━━━━━━━━━━━━━━━━\u001b[0m\u001b[37m\u001b[0m \u001b[1m7s\u001b[0m 19ms/step - loss: 0.0087 - val_loss: 0.0020\n",
      "Epoch 2/10\n",
      "\u001b[1m205/205\u001b[0m \u001b[32m━━━━━━━━━━━━━━━━━━━━\u001b[0m\u001b[37m\u001b[0m \u001b[1m4s\u001b[0m 18ms/step - loss: 0.0019 - val_loss: 0.0015\n",
      "Epoch 3/10\n",
      "\u001b[1m205/205\u001b[0m \u001b[32m━━━━━━━━━━━━━━━━━━━━\u001b[0m\u001b[37m\u001b[0m \u001b[1m4s\u001b[0m 18ms/step - loss: 0.0012 - val_loss: 9.8758e-04\n",
      "Epoch 4/10\n",
      "\u001b[1m205/205\u001b[0m \u001b[32m━━━━━━━━━━━━━━━━━━━━\u001b[0m\u001b[37m\u001b[0m \u001b[1m4s\u001b[0m 19ms/step - loss: 7.2852e-04 - val_loss: 0.0010\n",
      "Epoch 5/10\n",
      "\u001b[1m205/205\u001b[0m \u001b[32m━━━━━━━━━━━━━━━━━━━━\u001b[0m\u001b[37m\u001b[0m \u001b[1m4s\u001b[0m 19ms/step - loss: 4.9475e-04 - val_loss: 5.9965e-04\n",
      "Epoch 6/10\n",
      "\u001b[1m205/205\u001b[0m \u001b[32m━━━━━━━━━━━━━━━━━━━━\u001b[0m\u001b[37m\u001b[0m \u001b[1m4s\u001b[0m 19ms/step - loss: 3.5261e-04 - val_loss: 4.2649e-04\n",
      "Epoch 7/10\n",
      "\u001b[1m205/205\u001b[0m \u001b[32m━━━━━━━━━━━━━━━━━━━━\u001b[0m\u001b[37m\u001b[0m \u001b[1m4s\u001b[0m 19ms/step - loss: 2.8874e-04 - val_loss: 4.4319e-04\n",
      "Epoch 8/10\n",
      "\u001b[1m205/205\u001b[0m \u001b[32m━━━━━━━━━━━━━━━━━━━━\u001b[0m\u001b[37m\u001b[0m \u001b[1m4s\u001b[0m 19ms/step - loss: 2.3055e-04 - val_loss: 2.8576e-04\n",
      "Epoch 9/10\n",
      "\u001b[1m205/205\u001b[0m \u001b[32m━━━━━━━━━━━━━━━━━━━━\u001b[0m\u001b[37m\u001b[0m \u001b[1m4s\u001b[0m 19ms/step - loss: 2.0274e-04 - val_loss: 1.9816e-04\n",
      "Epoch 10/10\n",
      "\u001b[1m205/205\u001b[0m \u001b[32m━━━━━━━━━━━━━━━━━━━━\u001b[0m\u001b[37m\u001b[0m \u001b[1m4s\u001b[0m 19ms/step - loss: 1.7842e-04 - val_loss: 1.6910e-04\n",
      "The model starts predicting...\n"
     ]
    },
    {
     "data": {
      "image/png": "[encoded data removed]",
      "text/plain": [
       "<Figure size 640x480 with 1 Axes>"
      ]
     },
     "metadata": {},
     "output_type": "display_data"
    }
   ],
   "source": [
    "def model_fit(train, config):\n",
    "    \n",
    "    # Input:\n",
    "        # train: training data (seasonalized)\n",
    "        # config: list with model hyperparameters\n",
    "    # Output: \n",
    "        # model: trained model\n",
    "    \n",
    "    # Unpack config\n",
    "    n_input, n_output, n_layers, n_nodes, n_epochs, n_batch, n_freq = config\n",
    "    \n",
    "    # Prepare data: deseasonalize the input data as preparation of the training dataset\n",
    "    # Please check the train shape afterwards\n",
    "    # train =  ??\n",
    "    \n",
    "    # STUDENT CODE HERE\n",
    "    result = seasonal_decompose(train, model='additive', period=n_freq,extrapolate_trend=\"freq\",two_sided=True)\n",
    "    trend = result.trend\n",
    "    seasonality = result.seasonal\n",
    "    residual = result.resid\n",
    "    original_data=result.observed\n",
    "    train=trend+residual\n",
    "    # STUDENT CODE until HERE\n",
    "    # Change the format of the dataset to be used in supervised learning  \n",
    "\n",
    "    data=series_to_supervised(train, n_input, n_output)\n",
    "    # Devide the data in features and labels\n",
    "    train_x, train_y = data[:, :-1], data[:, -1]\n",
    "    \n",
    "    # Reshape training features in the correct input format for LSTM networks\n",
    "    train_x = train_x.reshape((train_x.shape[0], train_x.shape[1], 1))\n",
    "\n",
    "    # Init SequentialModel\n",
    "    model = Sequential()   \n",
    "\n",
    "    # Define one LSTM hidden layer followed by one dense hidden layer and \n",
    "    # one output layer as a dense layer with one node using model.add() (f.ex. as in Fig. 7 later in this task)\n",
    "    # STUDENT CODE HERE\n",
    "\n",
    "    # STUDENT CODE until HERE\n",
    "    for i in range(n_layers-1):\n",
    "        model.add(LSTM(units=n_nodes[i],return_sequences=True))\n",
    "    model.add(LSTM(units=n_nodes[len(n_nodes)-1]))\n",
    "    model.add(Dense(n_nodes[len(n_nodes)-1]))\n",
    "    model.add(Dense(1))# output\n",
    "    # Compile Model\n",
    "    model.compile(loss='mse', optimizer='adam')\n",
    "    \n",
    "    # Fit Model\n",
    "    model_metric=model.fit(train_x, train_y, epochs=n_epochs, batch_size=n_batch, verbose=1,validation_split=0.3)\n",
    "    \n",
    "    return model, model_metric\n",
    "\n",
    "def walk_forward_validation(data, n_test, cfg):\n",
    "    # Input:\n",
    "        # data: time series in ndarray format\n",
    "        # n_test: integer, splitting index in the array\n",
    "        # cfg: list of model hyperparameters\n",
    "    # Output:\n",
    "        # error: rmse of predictions from the test set\n",
    "        # model_metric: History output object of model_fit()\n",
    "\n",
    "    n_input, n_output, n_layers, n_nodes, n_epochs, n_batch, n_freq = cfg\n",
    "    predictions = list()\n",
    "    train,test=train_test_split(data,n_test)\n",
    "    model,model_metric=model_fit(data,cfg)\n",
    "    # STUDENT CODE until HERE \n",
    "    \n",
    "    # Initialize history array with training dataset as historical data\n",
    "    history = [x for x in train]\n",
    "    print('The model starts predicting...')\n",
    "    for i in range(len(test)):\n",
    "        yhat=model_predict(model, history,cfg)\n",
    "        predictions.append(yhat)\n",
    "        history.append(test[i])\n",
    "    error = measure_rmse(test, predictions)\n",
    "    return error, predictions, test,model_metric\n",
    "# data = series.values  ## uncomment to test for the whole dataset\n",
    "data = normalized[:2976] ## Executing first with 31 days * 24 hours * 60 mins/15 mins = 2976 \n",
    "\n",
    "# Data split\n",
    "# n_test = int(0.7*series.size)  ## Testing with 30% of the dataset\n",
    "n_test = 384 ## Testing with the last 4 days = 384 elements\n",
    "\n",
    "# Define config: [n_input, n_output, n_layers, n_nodes, n_epochs, n_batch, n_freq]\n",
    "config = [48, 1, 3, [50, 30, 50], 10, 10, 96]\n",
    "\n",
    "score, predictions, y_test, model_metric = walk_forward_validation(data, n_test, config)\n",
    "\n",
    "# Plot train and validation loss\n",
    "pyplot.plot(model_metric.history['loss'])\n",
    "pyplot.plot(model_metric.history['val_loss'])\n",
    "pyplot.title('model train vs validation loss')\n",
    "pyplot.ylabel('loss')\n",
    "pyplot.xlabel('epoch')\n",
    "pyplot.legend(['train', 'validation'], loc='upper right')\n",
    "pyplot.show()"
   ]
  },
  {
   "cell_type": "markdown",
   "metadata": {},
   "source": [
    "<div class=\"alert alert-block alert-success\">\n",
    "<b>Frage 6.3.18:</b> Analysieren Sie die Graphen, die Sie bei der Analyse des Under-/Overfittings erhalten haben. Was können Sie über Ihr Modell sagen? Würden Sie etwas ändern, um Ihre Ergebnisse zu verbessern? Wenn ja, nehmen Sie die Änderungen vor und schreiben Sie hier eine kurze Dokumentation über Ihre Beobachtungen.\n",
    "<ul>\n",
    "\n",
    "<li> Hinweis: Wenn Sie mehr über die Analyse der Trainings- und Validierungsverlustgraphen wissen möchten, können Sie sich das folgende <a href=\"https://www.tensorflow.org/tutorials/keras/overfit_and_underfit\">Tutorial zu Over- und Underfitting von Tensorflow</a> ansehen.\n",
    "</ul>\n",
    "</div>"
   ]
  },
  {
   "cell_type": "markdown",
   "metadata": {},
   "source": [
    "<div class=\"alert alert-block alert-success\">\n",
    "<b>Ihre Antwort:</b> Es findet kein Overfitting statt da der Validation Loss genauso sinkt, wie der Trainingloss</div>\n"
   ]
  },
  {
   "cell_type": "markdown",
   "metadata": {},
   "source": [
    "#### Einige abschließende Hinweise \n",
    "\n",
    "Bevor wir die Einführung in LSTMs beenden, sollten noch einige Hinweise zu den Hyperparametern des Netzes beachtet werden:\n",
    "\n",
    "- Das Problem des explodierenden Gradienten kann dort bleiben: LSTMs haben nicht das Problem der verschwindenden Gradienten wie die konventionellen RNNs. Dennoch kann das Problem des explodierenden Gradienten auch bei LSTM-Modellen auftreten. Daher ist das Beschneiden der Gradienten eine gute Lösung für dieses Problem (weitere Informationen finden Sie in <a href=\"https://machinelearningmastery.com/exploding-gradients-in-neural-networks\">diesem Artikel</a>).\n",
    "- Initialisieren Sie die Forget-Gates mit einem hohen Bias, um das Erinnern zu Beginn des Trainingsprozesses zu fördern. \n",
    "- Bedenken Sie, dass die L2-Regularisierung bei der Arbeit mit LSTM-Netzen manchmal nicht hilfreich ist.\n",
    "- Es ist immer gut, Dropout im rekurrenten Teil des Netzes zu implementieren (nicht in der Zeitachse des Netzes)."
   ]
  },
  {
   "cell_type": "markdown",
   "metadata": {},
   "source": [
    "## Referenzen\n",
    "[1] J. Brownlee, Introduction to time series forecasting with python: how to prepare data and develop models to predict the future. 2018.<br>\n",
    "[2] J. Brownlee, Deep Learning for Time Series Forecasting: predict the Future with MLPs, CNNs and LSTMs in Python. 2018.<br>\n",
    "[3] J. Brownlee, Long Short-Term Memory Networks With Python: Develop Sequence Prediction Models With Deep Learning. 2017.<br>\n",
    "[4] G. Shmueli, Practical Time Series Forecasting with R: A Hands-On Guide, 2nd ed. Axelrod Schnall Publishers, 2016.<br>\n",
    "[5] I. Sutskever, O. Vinyals, and Q. V. Le, “Sequence to Sequence Learning with Neural Networks,” in Neural Information Processing Systems Conference, 2014.<br>\n",
    "[6] H. Sak, A. Senior, and F. Beaufays, “Long Short-Term Memory Recurrent Neural Network Architectures for Large Scale Acoustic Modeling.”<br>\n",
    "[7] K. Greff, R. K. Srivastava, J. Koutník, B. R. Steunebrink, and J. Schmidhuber, “LSTM: A Search Space Odyssey,” Trans. Neural Networks Learn. Syst., 2017.<br>\n",
    "[8] S. Hochreiter and Ju. Schmidhuber, “Long Short-Term Memory,” Neural Comput., vol. 9, no. 8, pp. 1735–1780, 1997.<br>\n",
    "[9] A. Graves, A. Mohamed and G. Hinton, \"Speech Recognition With Deep Recurrent Neural Networks\", 2013. <br>\n",
    "[10] PennState Eberly College of Science, “5.1 Decomposition Models | STAT 510,” 2018. [Online]. Available: https://onlinecourses.science.psu.edu/stat510/node/69/. [Accessed: 14-Nov-2018].<br>\n",
    "[11] A. Karpathy: The Unreasonable Effectiveness of Recurrent Neural Networks. http://karpathy.github.io/2015/05/21/rnn-effectiveness/. Version: 2015. [Last Checked: 28.09.2018]. <br>\n",
    "[12] J. Brownlee: How to develop Deep Learning Models for univariate time series forecasting. https://machinelearningmastery.com/how-to-develop-deep-learning-models-for-univariate-time-series-forecasting/. Version: October, 2018. [Last Checked: 19.05.2019]."
   ]
  },
  {
   "cell_type": "code",
   "execution_count": null,
   "metadata": {},
   "outputs": [],
   "source": []
  }
 ],
 "metadata": {
  "kernelspec": {
   "display_name": "AMALEA_3_13 (3.13.5)",
   "language": "python",
   "name": "python3"
  },
  "language_info": {
   "codemirror_mode": {
    "name": "ipython",
    "version": 3
   },
   "file_extension": ".py",
   "mimetype": "text/x-python",
   "name": "python",
   "nbconvert_exporter": "python",
   "pygments_lexer": "ipython3",
   "version": "3.13.5"
  }
 },
 "nbformat": 4,
 "nbformat_minor": 4
}
